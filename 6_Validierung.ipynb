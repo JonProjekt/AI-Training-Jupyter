{
 "cells": [
  {
   "cell_type": "markdown",
   "id": "643d6cf1",
   "metadata": {},
   "source": [
    "# Validierung"
   ]
  },
  {
   "cell_type": "code",
   "execution_count": 1,
   "id": "06b3d04a",
   "metadata": {},
   "outputs": [],
   "source": [
    "import os\n",
    "import numpy as np\n",
    "import pandas as pd\n",
    "import matplotlib.pyplot as plt\n",
    "from ultralytics import YOLO\n",
    "from sklearn.metrics import classification_report, confusion_matrix, precision_recall_fscore_support\n"
   ]
  },
  {
   "cell_type": "markdown",
   "id": "dd498992",
   "metadata": {},
   "source": [
    "# Einstellungen"
   ]
  },
  {
   "cell_type": "code",
   "execution_count": 2,
   "id": "003bfd63",
   "metadata": {},
   "outputs": [
    {
     "name": "stdout",
     "output_type": "stream",
     "text": [
      "Anzahl der Bilder zur Validierung: 315\n"
     ]
    }
   ],
   "source": [
    "# --- Einstellungen ---\n",
    "MODEL_PATH = r\"C:\\Users\\jonni\\OneDrive\\Dokumente\\GitHub\\AI-Training-Jupyter\\runs\\train\\yolo11n_custom\\weights\\best.pt\"\n",
    "TEST_IMAGES = r\"C:\\Users\\jonni\\OneDrive\\Dokumente\\GitHub\\Chairlift_Gefahrenerkennung\\01_Data_Jon\\Augmented\\Images_split\\Images\\train\\images\"    # Test Verzeichnis auswählen\n",
    "HYPERPARAMETERS = r\"C:\\Users\\jonni\\OneDrive\\Dokumente\\GitHub\\AI-Training-Jupyter\\conf_iou_tuning_per_class.csv\"\n",
    "\n",
    "# Anzahl der Bilder printen\n",
    "print(f\"Anzahl der Bilder zur Validierung: {len(os.listdir(TEST_IMAGES))}\")"
   ]
  },
  {
   "cell_type": "markdown",
   "id": "d4a429bf",
   "metadata": {},
   "source": [
    "Das trainierte Modell hat diese Test-Bilder noch nie \"gesehen\"."
   ]
  },
  {
   "cell_type": "code",
   "execution_count": 4,
   "id": "41a2a9a4",
   "metadata": {},
   "outputs": [
    {
     "name": "stdout",
     "output_type": "stream",
     "text": [
      "Geladene Klassen: {0: 'KLEBER', 1: 'EDDING', 2: 'TACKER'}\n"
     ]
    }
   ],
   "source": [
    "# CLASS_NAMES aus dem YOLO Modell extrahieren\n",
    "MODEL = YOLO(MODEL_PATH)\n",
    "CLASS_NAMES = MODEL.names\n",
    "N_CLASSES = len(CLASS_NAMES)\n",
    "\n",
    "print(f\"Geladene Klassen: {CLASS_NAMES}\")"
   ]
  },
  {
   "cell_type": "code",
   "execution_count": 5,
   "id": "d51d45eb",
   "metadata": {},
   "outputs": [
    {
     "name": "stdout",
     "output_type": "stream",
     "text": [
      "Gefundene Klassen in Hyperparameter-CSV: ['KLEBER', 'EDDING', 'TACKER']\n",
      "Validierungsbericht und Visualisierung erstellt (Markdown + PNG).\n"
     ]
    }
   ],
   "source": [
    "# Trennzeichen automatisch erkennen\n",
    "try:\n",
    "    tuning = pd.read_csv(HYPERPARAMETERS, sep=\";\")\n",
    "except Exception:\n",
    "    tuning = pd.read_csv(HYPERPARAMETERS, sep=\",\")\n",
    "if 'Klasse' not in tuning.columns:\n",
    "    tuning.rename(columns={tuning.columns[0]: 'Klasse'}, inplace=True)\n",
    "print(f\"Gefundene Klassen in Hyperparameter-CSV: {tuning['Klasse'].tolist()}\")\n",
    "\n",
    "CLASS_NAMES = tuning['Klasse'].tolist()\n",
    "N_CLASSES = len(CLASS_NAMES)\n",
    "\n",
    "conf_threshs = dict(zip(tuning['Klasse'], tuning['Best_Conf']))\n",
    "iou_threshs = dict(zip(tuning['Klasse'], tuning['Best_IoU']))\n",
    "\n",
    "# --- Hilfsfunktion für Labelpfad (systemunabhängig) ---\n",
    "def get_label_path(img_path):\n",
    "    dir_path, file_name = os.path.split(img_path)\n",
    "    dir_path_labels = dir_path.replace(f\"{os.sep}images\", f\"{os.sep}labels\")\n",
    "    base, _ = os.path.splitext(file_name)\n",
    "    label_path = os.path.join(dir_path_labels, base + \".txt\")\n",
    "    return label_path\n",
    "\n",
    "# --- Vorhersagen auf Testdatensatz ---\n",
    "model = YOLO(MODEL_PATH)\n",
    "results = model.predict(TEST_IMAGES, save=False, conf=0.01, iou=0.01, stream=True, verbose=False)\n",
    "\n",
    "y_true, y_pred = [], []\n",
    "\n",
    "for r in results:\n",
    "    img_path = r.path\n",
    "    boxes = r.boxes.xyxy.cpu().numpy() if r.boxes is not None else np.zeros((0,4))\n",
    "    scores = r.boxes.conf.cpu().numpy() if r.boxes is not None else np.zeros((0,))\n",
    "    classes = r.boxes.cls.cpu().numpy().astype(int) if r.boxes is not None else np.zeros((0,))\n",
    "    label_path = get_label_path(img_path)\n",
    "    gts = []\n",
    "    if os.path.isfile(label_path):\n",
    "        with open(label_path, 'r') as f:\n",
    "            for line in f:\n",
    "                parts = line.strip().split()\n",
    "                cls, x, y, w, h = int(float(parts[0])), float(parts[1]), float(parts[2]), float(parts[3]), float(parts[4])\n",
    "                img = plt.imread(img_path)\n",
    "                h_img, w_img = img.shape[:2]\n",
    "                cx, cy = x*w_img, y*h_img\n",
    "                bw, bh = w*w_img, h*h_img\n",
    "                x1, y1 = max(0, cx-bw/2), max(0, cy-bh/2)\n",
    "                x2, y2 = min(w_img, cx+bw/2), min(h_img, cy+bh/2)\n",
    "                gts.append([cls, x1, y1, x2, y2])\n",
    "    gts = np.array(gts)\n",
    "\n",
    "    for k, name in enumerate(CLASS_NAMES):\n",
    "        conf_thr = float(conf_threshs[name])\n",
    "        iou_thr = float(iou_threshs[name])\n",
    "        keep = (classes == k) & (scores >= conf_thr)\n",
    "        pred_boxes = boxes[keep]\n",
    "        gt_boxes = gts[gts[:,0]==k][:,1:] if gts.size>0 else np.empty((0,4))\n",
    "        used_gt = set()\n",
    "\n",
    "        # Für jede Prediction: Ist es ein Match (TP), sonst FP\n",
    "        for pb in pred_boxes:\n",
    "            best_iou = 0\n",
    "            best_j = -1\n",
    "            for j, gb in enumerate(gt_boxes):\n",
    "                if j in used_gt:\n",
    "                    continue\n",
    "                xA = max(pb[0], gb[0])\n",
    "                yA = max(pb[1], gb[1])\n",
    "                xB = min(pb[2], gb[2])\n",
    "                yB = min(pb[3], gb[3])\n",
    "                interArea = max(0, xB - xA) * max(0, yB - yA)\n",
    "                pb_area = max(1e-8, (pb[2]-pb[0])*(pb[3]-pb[1]))\n",
    "                gb_area = max(1e-8, (gb[2]-gb[0])*(gb[3]-gb[1]))\n",
    "                iou = interArea / float(pb_area + gb_area - interArea + 1e-8)\n",
    "                if iou > best_iou:\n",
    "                    best_iou = iou\n",
    "                    best_j = j\n",
    "            if best_iou >= iou_thr and best_j >= 0:\n",
    "                y_true.append(k)\n",
    "                y_pred.append(k)\n",
    "                used_gt.add(best_j)\n",
    "            else:\n",
    "                y_true.append(N_CLASSES)     # Dummyklasse für \"kein Objekt\"\n",
    "                y_pred.append(k)             # Falsch erkannt als k\n",
    "\n",
    "        # Für jede nicht gematchte GT-Box: FN\n",
    "        for j in range(len(gt_boxes)):\n",
    "            if j not in used_gt:\n",
    "                y_true.append(k)\n",
    "                y_pred.append(N_CLASSES)     # Nicht erkannt\n",
    "\n",
    "# Dummyklasse \"Hintergrund/Nicht erkannt\"\n",
    "if any([x==N_CLASSES for x in y_true+y_pred]):\n",
    "    full_names = CLASS_NAMES + [\"Nicht erkannt\"]\n",
    "else:\n",
    "    full_names = CLASS_NAMES\n",
    "\n",
    "# Jetzt ist y_true/y_pred exakt gleich lang!\n",
    "report = classification_report(y_true, y_pred, target_names=full_names, digits=3, output_dict=True, zero_division=0)\n",
    "df_report = pd.DataFrame(report).transpose()\n",
    "\n",
    "cm = confusion_matrix(y_true, y_pred, labels=list(range(len(full_names))))\n",
    "\n",
    "# --- Visualisierung: Confusion Matrix ---\n",
    "fig, ax = plt.subplots(figsize=(6,6))\n",
    "im = ax.imshow(cm, cmap='Blues')\n",
    "ax.set_xticks(np.arange(len(CLASS_NAMES)))\n",
    "ax.set_yticks(np.arange(len(CLASS_NAMES)))\n",
    "ax.set_xticklabels(CLASS_NAMES, rotation=45, ha=\"right\")\n",
    "ax.set_yticklabels(CLASS_NAMES)\n",
    "plt.xlabel(\"Vorhergesagte Klasse\")\n",
    "plt.ylabel(\"Tatsächliche Klasse\")\n",
    "plt.title(\"Confusion Matrix – Test-Datensatz\")\n",
    "plt.colorbar(im)\n",
    "for i in range(len(CLASS_NAMES)):\n",
    "    for j in range(len(CLASS_NAMES)):\n",
    "        ax.text(j, i, cm[i, j], ha=\"center\", va=\"center\", color=\"black\")\n",
    "plt.tight_layout()\n",
    "plt.savefig(\"PLOT_validation_confusion_matrix.png\")\n",
    "plt.close()\n",
    "\n",
    "print(\"Validierungsbericht und Visualisierung erstellt (Markdown + PNG).\")\n"
   ]
  }
 ],
 "metadata": {
  "kernelspec": {
   "display_name": "Python 3",
   "language": "python",
   "name": "python3"
  },
  "language_info": {
   "codemirror_mode": {
    "name": "ipython",
    "version": 3
   },
   "file_extension": ".py",
   "mimetype": "text/x-python",
   "name": "python",
   "nbconvert_exporter": "python",
   "pygments_lexer": "ipython3",
   "version": "3.12.10"
  }
 },
 "nbformat": 4,
 "nbformat_minor": 5
}
