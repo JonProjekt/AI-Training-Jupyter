{
 "cells": [
  {
   "cell_type": "markdown",
   "id": "5034682d",
   "metadata": {},
   "source": [
    "# TRAINING"
   ]
  },
  {
   "cell_type": "code",
   "execution_count": 1,
   "id": "e0c0c6e3",
   "metadata": {},
   "outputs": [
    {
     "name": "stdout",
     "output_type": "stream",
     "text": [
      "Requirement already satisfied: pip in c:\\users\\jonni\\appdata\\local\\programs\\python\\python312\\lib\\site-packages (25.0.1)\n",
      "Collecting pip\n",
      "  Using cached pip-25.1.1-py3-none-any.whl.metadata (3.6 kB)\n",
      "Using cached pip-25.1.1-py3-none-any.whl (1.8 MB)\n",
      "Installing collected packages: pip\n",
      "  Attempting uninstall: pip\n",
      "    Found existing installation: pip 25.0.1\n",
      "    Uninstalling pip-25.0.1:\n",
      "      Successfully uninstalled pip-25.0.1\n",
      "Successfully installed pip-25.1.1\n",
      "Collecting ultralytics\n",
      "  Downloading ultralytics-8.3.148-py3-none-any.whl.metadata (37 kB)\n",
      "Requirement already satisfied: numpy>=1.23.0 in c:\\users\\jonni\\appdata\\local\\programs\\python\\python312\\lib\\site-packages (from ultralytics) (2.2.6)\n",
      "Requirement already satisfied: matplotlib>=3.3.0 in c:\\users\\jonni\\appdata\\local\\programs\\python\\python312\\lib\\site-packages (from ultralytics) (3.10.3)\n",
      "Collecting opencv-python>=4.6.0 (from ultralytics)\n",
      "  Using cached opencv_python-4.11.0.86-cp37-abi3-win_amd64.whl.metadata (20 kB)\n",
      "Requirement already satisfied: pillow>=7.1.2 in c:\\users\\jonni\\appdata\\local\\programs\\python\\python312\\lib\\site-packages (from ultralytics) (11.2.1)\n",
      "Requirement already satisfied: pyyaml>=5.3.1 in c:\\users\\jonni\\appdata\\local\\programs\\python\\python312\\lib\\site-packages (from ultralytics) (6.0.2)\n",
      "Requirement already satisfied: requests>=2.23.0 in c:\\users\\jonni\\appdata\\local\\programs\\python\\python312\\lib\\site-packages (from ultralytics) (2.32.3)\n",
      "Requirement already satisfied: scipy>=1.4.1 in c:\\users\\jonni\\appdata\\local\\programs\\python\\python312\\lib\\site-packages (from ultralytics) (1.15.3)\n",
      "Requirement already satisfied: torch>=1.8.0 in c:\\users\\jonni\\appdata\\local\\programs\\python\\python312\\lib\\site-packages (from ultralytics) (2.5.1+cu121)\n",
      "Requirement already satisfied: torchvision>=0.9.0 in c:\\users\\jonni\\appdata\\local\\programs\\python\\python312\\lib\\site-packages (from ultralytics) (0.20.1+cu121)\n",
      "Requirement already satisfied: tqdm>=4.64.0 in c:\\users\\jonni\\appdata\\local\\programs\\python\\python312\\lib\\site-packages (from ultralytics) (4.67.1)\n",
      "Requirement already satisfied: psutil in c:\\users\\jonni\\appdata\\roaming\\python\\python312\\site-packages (from ultralytics) (7.0.0)\n",
      "Collecting py-cpuinfo (from ultralytics)\n",
      "  Using cached py_cpuinfo-9.0.0-py3-none-any.whl.metadata (794 bytes)\n",
      "Requirement already satisfied: pandas>=1.1.4 in c:\\users\\jonni\\appdata\\local\\programs\\python\\python312\\lib\\site-packages (from ultralytics) (2.2.3)\n",
      "Collecting ultralytics-thop>=2.0.0 (from ultralytics)\n",
      "  Using cached ultralytics_thop-2.0.14-py3-none-any.whl.metadata (9.4 kB)\n",
      "Requirement already satisfied: contourpy>=1.0.1 in c:\\users\\jonni\\appdata\\local\\programs\\python\\python312\\lib\\site-packages (from matplotlib>=3.3.0->ultralytics) (1.3.2)\n",
      "Requirement already satisfied: cycler>=0.10 in c:\\users\\jonni\\appdata\\local\\programs\\python\\python312\\lib\\site-packages (from matplotlib>=3.3.0->ultralytics) (0.12.1)\n",
      "Requirement already satisfied: fonttools>=4.22.0 in c:\\users\\jonni\\appdata\\local\\programs\\python\\python312\\lib\\site-packages (from matplotlib>=3.3.0->ultralytics) (4.58.0)\n",
      "Requirement already satisfied: kiwisolver>=1.3.1 in c:\\users\\jonni\\appdata\\local\\programs\\python\\python312\\lib\\site-packages (from matplotlib>=3.3.0->ultralytics) (1.4.8)\n",
      "Requirement already satisfied: packaging>=20.0 in c:\\users\\jonni\\appdata\\local\\programs\\python\\python312\\lib\\site-packages (from matplotlib>=3.3.0->ultralytics) (24.2)\n",
      "Requirement already satisfied: pyparsing>=2.3.1 in c:\\users\\jonni\\appdata\\local\\programs\\python\\python312\\lib\\site-packages (from matplotlib>=3.3.0->ultralytics) (3.2.3)\n",
      "Requirement already satisfied: python-dateutil>=2.7 in c:\\users\\jonni\\appdata\\roaming\\python\\python312\\site-packages (from matplotlib>=3.3.0->ultralytics) (2.9.0.post0)\n",
      "Requirement already satisfied: pytz>=2020.1 in c:\\users\\jonni\\appdata\\local\\programs\\python\\python312\\lib\\site-packages (from pandas>=1.1.4->ultralytics) (2025.2)\n",
      "Requirement already satisfied: tzdata>=2022.7 in c:\\users\\jonni\\appdata\\local\\programs\\python\\python312\\lib\\site-packages (from pandas>=1.1.4->ultralytics) (2025.2)\n",
      "Requirement already satisfied: six>=1.5 in c:\\users\\jonni\\appdata\\roaming\\python\\python312\\site-packages (from python-dateutil>=2.7->matplotlib>=3.3.0->ultralytics) (1.17.0)\n",
      "Requirement already satisfied: charset-normalizer<4,>=2 in c:\\users\\jonni\\appdata\\local\\programs\\python\\python312\\lib\\site-packages (from requests>=2.23.0->ultralytics) (3.4.2)\n",
      "Requirement already satisfied: idna<4,>=2.5 in c:\\users\\jonni\\appdata\\local\\programs\\python\\python312\\lib\\site-packages (from requests>=2.23.0->ultralytics) (3.10)\n",
      "Requirement already satisfied: urllib3<3,>=1.21.1 in c:\\users\\jonni\\appdata\\local\\programs\\python\\python312\\lib\\site-packages (from requests>=2.23.0->ultralytics) (2.4.0)\n",
      "Requirement already satisfied: certifi>=2017.4.17 in c:\\users\\jonni\\appdata\\local\\programs\\python\\python312\\lib\\site-packages (from requests>=2.23.0->ultralytics) (2025.4.26)\n",
      "Requirement already satisfied: filelock in c:\\users\\jonni\\appdata\\local\\programs\\python\\python312\\lib\\site-packages (from torch>=1.8.0->ultralytics) (3.18.0)\n",
      "Requirement already satisfied: typing-extensions>=4.8.0 in c:\\users\\jonni\\appdata\\local\\programs\\python\\python312\\lib\\site-packages (from torch>=1.8.0->ultralytics) (4.13.2)\n",
      "Requirement already satisfied: networkx in c:\\users\\jonni\\appdata\\local\\programs\\python\\python312\\lib\\site-packages (from torch>=1.8.0->ultralytics) (3.4.2)\n",
      "Requirement already satisfied: jinja2 in c:\\users\\jonni\\appdata\\local\\programs\\python\\python312\\lib\\site-packages (from torch>=1.8.0->ultralytics) (3.1.6)\n",
      "Requirement already satisfied: fsspec in c:\\users\\jonni\\appdata\\local\\programs\\python\\python312\\lib\\site-packages (from torch>=1.8.0->ultralytics) (2025.3.2)\n",
      "Requirement already satisfied: setuptools in c:\\users\\jonni\\appdata\\local\\programs\\python\\python312\\lib\\site-packages (from torch>=1.8.0->ultralytics) (80.7.1)\n",
      "Requirement already satisfied: sympy==1.13.1 in c:\\users\\jonni\\appdata\\local\\programs\\python\\python312\\lib\\site-packages (from torch>=1.8.0->ultralytics) (1.13.1)\n",
      "Requirement already satisfied: mpmath<1.4,>=1.1.0 in c:\\users\\jonni\\appdata\\local\\programs\\python\\python312\\lib\\site-packages (from sympy==1.13.1->torch>=1.8.0->ultralytics) (1.3.0)\n",
      "Requirement already satisfied: colorama in c:\\users\\jonni\\appdata\\roaming\\python\\python312\\site-packages (from tqdm>=4.64.0->ultralytics) (0.4.6)\n",
      "Requirement already satisfied: MarkupSafe>=2.0 in c:\\users\\jonni\\appdata\\local\\programs\\python\\python312\\lib\\site-packages (from jinja2->torch>=1.8.0->ultralytics) (3.0.2)\n",
      "Downloading ultralytics-8.3.148-py3-none-any.whl (1.0 MB)\n",
      "   ---------------------------------------- 0.0/1.0 MB ? eta -:--:--\n",
      "   ---------------------------------------- 1.0/1.0 MB 24.3 MB/s eta 0:00:00\n",
      "Using cached opencv_python-4.11.0.86-cp37-abi3-win_amd64.whl (39.5 MB)\n",
      "Using cached ultralytics_thop-2.0.14-py3-none-any.whl (26 kB)\n",
      "Using cached py_cpuinfo-9.0.0-py3-none-any.whl (22 kB)\n",
      "Installing collected packages: py-cpuinfo, opencv-python, ultralytics-thop, ultralytics\n",
      "\n",
      "   ---------------------------------------- 0/4 [py-cpuinfo]\n",
      "   ---------- ----------------------------- 1/4 [opencv-python]\n",
      "\n",
      "Note: you may need to restart the kernel to use updated packages.\n"
     ]
    },
    {
     "name": "stderr",
     "output_type": "stream",
     "text": [
      "ERROR: Could not install packages due to an OSError: [WinError 5] Zugriff verweigert: 'c:\\\\Users\\\\jonni\\\\AppData\\\\Local\\\\Programs\\\\Python\\\\Python312\\\\Lib\\\\site-packages\\\\cv2\\\\cv2.pyd'\n",
      "Consider using the `--user` option or check the permissions.\n",
      "\n"
     ]
    }
   ],
   "source": [
    "# 1. NVIDIA-Treiber installieren (aktuellste Version, Download von NVIDIA.com)\n",
    "# 2. CUDA Toolkit installieren (https://developer.nvidia.com/cuda-downloads)\n",
    "# 3. Ultralytics installieren (automatisch inkl. torch/cuda support)\n",
    "!python -m pip install --upgrade pip\n",
    "%pip install ultralytics --upgrade\n",
    "#%pip install torch torchvision torchaudio --index-url https://download.pytorch.org/whl/cu128"
   ]
  },
  {
   "cell_type": "markdown",
   "id": "d46fa6e1",
   "metadata": {},
   "source": [
    "Nach der Installation prüfe in Python, ob CUDA verfügbar ist:"
   ]
  },
  {
   "cell_type": "code",
   "execution_count": 2,
   "id": "e112a591",
   "metadata": {},
   "outputs": [
    {
     "name": "stdout",
     "output_type": "stream",
     "text": [
      "True\n"
     ]
    }
   ],
   "source": [
    "import torch\n",
    "print(torch.cuda.is_available())  # True = CUDA bereit\n"
   ]
  },
  {
   "cell_type": "markdown",
   "id": "17d7a43d",
   "metadata": {},
   "source": [
    "# Pfad zur YAML Datei eintragen\n",
    "\n",
    "Passe bei Bedarf die Parameter an (epochs, batch, imgsz …)\n",
    "\n",
    "Starte das Skript – Training läuft!"
   ]
  },
  {
   "cell_type": "code",
   "execution_count": 5,
   "id": "a18a970c",
   "metadata": {},
   "outputs": [
    {
     "name": "stdout",
     "output_type": "stream",
     "text": [
      "Collecting ultralytics\n",
      "  Using cached ultralytics-8.3.148-py3-none-any.whl.metadata (37 kB)\n",
      "Requirement already satisfied: numpy>=1.23.0 in c:\\users\\jonni\\appdata\\local\\programs\\python\\python312\\lib\\site-packages (from ultralytics) (2.2.6)\n",
      "Requirement already satisfied: matplotlib>=3.3.0 in c:\\users\\jonni\\appdata\\local\\programs\\python\\python312\\lib\\site-packages (from ultralytics) (3.10.3)\n",
      "Collecting opencv-python>=4.6.0 (from ultralytics)\n",
      "  Using cached opencv_python-4.11.0.86-cp37-abi3-win_amd64.whl.metadata (20 kB)\n",
      "Requirement already satisfied: pillow>=7.1.2 in c:\\users\\jonni\\appdata\\local\\programs\\python\\python312\\lib\\site-packages (from ultralytics) (11.2.1)\n",
      "Requirement already satisfied: pyyaml>=5.3.1 in c:\\users\\jonni\\appdata\\local\\programs\\python\\python312\\lib\\site-packages (from ultralytics) (6.0.2)\n",
      "Requirement already satisfied: requests>=2.23.0 in c:\\users\\jonni\\appdata\\local\\programs\\python\\python312\\lib\\site-packages (from ultralytics) (2.32.3)\n",
      "Requirement already satisfied: scipy>=1.4.1 in c:\\users\\jonni\\appdata\\local\\programs\\python\\python312\\lib\\site-packages (from ultralytics) (1.15.3)\n",
      "Requirement already satisfied: torch>=1.8.0 in c:\\users\\jonni\\appdata\\local\\programs\\python\\python312\\lib\\site-packages (from ultralytics) (2.5.1+cu121)\n",
      "Requirement already satisfied: torchvision>=0.9.0 in c:\\users\\jonni\\appdata\\local\\programs\\python\\python312\\lib\\site-packages (from ultralytics) (0.20.1+cu121)\n",
      "Requirement already satisfied: tqdm>=4.64.0 in c:\\users\\jonni\\appdata\\local\\programs\\python\\python312\\lib\\site-packages (from ultralytics) (4.67.1)\n",
      "Requirement already satisfied: psutil in c:\\users\\jonni\\appdata\\roaming\\python\\python312\\site-packages (from ultralytics) (7.0.0)\n",
      "Requirement already satisfied: py-cpuinfo in c:\\users\\jonni\\appdata\\local\\programs\\python\\python312\\lib\\site-packages (from ultralytics) (9.0.0)\n",
      "Requirement already satisfied: pandas>=1.1.4 in c:\\users\\jonni\\appdata\\local\\programs\\python\\python312\\lib\\site-packages (from ultralytics) (2.2.3)\n",
      "Collecting ultralytics-thop>=2.0.0 (from ultralytics)\n",
      "  Using cached ultralytics_thop-2.0.14-py3-none-any.whl.metadata (9.4 kB)\n",
      "Requirement already satisfied: contourpy>=1.0.1 in c:\\users\\jonni\\appdata\\local\\programs\\python\\python312\\lib\\site-packages (from matplotlib>=3.3.0->ultralytics) (1.3.2)\n",
      "Requirement already satisfied: cycler>=0.10 in c:\\users\\jonni\\appdata\\local\\programs\\python\\python312\\lib\\site-packages (from matplotlib>=3.3.0->ultralytics) (0.12.1)\n",
      "Requirement already satisfied: fonttools>=4.22.0 in c:\\users\\jonni\\appdata\\local\\programs\\python\\python312\\lib\\site-packages (from matplotlib>=3.3.0->ultralytics) (4.58.0)\n",
      "Requirement already satisfied: kiwisolver>=1.3.1 in c:\\users\\jonni\\appdata\\local\\programs\\python\\python312\\lib\\site-packages (from matplotlib>=3.3.0->ultralytics) (1.4.8)\n",
      "Requirement already satisfied: packaging>=20.0 in c:\\users\\jonni\\appdata\\local\\programs\\python\\python312\\lib\\site-packages (from matplotlib>=3.3.0->ultralytics) (24.2)\n",
      "Requirement already satisfied: pyparsing>=2.3.1 in c:\\users\\jonni\\appdata\\local\\programs\\python\\python312\\lib\\site-packages (from matplotlib>=3.3.0->ultralytics) (3.2.3)\n",
      "Requirement already satisfied: python-dateutil>=2.7 in c:\\users\\jonni\\appdata\\roaming\\python\\python312\\site-packages (from matplotlib>=3.3.0->ultralytics) (2.9.0.post0)\n",
      "Requirement already satisfied: pytz>=2020.1 in c:\\users\\jonni\\appdata\\local\\programs\\python\\python312\\lib\\site-packages (from pandas>=1.1.4->ultralytics) (2025.2)\n",
      "Requirement already satisfied: tzdata>=2022.7 in c:\\users\\jonni\\appdata\\local\\programs\\python\\python312\\lib\\site-packages (from pandas>=1.1.4->ultralytics) (2025.2)\n",
      "Requirement already satisfied: six>=1.5 in c:\\users\\jonni\\appdata\\roaming\\python\\python312\\site-packages (from python-dateutil>=2.7->matplotlib>=3.3.0->ultralytics) (1.17.0)\n",
      "Requirement already satisfied: charset-normalizer<4,>=2 in c:\\users\\jonni\\appdata\\local\\programs\\python\\python312\\lib\\site-packages (from requests>=2.23.0->ultralytics) (3.4.2)\n",
      "Requirement already satisfied: idna<4,>=2.5 in c:\\users\\jonni\\appdata\\local\\programs\\python\\python312\\lib\\site-packages (from requests>=2.23.0->ultralytics) (3.10)\n",
      "Requirement already satisfied: urllib3<3,>=1.21.1 in c:\\users\\jonni\\appdata\\local\\programs\\python\\python312\\lib\\site-packages (from requests>=2.23.0->ultralytics) (2.4.0)\n",
      "Requirement already satisfied: certifi>=2017.4.17 in c:\\users\\jonni\\appdata\\local\\programs\\python\\python312\\lib\\site-packages (from requests>=2.23.0->ultralytics) (2025.4.26)\n",
      "Requirement already satisfied: filelock in c:\\users\\jonni\\appdata\\local\\programs\\python\\python312\\lib\\site-packages (from torch>=1.8.0->ultralytics) (3.18.0)\n",
      "Requirement already satisfied: typing-extensions>=4.8.0 in c:\\users\\jonni\\appdata\\local\\programs\\python\\python312\\lib\\site-packages (from torch>=1.8.0->ultralytics) (4.13.2)\n",
      "Requirement already satisfied: networkx in c:\\users\\jonni\\appdata\\local\\programs\\python\\python312\\lib\\site-packages (from torch>=1.8.0->ultralytics) (3.4.2)\n",
      "Requirement already satisfied: jinja2 in c:\\users\\jonni\\appdata\\local\\programs\\python\\python312\\lib\\site-packages (from torch>=1.8.0->ultralytics) (3.1.6)\n",
      "Requirement already satisfied: fsspec in c:\\users\\jonni\\appdata\\local\\programs\\python\\python312\\lib\\site-packages (from torch>=1.8.0->ultralytics) (2025.3.2)\n",
      "Requirement already satisfied: setuptools in c:\\users\\jonni\\appdata\\local\\programs\\python\\python312\\lib\\site-packages (from torch>=1.8.0->ultralytics) (80.7.1)\n",
      "Requirement already satisfied: sympy==1.13.1 in c:\\users\\jonni\\appdata\\local\\programs\\python\\python312\\lib\\site-packages (from torch>=1.8.0->ultralytics) (1.13.1)\n",
      "Requirement already satisfied: mpmath<1.4,>=1.1.0 in c:\\users\\jonni\\appdata\\local\\programs\\python\\python312\\lib\\site-packages (from sympy==1.13.1->torch>=1.8.0->ultralytics) (1.3.0)\n",
      "Requirement already satisfied: colorama in c:\\users\\jonni\\appdata\\roaming\\python\\python312\\site-packages (from tqdm>=4.64.0->ultralytics) (0.4.6)\n",
      "Requirement already satisfied: MarkupSafe>=2.0 in c:\\users\\jonni\\appdata\\local\\programs\\python\\python312\\lib\\site-packages (from jinja2->torch>=1.8.0->ultralytics) (3.0.2)\n",
      "Using cached ultralytics-8.3.148-py3-none-any.whl (1.0 MB)\n",
      "Using cached opencv_python-4.11.0.86-cp37-abi3-win_amd64.whl (39.5 MB)\n",
      "Using cached ultralytics_thop-2.0.14-py3-none-any.whl (26 kB)\n",
      "Installing collected packages: opencv-python, ultralytics-thop, ultralytics\n",
      "\n",
      "   ---------------------------------------- 0/3 [opencv-python]\n",
      "   ---------------------------------------- 0/3 [opencv-python]\n",
      "   ---------------------------------------- 0/3 [opencv-python]\n",
      "   ---------------------------------------- 0/3 [opencv-python]\n",
      "   ------------- -------------------------- 1/3 [ultralytics-thop]\n",
      "   -------------------------- ------------- 2/3 [ultralytics]\n",
      "   -------------------------- ------------- 2/3 [ultralytics]\n",
      "   -------------------------- ------------- 2/3 [ultralytics]\n",
      "   -------------------------- ------------- 2/3 [ultralytics]\n",
      "   -------------------------- ------------- 2/3 [ultralytics]\n",
      "   -------------------------- ------------- 2/3 [ultralytics]\n",
      "   -------------------------- ------------- 2/3 [ultralytics]\n",
      "   -------------------------- ------------- 2/3 [ultralytics]\n",
      "   -------------------------- ------------- 2/3 [ultralytics]\n",
      "   -------------------------- ------------- 2/3 [ultralytics]\n",
      "   -------------------------- ------------- 2/3 [ultralytics]\n",
      "   -------------------------- ------------- 2/3 [ultralytics]\n",
      "   -------------------------- ------------- 2/3 [ultralytics]\n",
      "   -------------------------- ------------- 2/3 [ultralytics]\n",
      "   -------------------------- ------------- 2/3 [ultralytics]\n",
      "   -------------------------- ------------- 2/3 [ultralytics]\n",
      "   -------------------------- ------------- 2/3 [ultralytics]\n",
      "   -------------------------- ------------- 2/3 [ultralytics]\n",
      "   -------------------------- ------------- 2/3 [ultralytics]\n",
      "   -------------------------- ------------- 2/3 [ultralytics]\n",
      "   -------------------------- ------------- 2/3 [ultralytics]\n",
      "   ---------------------------------------- 3/3 [ultralytics]\n",
      "\n",
      "Successfully installed opencv-python-4.11.0.86 ultralytics-8.3.148 ultralytics-thop-2.0.14\n"
     ]
    }
   ],
   "source": [
    "!pip install --user ultralytics\n"
   ]
  },
  {
   "cell_type": "code",
   "execution_count": 6,
   "id": "f2618d43",
   "metadata": {},
   "outputs": [],
   "source": [
    "from ultralytics import YOLO\n",
    "\n",
    "# --- Einstellungen (bitte ggf. anpassen) ---\n",
    "\n",
    "MODEL_PATH = 'yolo11n.pt'               # Nano Modell, schnell und ressourcensparend (Standard)\n",
    "\n",
    "DATASET_YAML = r\"C:\\Users\\jonni\\OneDrive\\Dokumente\\GitHub\\Chairlift_Gefahrenerkennung\\01_Data_Jon\\Augmented\\Images_split\\Images\\dataset.yaml\"   # Pfad zur dataset.yaml (wie vorhin erzeugt)\n"
   ]
  },
  {
   "cell_type": "markdown",
   "id": "b93927c1",
   "metadata": {},
   "source": [
    "### Trainings-Argumente einstellen"
   ]
  },
  {
   "cell_type": "markdown",
   "id": "5df701dd",
   "metadata": {},
   "source": [
    "| Argument       | Bedeutung (einfach erklärt)                                                          | Default           |\n",
    "| -------------- | ------------------------------------------------------------------------------------ | ----------------- |\n",
    "| `epochs`       | Wie oft wird der ganze Datensatz \"durchtrainiert\"? (Mehr = besser, aber auch länger) | 100               |\n",
    "| `imgsz`        | Bildgrösse, auf die vor Training skaliert wird.                                      | 640               |\n",
    "| `batch`        | Wie viele Bilder werden gleichzeitig an die GPU/CPU geschickt?                       | 16                |\n",
    "| `device`       | 0 = erste GPU, 1 = zweite GPU, 'cpu' = Prozessor                                     | 0                 |\n",
    "| `optimizer`    | Optimierungsverfahren, das das Lernen steuert.                                       | 'auto'            |\n",
    "| `lr0`          | Startwert der Lernrate                                                               | 0.01              |\n",
    "| `lrf`          | Endwert der Lernrate, als Anteil von lr0                                             | 0.01              |\n",
    "| `momentum`     | Schwung der Gewichtsaktualisierung (wichtig bei SGD)                                 | 0.937             |\n",
    "| `weight_decay` | Bestraft zu komplexe Modelle (Überanpassungsschutz)                                  | 0.0005            |\n",
    "| `patience`     | Wieviele Epochen abwarten, wenn keine Verbesserung mehr kommt?                       | 50                |\n",
    "| `cos_lr`       | Nutze Cosine-Learningrate, oft für längeres, sanfteres Lernen                        | False             |\n",
    "| `project`      | Ordner, in dem alles gespeichert wird                                                | 'runs/train'      |\n",
    "| `name`         | Name des Experiments (wird im Projektordner gespeichert)                             | 'yolo11n\\_custom' |\n",
    "| `pretrained`   | Beginne mit vortrainiertem Modell (schneller & meist bessere Ergebnisse)             | True              |\n",
    "| `resume`       | Falls Training abbricht, kannst du damit weitermachen                                | False             |\n",
    "| `val`          | Nach jedem Durchgang das Modell testen/validieren                                    | True              |\n",
    "| `workers`      | CPU-Prozesse fürs Datenladen (mehr ist schneller, je nach PC)                        | 4                 |\n"
   ]
  },
  {
   "cell_type": "code",
   "execution_count": 7,
   "id": "a44bc121",
   "metadata": {},
   "outputs": [],
   "source": [
    "# Trainingsparameter (alle wichtigsten Argumente, mit Defaults)\n",
    "TRAIN_ARGS = {\n",
    "    'epochs': 100,           # Wie oft das ganze Dataset gesehen wird (Standard: 100)\n",
    "    'imgsz': 640,            # Bildgrösse, Standard ist 640 (je nach GPU bis 1280 möglich)\n",
    "    'batch': 32,             # Batch-Grösse, Anzahl Bilder pro Schritt (je nach VRAM 8–32)\n",
    "    'device': 0,             # GPU-Index (0=erste GPU, 'cpu'=CPU nutzen, [0,1] für mehrere GPUs)\n",
    "    'optimizer': 'auto',     # Optimizer (z.B. SGD, Adam, AdamW oder 'auto' für Automatik)\n",
    "    'lr0': 0.01,             # Start-Lernrate\n",
    "    'lrf': 0.01,             # End-Lernrate als Faktor von lr0. Also 0.01 = 1% von lr0\n",
    "    'momentum': 0.937,       # Nur für SGD, \"Schwung\" der Updates\n",
    "    'weight_decay': 0.0005,  # Regularisierung gegen Überanpassung\n",
    "    'patience': 50,          # Stoppt Training, falls Val-Loss nicht besser wird (Epochen)\n",
    "    'cos_lr': False,         # Cosine-Learningrate statt linear (True/False)\n",
    "    'project': 'runs/train', # Wohin die Ergebnisse gespeichert werden\n",
    "    'name': 'yolo11n_custom',# Name des Experiments (wird als Ordner erzeugt)\n",
    "    'pretrained': True,      # Pretrained Modell nutzen (empfohlen)\n",
    "    'resume': False,         # Training fortsetzen, falls gestoppt\n",
    "    'val': True,             # Nach jedem Epoch validieren (empfohlen)\n",
    "    'workers': 14,            # Anzahl CPU-Worker fürs Laden (je nach PC 2–8)\n",
    "    \n",
    "    # Data Augmentation direkt im Training (Stärke, Methode)\n",
    "    'hsv_h': 0.015,             # Farbtonverschiebung (0.0–0.5), 0=aus\n",
    "    'hsv_s': 0.7,               # Sättigung (0.0–0.9)\n",
    "    'hsv_v': 0.4,               # Helligkeit (0.0–0.9)\n",
    "    'degrees': 0.0,             # Rotation in Grad, z. B. 10\n",
    "    'translate': 0.1,           # Verschiebung als Anteil, z. B. 0.1 = 10%\n",
    "    'scale': 0.5,               # Skalierung (0=aus, 0.5=±50%)\n",
    "    'shear': 0.0,               # Scherung (0–2.0)\n",
    "    'perspective': 0.0,         # Perspektivische Verzerrung (0–0.001)\n",
    "    'flipud': 0.0,              # Vertikal spiegeln (Wahrscheinlichkeit, 0–1)\n",
    "    'fliplr': 0.5,              # Horizontal spiegeln (Wahrscheinlichkeit, 0–1)\n",
    "    'mosaic': 1.0,              # Mosaic-Augmentation (0–1), meist anlassen\n",
    "    'mixup': 0.0,               # Mixup (0–1), Bilder kombinieren\n",
    "\n",
    "    # Loss-Anteile für Boxen, Klassifikation, Objekt\n",
    "    'box': 7.5,                 # Box-Loss-Gewichtung\n",
    "    'cls': 0.5,                 # Klassifikations-Loss-Gewichtung\n",
    "    'dfl': 1.5,                 # Distribution Focal Loss (0–10)\n",
    "\n",
    "    # Early stopping deaktivieren\n",
    "    'patience': 50,            # Höhere Zahl = weniger frühes Abbrechen (Standard: 50)\n",
    "\n",
    "    # Save/checkpoints\n",
    "    'save_period': 10,          # Alle x Epochen ein Modell speichern (Default=50)\n",
    "    'exist_ok': True,           # Vorhandene Ergebnisse überschreiben (False=Fehler)\n",
    "    'verbose': True,            # Detailierte Ausgaben (False=weniger Text)\n",
    "\n",
    "    # Advanced: Training nur auf bestimmten Klassen (nur falls gebraucht)\n",
    "    # 'classes': [0, 2],        # Nur Klasse 0 und 2 trainieren\n",
    "\n",
    "    # Seed für Reproduzierbarkeit\n",
    "    'seed': 42                 # Zufallszahlgenerator initialisiere\n",
    "}"
   ]
  },
  {
   "cell_type": "markdown",
   "id": "9d91dca7",
   "metadata": {},
   "source": [
    "---\n",
    "### Training startet mit Ausführung des nächsten Skriptes"
   ]
  },
  {
   "cell_type": "code",
   "execution_count": 8,
   "id": "96210299",
   "metadata": {},
   "outputs": [
    {
     "name": "stdout",
     "output_type": "stream",
     "text": [
      "Ultralytics 8.3.148  Python-3.12.10 torch-2.5.1+cu121 CUDA:0 (NVIDIA GeForce RTX 3050 Laptop GPU, 4096MiB)\n",
      "\u001b[34m\u001b[1mengine\\trainer: \u001b[0magnostic_nms=False, amp=True, augment=False, auto_augment=randaugment, batch=32, bgr=0.0, box=7.5, cache=False, cfg=None, classes=None, close_mosaic=10, cls=0.5, conf=None, copy_paste=0.0, copy_paste_mode=flip, cos_lr=False, cutmix=0.0, data=C:\\Users\\jonni\\OneDrive\\Dokumente\\GitHub\\Chairlift_Gefahrenerkennung\\01_Data_Jon\\Augmented\\Images_split\\Images\\dataset.yaml, degrees=0.0, deterministic=True, device=0, dfl=1.5, dnn=False, dropout=0.0, dynamic=False, embed=None, epochs=100, erasing=0.4, exist_ok=True, fliplr=0.5, flipud=0.0, format=torchscript, fraction=1.0, freeze=None, half=False, hsv_h=0.015, hsv_s=0.7, hsv_v=0.4, imgsz=640, int8=False, iou=0.7, keras=False, kobj=1.0, line_width=None, lr0=0.01, lrf=0.01, mask_ratio=4, max_det=300, mixup=0.0, mode=train, model=yolo11n.pt, momentum=0.937, mosaic=1.0, multi_scale=False, name=yolo11n_custom, nbs=64, nms=False, opset=None, optimize=False, optimizer=auto, overlap_mask=True, patience=50, perspective=0.0, plots=True, pose=12.0, pretrained=True, profile=False, project=runs/train, rect=False, resume=False, retina_masks=False, save=True, save_conf=False, save_crop=False, save_dir=runs\\train\\yolo11n_custom, save_frames=False, save_json=False, save_period=10, save_txt=False, scale=0.5, seed=42, shear=0.0, show=False, show_boxes=True, show_conf=True, show_labels=True, simplify=True, single_cls=False, source=None, split=val, stream_buffer=False, task=detect, time=None, tracker=botsort.yaml, translate=0.1, val=True, verbose=True, vid_stride=1, visualize=False, warmup_bias_lr=0.1, warmup_epochs=3.0, warmup_momentum=0.8, weight_decay=0.0005, workers=14, workspace=None\n",
      "Downloading https://ultralytics.com/assets/Arial.ttf to 'C:\\Users\\jonni\\AppData\\Roaming\\Ultralytics\\Arial.ttf'...\n"
     ]
    },
    {
     "name": "stderr",
     "output_type": "stream",
     "text": [
      "100%|██████████| 755k/755k [00:00<00:00, 18.2MB/s]"
     ]
    },
    {
     "name": "stdout",
     "output_type": "stream",
     "text": [
      "Overriding model.yaml nc=80 with nc=3\n",
      "\n",
      "                   from  n    params  module                                       arguments                     \n",
      "  0                  -1  1       464  ultralytics.nn.modules.conv.Conv             [3, 16, 3, 2]                 \n",
      "  1                  -1  1      4672  ultralytics.nn.modules.conv.Conv             [16, 32, 3, 2]                \n",
      "  2                  -1  1      6640  ultralytics.nn.modules.block.C3k2            [32, 64, 1, False, 0.25]      \n",
      "  3                  -1  1     36992  ultralytics.nn.modules.conv.Conv             [64, 64, 3, 2]                \n",
      "  4                  -1  1     26080  ultralytics.nn.modules.block.C3k2            [64, 128, 1, False, 0.25]     \n",
      "  5                  -1  1    147712  ultralytics.nn.modules.conv.Conv             [128, 128, 3, 2]              \n",
      "  6                  -1  1     87040  ultralytics.nn.modules.block.C3k2            [128, 128, 1, True]           \n",
      "  7                  -1  1    295424  ultralytics.nn.modules.conv.Conv             [128, 256, 3, 2]              \n",
      "  8                  -1  1    346112  ultralytics.nn.modules.block.C3k2            [256, 256, 1, True]           \n",
      "  9                  -1  1    164608  ultralytics.nn.modules.block.SPPF            [256, 256, 5]                 \n",
      " 10                  -1  1    249728  ultralytics.nn.modules.block.C2PSA           [256, 256, 1]                 \n",
      " 11                  -1  1         0  torch.nn.modules.upsampling.Upsample         [None, 2, 'nearest']          \n",
      " 12             [-1, 6]  1         0  ultralytics.nn.modules.conv.Concat           [1]                           \n",
      " 13                  -1  1    111296  ultralytics.nn.modules.block.C3k2            [384, 128, 1, False]          \n",
      " 14                  -1  1         0  torch.nn.modules.upsampling.Upsample         [None, 2, 'nearest']          \n",
      " 15             [-1, 4]  1         0  ultralytics.nn.modules.conv.Concat           [1]                           \n",
      " 16                  -1  1     32096  ultralytics.nn.modules.block.C3k2            [256, 64, 1, False]           \n",
      " 17                  -1  1     36992  ultralytics.nn.modules.conv.Conv             [64, 64, 3, 2]                \n",
      " 18            [-1, 13]  1         0  ultralytics.nn.modules.conv.Concat           [1]                           \n",
      " 19                  -1  1     86720  ultralytics.nn.modules.block.C3k2            [192, 128, 1, False]          \n",
      " 20                  -1  1    147712  ultralytics.nn.modules.conv.Conv             [128, 128, 3, 2]              \n",
      " 21            [-1, 10]  1         0  ultralytics.nn.modules.conv.Concat           [1]                           \n",
      " 22                  -1  1    378880  ultralytics.nn.modules.block.C3k2            [384, 256, 1, True]           \n",
      " 23        [16, 19, 22]  1    431257  ultralytics.nn.modules.head.Detect           [3, [64, 128, 256]]           \n"
     ]
    },
    {
     "name": "stderr",
     "output_type": "stream",
     "text": [
      "\n"
     ]
    },
    {
     "name": "stdout",
     "output_type": "stream",
     "text": [
      "YOLO11n summary: 181 layers, 2,590,425 parameters, 2,590,409 gradients, 6.4 GFLOPs\n",
      "\n",
      "Transferred 448/499 items from pretrained weights\n",
      "Freezing layer 'model.23.dfl.conv.weight'\n",
      "\u001b[34m\u001b[1mAMP: \u001b[0mrunning Automatic Mixed Precision (AMP) checks...\n",
      "\u001b[34m\u001b[1mAMP: \u001b[0mchecks passed \n",
      "\u001b[34m\u001b[1mtrain: \u001b[0mFast image access  (ping: 0.10.0 ms, read: 4.41.2 MB/s, size: 38.5 KB)\n"
     ]
    },
    {
     "name": "stderr",
     "output_type": "stream",
     "text": [
      "\u001b[34m\u001b[1mtrain: \u001b[0mScanning C:\\Users\\jonni\\OneDrive\\Dokumente\\GitHub\\Chairlift_Gefahrenerkennung\\01_Data_Jon\\Augmented\\Images_split\\Images\\train\\labels... 315 images, 0 backgrounds, 100 corrupt: 100%|██████████| 315/315 [00:00<00:00, 615.87it/s]"
     ]
    },
    {
     "name": "stdout",
     "output_type": "stream",
     "text": [
      "\u001b[34m\u001b[1mtrain: \u001b[0mC:\\Users\\jonni\\OneDrive\\Dokumente\\GitHub\\Chairlift_Gefahrenerkennung\\01_Data_Jon\\Augmented\\Images_split\\Images\\train\\images\\frame_31_aug_rotate0_brightness0.15.jpg: ignoring corrupt image/label: Label class 3 exceeds dataset class count 3. Possible class labels are 0-2\n",
      "\u001b[34m\u001b[1mtrain: \u001b[0mC:\\Users\\jonni\\OneDrive\\Dokumente\\GitHub\\Chairlift_Gefahrenerkennung\\01_Data_Jon\\Augmented\\Images_split\\Images\\train\\images\\frame_31_aug_rotate0_brightness0.jpg: ignoring corrupt image/label: Label class 3 exceeds dataset class count 3. Possible class labels are 0-2\n",
      "\u001b[34m\u001b[1mtrain: \u001b[0mC:\\Users\\jonni\\OneDrive\\Dokumente\\GitHub\\Chairlift_Gefahrenerkennung\\01_Data_Jon\\Augmented\\Images_split\\Images\\train\\images\\frame_31_aug_rotate22_brightness-0.15.jpg: ignoring corrupt image/label: Label class 3 exceeds dataset class count 3. Possible class labels are 0-2\n",
      "\u001b[34m\u001b[1mtrain: \u001b[0mC:\\Users\\jonni\\OneDrive\\Dokumente\\GitHub\\Chairlift_Gefahrenerkennung\\01_Data_Jon\\Augmented\\Images_split\\Images\\train\\images\\frame_31_aug_rotate45_brightness-0.15.jpg: ignoring corrupt image/label: Label class 3 exceeds dataset class count 3. Possible class labels are 0-2\n",
      "\u001b[34m\u001b[1mtrain: \u001b[0mC:\\Users\\jonni\\OneDrive\\Dokumente\\GitHub\\Chairlift_Gefahrenerkennung\\01_Data_Jon\\Augmented\\Images_split\\Images\\train\\images\\frame_31_aug_rotate45_brightness0.jpg: ignoring corrupt image/label: Label class 3 exceeds dataset class count 3. Possible class labels are 0-2\n",
      "\u001b[34m\u001b[1mtrain: \u001b[0mC:\\Users\\jonni\\OneDrive\\Dokumente\\GitHub\\Chairlift_Gefahrenerkennung\\01_Data_Jon\\Augmented\\Images_split\\Images\\train\\images\\frame_32_aug_rotate0_brightness-0.15.jpg: ignoring corrupt image/label: Label class 3 exceeds dataset class count 3. Possible class labels are 0-2\n",
      "\u001b[34m\u001b[1mtrain: \u001b[0mC:\\Users\\jonni\\OneDrive\\Dokumente\\GitHub\\Chairlift_Gefahrenerkennung\\01_Data_Jon\\Augmented\\Images_split\\Images\\train\\images\\frame_32_aug_rotate0_brightness0.15.jpg: ignoring corrupt image/label: Label class 3 exceeds dataset class count 3. Possible class labels are 0-2\n",
      "\u001b[34m\u001b[1mtrain: \u001b[0mC:\\Users\\jonni\\OneDrive\\Dokumente\\GitHub\\Chairlift_Gefahrenerkennung\\01_Data_Jon\\Augmented\\Images_split\\Images\\train\\images\\frame_32_aug_rotate22_brightness-0.15.jpg: ignoring corrupt image/label: Label class 3 exceeds dataset class count 3. Possible class labels are 0-2\n",
      "\u001b[34m\u001b[1mtrain: \u001b[0mC:\\Users\\jonni\\OneDrive\\Dokumente\\GitHub\\Chairlift_Gefahrenerkennung\\01_Data_Jon\\Augmented\\Images_split\\Images\\train\\images\\frame_32_aug_rotate45_brightness-0.15.jpg: ignoring corrupt image/label: Label class 3 exceeds dataset class count 3. Possible class labels are 0-2\n",
      "\u001b[34m\u001b[1mtrain: \u001b[0mC:\\Users\\jonni\\OneDrive\\Dokumente\\GitHub\\Chairlift_Gefahrenerkennung\\01_Data_Jon\\Augmented\\Images_split\\Images\\train\\images\\frame_32_aug_rotate45_brightness0.15.jpg: ignoring corrupt image/label: Label class 3 exceeds dataset class count 3. Possible class labels are 0-2\n",
      "\u001b[34m\u001b[1mtrain: \u001b[0mC:\\Users\\jonni\\OneDrive\\Dokumente\\GitHub\\Chairlift_Gefahrenerkennung\\01_Data_Jon\\Augmented\\Images_split\\Images\\train\\images\\frame_33_aug_rotate0_brightness0.jpg: ignoring corrupt image/label: Label class 3 exceeds dataset class count 3. Possible class labels are 0-2\n",
      "\u001b[34m\u001b[1mtrain: \u001b[0mC:\\Users\\jonni\\OneDrive\\Dokumente\\GitHub\\Chairlift_Gefahrenerkennung\\01_Data_Jon\\Augmented\\Images_split\\Images\\train\\images\\frame_33_aug_rotate22_brightness-0.15.jpg: ignoring corrupt image/label: Label class 3 exceeds dataset class count 3. Possible class labels are 0-2\n",
      "\u001b[34m\u001b[1mtrain: \u001b[0mC:\\Users\\jonni\\OneDrive\\Dokumente\\GitHub\\Chairlift_Gefahrenerkennung\\01_Data_Jon\\Augmented\\Images_split\\Images\\train\\images\\frame_33_aug_rotate22_brightness0.15.jpg: ignoring corrupt image/label: Label class 3 exceeds dataset class count 3. Possible class labels are 0-2\n",
      "\u001b[34m\u001b[1mtrain: \u001b[0mC:\\Users\\jonni\\OneDrive\\Dokumente\\GitHub\\Chairlift_Gefahrenerkennung\\01_Data_Jon\\Augmented\\Images_split\\Images\\train\\images\\frame_33_aug_rotate22_brightness0.jpg: ignoring corrupt image/label: Label class 3 exceeds dataset class count 3. Possible class labels are 0-2\n",
      "\u001b[34m\u001b[1mtrain: \u001b[0mC:\\Users\\jonni\\OneDrive\\Dokumente\\GitHub\\Chairlift_Gefahrenerkennung\\01_Data_Jon\\Augmented\\Images_split\\Images\\train\\images\\frame_34_aug_rotate0_brightness-0.15.jpg: ignoring corrupt image/label: Label class 3 exceeds dataset class count 3. Possible class labels are 0-2\n",
      "\u001b[34m\u001b[1mtrain: \u001b[0mC:\\Users\\jonni\\OneDrive\\Dokumente\\GitHub\\Chairlift_Gefahrenerkennung\\01_Data_Jon\\Augmented\\Images_split\\Images\\train\\images\\frame_34_aug_rotate0_brightness0.15.jpg: ignoring corrupt image/label: Label class 3 exceeds dataset class count 3. Possible class labels are 0-2\n",
      "\u001b[34m\u001b[1mtrain: \u001b[0mC:\\Users\\jonni\\OneDrive\\Dokumente\\GitHub\\Chairlift_Gefahrenerkennung\\01_Data_Jon\\Augmented\\Images_split\\Images\\train\\images\\frame_34_aug_rotate0_brightness0.jpg: ignoring corrupt image/label: Label class 3 exceeds dataset class count 3. Possible class labels are 0-2\n",
      "\u001b[34m\u001b[1mtrain: \u001b[0mC:\\Users\\jonni\\OneDrive\\Dokumente\\GitHub\\Chairlift_Gefahrenerkennung\\01_Data_Jon\\Augmented\\Images_split\\Images\\train\\images\\frame_34_aug_rotate22_brightness-0.15.jpg: ignoring corrupt image/label: Label class 3 exceeds dataset class count 3. Possible class labels are 0-2\n",
      "\u001b[34m\u001b[1mtrain: \u001b[0mC:\\Users\\jonni\\OneDrive\\Dokumente\\GitHub\\Chairlift_Gefahrenerkennung\\01_Data_Jon\\Augmented\\Images_split\\Images\\train\\images\\frame_34_aug_rotate22_brightness0.15.jpg: ignoring corrupt image/label: Label class 3 exceeds dataset class count 3. Possible class labels are 0-2\n",
      "\u001b[34m\u001b[1mtrain: \u001b[0mC:\\Users\\jonni\\OneDrive\\Dokumente\\GitHub\\Chairlift_Gefahrenerkennung\\01_Data_Jon\\Augmented\\Images_split\\Images\\train\\images\\frame_34_aug_rotate45_brightness0.jpg: ignoring corrupt image/label: Label class 3 exceeds dataset class count 3. Possible class labels are 0-2\n",
      "\u001b[34m\u001b[1mtrain: \u001b[0mC:\\Users\\jonni\\OneDrive\\Dokumente\\GitHub\\Chairlift_Gefahrenerkennung\\01_Data_Jon\\Augmented\\Images_split\\Images\\train\\images\\frame_35_aug_rotate0_brightness-0.15.jpg: ignoring corrupt image/label: Label class 3 exceeds dataset class count 3. Possible class labels are 0-2\n",
      "\u001b[34m\u001b[1mtrain: \u001b[0mC:\\Users\\jonni\\OneDrive\\Dokumente\\GitHub\\Chairlift_Gefahrenerkennung\\01_Data_Jon\\Augmented\\Images_split\\Images\\train\\images\\frame_35_aug_rotate22_brightness0.15.jpg: ignoring corrupt image/label: Label class 3 exceeds dataset class count 3. Possible class labels are 0-2\n",
      "\u001b[34m\u001b[1mtrain: \u001b[0mC:\\Users\\jonni\\OneDrive\\Dokumente\\GitHub\\Chairlift_Gefahrenerkennung\\01_Data_Jon\\Augmented\\Images_split\\Images\\train\\images\\frame_35_aug_rotate22_brightness0.jpg: ignoring corrupt image/label: Label class 3 exceeds dataset class count 3. Possible class labels are 0-2\n",
      "\u001b[34m\u001b[1mtrain: \u001b[0mC:\\Users\\jonni\\OneDrive\\Dokumente\\GitHub\\Chairlift_Gefahrenerkennung\\01_Data_Jon\\Augmented\\Images_split\\Images\\train\\images\\frame_35_aug_rotate45_brightness-0.15.jpg: ignoring corrupt image/label: Label class 3 exceeds dataset class count 3. Possible class labels are 0-2\n",
      "\u001b[34m\u001b[1mtrain: \u001b[0mC:\\Users\\jonni\\OneDrive\\Dokumente\\GitHub\\Chairlift_Gefahrenerkennung\\01_Data_Jon\\Augmented\\Images_split\\Images\\train\\images\\frame_35_aug_rotate45_brightness0.15.jpg: ignoring corrupt image/label: Label class 3 exceeds dataset class count 3. Possible class labels are 0-2\n",
      "\u001b[34m\u001b[1mtrain: \u001b[0mC:\\Users\\jonni\\OneDrive\\Dokumente\\GitHub\\Chairlift_Gefahrenerkennung\\01_Data_Jon\\Augmented\\Images_split\\Images\\train\\images\\frame_35_aug_rotate45_brightness0.jpg: ignoring corrupt image/label: Label class 3 exceeds dataset class count 3. Possible class labels are 0-2\n",
      "\u001b[34m\u001b[1mtrain: \u001b[0mC:\\Users\\jonni\\OneDrive\\Dokumente\\GitHub\\Chairlift_Gefahrenerkennung\\01_Data_Jon\\Augmented\\Images_split\\Images\\train\\images\\frame_36_aug_rotate0_brightness-0.15.jpg: ignoring corrupt image/label: Label class 3 exceeds dataset class count 3. Possible class labels are 0-2\n",
      "\u001b[34m\u001b[1mtrain: \u001b[0mC:\\Users\\jonni\\OneDrive\\Dokumente\\GitHub\\Chairlift_Gefahrenerkennung\\01_Data_Jon\\Augmented\\Images_split\\Images\\train\\images\\frame_36_aug_rotate0_brightness0.15.jpg: ignoring corrupt image/label: Label class 3 exceeds dataset class count 3. Possible class labels are 0-2\n",
      "\u001b[34m\u001b[1mtrain: \u001b[0mC:\\Users\\jonni\\OneDrive\\Dokumente\\GitHub\\Chairlift_Gefahrenerkennung\\01_Data_Jon\\Augmented\\Images_split\\Images\\train\\images\\frame_36_aug_rotate22_brightness0.jpg: ignoring corrupt image/label: Label class 3 exceeds dataset class count 3. Possible class labels are 0-2\n",
      "\u001b[34m\u001b[1mtrain: \u001b[0mC:\\Users\\jonni\\OneDrive\\Dokumente\\GitHub\\Chairlift_Gefahrenerkennung\\01_Data_Jon\\Augmented\\Images_split\\Images\\train\\images\\frame_36_aug_rotate45_brightness0.15.jpg: ignoring corrupt image/label: Label class 3 exceeds dataset class count 3. Possible class labels are 0-2\n",
      "\u001b[34m\u001b[1mtrain: \u001b[0mC:\\Users\\jonni\\OneDrive\\Dokumente\\GitHub\\Chairlift_Gefahrenerkennung\\01_Data_Jon\\Augmented\\Images_split\\Images\\train\\images\\frame_36_aug_rotate45_brightness0.jpg: ignoring corrupt image/label: Label class 3 exceeds dataset class count 3. Possible class labels are 0-2\n",
      "\u001b[34m\u001b[1mtrain: \u001b[0mC:\\Users\\jonni\\OneDrive\\Dokumente\\GitHub\\Chairlift_Gefahrenerkennung\\01_Data_Jon\\Augmented\\Images_split\\Images\\train\\images\\frame_37_aug_rotate0_brightness-0.15.jpg: ignoring corrupt image/label: Label class 3 exceeds dataset class count 3. Possible class labels are 0-2\n",
      "\u001b[34m\u001b[1mtrain: \u001b[0mC:\\Users\\jonni\\OneDrive\\Dokumente\\GitHub\\Chairlift_Gefahrenerkennung\\01_Data_Jon\\Augmented\\Images_split\\Images\\train\\images\\frame_37_aug_rotate0_brightness0.15.jpg: ignoring corrupt image/label: Label class 3 exceeds dataset class count 3. Possible class labels are 0-2\n",
      "\u001b[34m\u001b[1mtrain: \u001b[0mC:\\Users\\jonni\\OneDrive\\Dokumente\\GitHub\\Chairlift_Gefahrenerkennung\\01_Data_Jon\\Augmented\\Images_split\\Images\\train\\images\\frame_37_aug_rotate22_brightness-0.15.jpg: ignoring corrupt image/label: Label class 3 exceeds dataset class count 3. Possible class labels are 0-2\n",
      "\u001b[34m\u001b[1mtrain: \u001b[0mC:\\Users\\jonni\\OneDrive\\Dokumente\\GitHub\\Chairlift_Gefahrenerkennung\\01_Data_Jon\\Augmented\\Images_split\\Images\\train\\images\\frame_37_aug_rotate22_brightness0.15.jpg: ignoring corrupt image/label: Label class 3 exceeds dataset class count 3. Possible class labels are 0-2\n",
      "\u001b[34m\u001b[1mtrain: \u001b[0mC:\\Users\\jonni\\OneDrive\\Dokumente\\GitHub\\Chairlift_Gefahrenerkennung\\01_Data_Jon\\Augmented\\Images_split\\Images\\train\\images\\frame_37_aug_rotate22_brightness0.jpg: ignoring corrupt image/label: Label class 3 exceeds dataset class count 3. Possible class labels are 0-2\n",
      "\u001b[34m\u001b[1mtrain: \u001b[0mC:\\Users\\jonni\\OneDrive\\Dokumente\\GitHub\\Chairlift_Gefahrenerkennung\\01_Data_Jon\\Augmented\\Images_split\\Images\\train\\images\\frame_37_aug_rotate45_brightness-0.15.jpg: ignoring corrupt image/label: Label class 3 exceeds dataset class count 3. Possible class labels are 0-2\n",
      "\u001b[34m\u001b[1mtrain: \u001b[0mC:\\Users\\jonni\\OneDrive\\Dokumente\\GitHub\\Chairlift_Gefahrenerkennung\\01_Data_Jon\\Augmented\\Images_split\\Images\\train\\images\\frame_37_aug_rotate45_brightness0.15.jpg: ignoring corrupt image/label: Label class 3 exceeds dataset class count 3. Possible class labels are 0-2\n",
      "\u001b[34m\u001b[1mtrain: \u001b[0mC:\\Users\\jonni\\OneDrive\\Dokumente\\GitHub\\Chairlift_Gefahrenerkennung\\01_Data_Jon\\Augmented\\Images_split\\Images\\train\\images\\frame_37_aug_rotate45_brightness0.jpg: ignoring corrupt image/label: Label class 3 exceeds dataset class count 3. Possible class labels are 0-2\n",
      "\u001b[34m\u001b[1mtrain: \u001b[0mC:\\Users\\jonni\\OneDrive\\Dokumente\\GitHub\\Chairlift_Gefahrenerkennung\\01_Data_Jon\\Augmented\\Images_split\\Images\\train\\images\\frame_38_aug_rotate0_brightness-0.15.jpg: ignoring corrupt image/label: Label class 3 exceeds dataset class count 3. Possible class labels are 0-2\n",
      "\u001b[34m\u001b[1mtrain: \u001b[0mC:\\Users\\jonni\\OneDrive\\Dokumente\\GitHub\\Chairlift_Gefahrenerkennung\\01_Data_Jon\\Augmented\\Images_split\\Images\\train\\images\\frame_38_aug_rotate0_brightness0.15.jpg: ignoring corrupt image/label: Label class 3 exceeds dataset class count 3. Possible class labels are 0-2\n",
      "\u001b[34m\u001b[1mtrain: \u001b[0mC:\\Users\\jonni\\OneDrive\\Dokumente\\GitHub\\Chairlift_Gefahrenerkennung\\01_Data_Jon\\Augmented\\Images_split\\Images\\train\\images\\frame_38_aug_rotate22_brightness-0.15.jpg: ignoring corrupt image/label: Label class 3 exceeds dataset class count 3. Possible class labels are 0-2\n",
      "\u001b[34m\u001b[1mtrain: \u001b[0mC:\\Users\\jonni\\OneDrive\\Dokumente\\GitHub\\Chairlift_Gefahrenerkennung\\01_Data_Jon\\Augmented\\Images_split\\Images\\train\\images\\frame_38_aug_rotate22_brightness0.15.jpg: ignoring corrupt image/label: Label class 3 exceeds dataset class count 3. Possible class labels are 0-2\n",
      "\u001b[34m\u001b[1mtrain: \u001b[0mC:\\Users\\jonni\\OneDrive\\Dokumente\\GitHub\\Chairlift_Gefahrenerkennung\\01_Data_Jon\\Augmented\\Images_split\\Images\\train\\images\\frame_38_aug_rotate22_brightness0.jpg: ignoring corrupt image/label: Label class 3 exceeds dataset class count 3. Possible class labels are 0-2\n",
      "\u001b[34m\u001b[1mtrain: \u001b[0mC:\\Users\\jonni\\OneDrive\\Dokumente\\GitHub\\Chairlift_Gefahrenerkennung\\01_Data_Jon\\Augmented\\Images_split\\Images\\train\\images\\frame_38_aug_rotate45_brightness0.15.jpg: ignoring corrupt image/label: Label class 3 exceeds dataset class count 3. Possible class labels are 0-2\n",
      "\u001b[34m\u001b[1mtrain: \u001b[0mC:\\Users\\jonni\\OneDrive\\Dokumente\\GitHub\\Chairlift_Gefahrenerkennung\\01_Data_Jon\\Augmented\\Images_split\\Images\\train\\images\\frame_39_aug_rotate0_brightness-0.15.jpg: ignoring corrupt image/label: Label class 3 exceeds dataset class count 3. Possible class labels are 0-2\n",
      "\u001b[34m\u001b[1mtrain: \u001b[0mC:\\Users\\jonni\\OneDrive\\Dokumente\\GitHub\\Chairlift_Gefahrenerkennung\\01_Data_Jon\\Augmented\\Images_split\\Images\\train\\images\\frame_39_aug_rotate22_brightness-0.15.jpg: ignoring corrupt image/label: Label class 3 exceeds dataset class count 3. Possible class labels are 0-2\n",
      "\u001b[34m\u001b[1mtrain: \u001b[0mC:\\Users\\jonni\\OneDrive\\Dokumente\\GitHub\\Chairlift_Gefahrenerkennung\\01_Data_Jon\\Augmented\\Images_split\\Images\\train\\images\\frame_39_aug_rotate22_brightness0.15.jpg: ignoring corrupt image/label: Label class 3 exceeds dataset class count 3. Possible class labels are 0-2\n",
      "\u001b[34m\u001b[1mtrain: \u001b[0mC:\\Users\\jonni\\OneDrive\\Dokumente\\GitHub\\Chairlift_Gefahrenerkennung\\01_Data_Jon\\Augmented\\Images_split\\Images\\train\\images\\frame_39_aug_rotate22_brightness0.jpg: ignoring corrupt image/label: Label class 3 exceeds dataset class count 3. Possible class labels are 0-2\n",
      "\u001b[34m\u001b[1mtrain: \u001b[0mC:\\Users\\jonni\\OneDrive\\Dokumente\\GitHub\\Chairlift_Gefahrenerkennung\\01_Data_Jon\\Augmented\\Images_split\\Images\\train\\images\\frame_39_aug_rotate45_brightness0.jpg: ignoring corrupt image/label: Label class 3 exceeds dataset class count 3. Possible class labels are 0-2\n",
      "\u001b[34m\u001b[1mtrain: \u001b[0mC:\\Users\\jonni\\OneDrive\\Dokumente\\GitHub\\Chairlift_Gefahrenerkennung\\01_Data_Jon\\Augmented\\Images_split\\Images\\train\\images\\frame_40_aug_rotate0_brightness-0.15.jpg: ignoring corrupt image/label: Label class 3 exceeds dataset class count 3. Possible class labels are 0-2\n",
      "\u001b[34m\u001b[1mtrain: \u001b[0mC:\\Users\\jonni\\OneDrive\\Dokumente\\GitHub\\Chairlift_Gefahrenerkennung\\01_Data_Jon\\Augmented\\Images_split\\Images\\train\\images\\frame_40_aug_rotate0_brightness0.jpg: ignoring corrupt image/label: Label class 3 exceeds dataset class count 3. Possible class labels are 0-2\n",
      "\u001b[34m\u001b[1mtrain: \u001b[0mC:\\Users\\jonni\\OneDrive\\Dokumente\\GitHub\\Chairlift_Gefahrenerkennung\\01_Data_Jon\\Augmented\\Images_split\\Images\\train\\images\\frame_40_aug_rotate22_brightness-0.15.jpg: ignoring corrupt image/label: Label class 3 exceeds dataset class count 3. Possible class labels are 0-2\n",
      "\u001b[34m\u001b[1mtrain: \u001b[0mC:\\Users\\jonni\\OneDrive\\Dokumente\\GitHub\\Chairlift_Gefahrenerkennung\\01_Data_Jon\\Augmented\\Images_split\\Images\\train\\images\\frame_40_aug_rotate22_brightness0.15.jpg: ignoring corrupt image/label: Label class 3 exceeds dataset class count 3. Possible class labels are 0-2\n",
      "\u001b[34m\u001b[1mtrain: \u001b[0mC:\\Users\\jonni\\OneDrive\\Dokumente\\GitHub\\Chairlift_Gefahrenerkennung\\01_Data_Jon\\Augmented\\Images_split\\Images\\train\\images\\frame_40_aug_rotate45_brightness0.jpg: ignoring corrupt image/label: Label class 3 exceeds dataset class count 3. Possible class labels are 0-2\n",
      "\u001b[34m\u001b[1mtrain: \u001b[0mC:\\Users\\jonni\\OneDrive\\Dokumente\\GitHub\\Chairlift_Gefahrenerkennung\\01_Data_Jon\\Augmented\\Images_split\\Images\\train\\images\\frame_41_aug_rotate0_brightness-0.15.jpg: ignoring corrupt image/label: Label class 3 exceeds dataset class count 3. Possible class labels are 0-2\n",
      "\u001b[34m\u001b[1mtrain: \u001b[0mC:\\Users\\jonni\\OneDrive\\Dokumente\\GitHub\\Chairlift_Gefahrenerkennung\\01_Data_Jon\\Augmented\\Images_split\\Images\\train\\images\\frame_41_aug_rotate0_brightness0.15.jpg: ignoring corrupt image/label: Label class 3 exceeds dataset class count 3. Possible class labels are 0-2\n",
      "\u001b[34m\u001b[1mtrain: \u001b[0mC:\\Users\\jonni\\OneDrive\\Dokumente\\GitHub\\Chairlift_Gefahrenerkennung\\01_Data_Jon\\Augmented\\Images_split\\Images\\train\\images\\frame_41_aug_rotate22_brightness-0.15.jpg: ignoring corrupt image/label: Label class 3 exceeds dataset class count 3. Possible class labels are 0-2\n",
      "\u001b[34m\u001b[1mtrain: \u001b[0mC:\\Users\\jonni\\OneDrive\\Dokumente\\GitHub\\Chairlift_Gefahrenerkennung\\01_Data_Jon\\Augmented\\Images_split\\Images\\train\\images\\frame_41_aug_rotate22_brightness0.15.jpg: ignoring corrupt image/label: Label class 3 exceeds dataset class count 3. Possible class labels are 0-2\n",
      "\u001b[34m\u001b[1mtrain: \u001b[0mC:\\Users\\jonni\\OneDrive\\Dokumente\\GitHub\\Chairlift_Gefahrenerkennung\\01_Data_Jon\\Augmented\\Images_split\\Images\\train\\images\\frame_41_aug_rotate22_brightness0.jpg: ignoring corrupt image/label: Label class 3 exceeds dataset class count 3. Possible class labels are 0-2\n",
      "\u001b[34m\u001b[1mtrain: \u001b[0mC:\\Users\\jonni\\OneDrive\\Dokumente\\GitHub\\Chairlift_Gefahrenerkennung\\01_Data_Jon\\Augmented\\Images_split\\Images\\train\\images\\frame_41_aug_rotate45_brightness-0.15.jpg: ignoring corrupt image/label: Label class 3 exceeds dataset class count 3. Possible class labels are 0-2\n",
      "\u001b[34m\u001b[1mtrain: \u001b[0mC:\\Users\\jonni\\OneDrive\\Dokumente\\GitHub\\Chairlift_Gefahrenerkennung\\01_Data_Jon\\Augmented\\Images_split\\Images\\train\\images\\frame_41_aug_rotate45_brightness0.15.jpg: ignoring corrupt image/label: Label class 3 exceeds dataset class count 3. Possible class labels are 0-2\n",
      "\u001b[34m\u001b[1mtrain: \u001b[0mC:\\Users\\jonni\\OneDrive\\Dokumente\\GitHub\\Chairlift_Gefahrenerkennung\\01_Data_Jon\\Augmented\\Images_split\\Images\\train\\images\\frame_42_aug_rotate0_brightness0.jpg: ignoring corrupt image/label: Label class 3 exceeds dataset class count 3. Possible class labels are 0-2\n",
      "\u001b[34m\u001b[1mtrain: \u001b[0mC:\\Users\\jonni\\OneDrive\\Dokumente\\GitHub\\Chairlift_Gefahrenerkennung\\01_Data_Jon\\Augmented\\Images_split\\Images\\train\\images\\frame_42_aug_rotate22_brightness-0.15.jpg: ignoring corrupt image/label: Label class 3 exceeds dataset class count 3. Possible class labels are 0-2\n",
      "\u001b[34m\u001b[1mtrain: \u001b[0mC:\\Users\\jonni\\OneDrive\\Dokumente\\GitHub\\Chairlift_Gefahrenerkennung\\01_Data_Jon\\Augmented\\Images_split\\Images\\train\\images\\frame_42_aug_rotate22_brightness0.15.jpg: ignoring corrupt image/label: Label class 3 exceeds dataset class count 3. Possible class labels are 0-2\n",
      "\u001b[34m\u001b[1mtrain: \u001b[0mC:\\Users\\jonni\\OneDrive\\Dokumente\\GitHub\\Chairlift_Gefahrenerkennung\\01_Data_Jon\\Augmented\\Images_split\\Images\\train\\images\\frame_42_aug_rotate22_brightness0.jpg: ignoring corrupt image/label: Label class 3 exceeds dataset class count 3. Possible class labels are 0-2\n",
      "\u001b[34m\u001b[1mtrain: \u001b[0mC:\\Users\\jonni\\OneDrive\\Dokumente\\GitHub\\Chairlift_Gefahrenerkennung\\01_Data_Jon\\Augmented\\Images_split\\Images\\train\\images\\frame_42_aug_rotate45_brightness-0.15.jpg: ignoring corrupt image/label: Label class 3 exceeds dataset class count 3. Possible class labels are 0-2\n",
      "\u001b[34m\u001b[1mtrain: \u001b[0mC:\\Users\\jonni\\OneDrive\\Dokumente\\GitHub\\Chairlift_Gefahrenerkennung\\01_Data_Jon\\Augmented\\Images_split\\Images\\train\\images\\frame_42_aug_rotate45_brightness0.15.jpg: ignoring corrupt image/label: Label class 3 exceeds dataset class count 3. Possible class labels are 0-2\n",
      "\u001b[34m\u001b[1mtrain: \u001b[0mC:\\Users\\jonni\\OneDrive\\Dokumente\\GitHub\\Chairlift_Gefahrenerkennung\\01_Data_Jon\\Augmented\\Images_split\\Images\\train\\images\\frame_42_aug_rotate45_brightness0.jpg: ignoring corrupt image/label: Label class 3 exceeds dataset class count 3. Possible class labels are 0-2\n",
      "\u001b[34m\u001b[1mtrain: \u001b[0mC:\\Users\\jonni\\OneDrive\\Dokumente\\GitHub\\Chairlift_Gefahrenerkennung\\01_Data_Jon\\Augmented\\Images_split\\Images\\train\\images\\frame_43_aug_rotate0_brightness-0.15.jpg: ignoring corrupt image/label: Label class 3 exceeds dataset class count 3. Possible class labels are 0-2\n",
      "\u001b[34m\u001b[1mtrain: \u001b[0mC:\\Users\\jonni\\OneDrive\\Dokumente\\GitHub\\Chairlift_Gefahrenerkennung\\01_Data_Jon\\Augmented\\Images_split\\Images\\train\\images\\frame_43_aug_rotate0_brightness0.jpg: ignoring corrupt image/label: Label class 3 exceeds dataset class count 3. Possible class labels are 0-2\n",
      "\u001b[34m\u001b[1mtrain: \u001b[0mC:\\Users\\jonni\\OneDrive\\Dokumente\\GitHub\\Chairlift_Gefahrenerkennung\\01_Data_Jon\\Augmented\\Images_split\\Images\\train\\images\\frame_43_aug_rotate22_brightness-0.15.jpg: ignoring corrupt image/label: Label class 3 exceeds dataset class count 3. Possible class labels are 0-2\n",
      "\u001b[34m\u001b[1mtrain: \u001b[0mC:\\Users\\jonni\\OneDrive\\Dokumente\\GitHub\\Chairlift_Gefahrenerkennung\\01_Data_Jon\\Augmented\\Images_split\\Images\\train\\images\\frame_43_aug_rotate22_brightness0.15.jpg: ignoring corrupt image/label: Label class 3 exceeds dataset class count 3. Possible class labels are 0-2\n",
      "\u001b[34m\u001b[1mtrain: \u001b[0mC:\\Users\\jonni\\OneDrive\\Dokumente\\GitHub\\Chairlift_Gefahrenerkennung\\01_Data_Jon\\Augmented\\Images_split\\Images\\train\\images\\frame_43_aug_rotate45_brightness-0.15.jpg: ignoring corrupt image/label: Label class 3 exceeds dataset class count 3. Possible class labels are 0-2\n",
      "\u001b[34m\u001b[1mtrain: \u001b[0mC:\\Users\\jonni\\OneDrive\\Dokumente\\GitHub\\Chairlift_Gefahrenerkennung\\01_Data_Jon\\Augmented\\Images_split\\Images\\train\\images\\frame_43_aug_rotate45_brightness0.15.jpg: ignoring corrupt image/label: Label class 3 exceeds dataset class count 3. Possible class labels are 0-2\n",
      "\u001b[34m\u001b[1mtrain: \u001b[0mC:\\Users\\jonni\\OneDrive\\Dokumente\\GitHub\\Chairlift_Gefahrenerkennung\\01_Data_Jon\\Augmented\\Images_split\\Images\\train\\images\\frame_43_aug_rotate45_brightness0.jpg: ignoring corrupt image/label: Label class 3 exceeds dataset class count 3. Possible class labels are 0-2\n",
      "\u001b[34m\u001b[1mtrain: \u001b[0mC:\\Users\\jonni\\OneDrive\\Dokumente\\GitHub\\Chairlift_Gefahrenerkennung\\01_Data_Jon\\Augmented\\Images_split\\Images\\train\\images\\frame_44_aug_rotate0_brightness-0.15.jpg: ignoring corrupt image/label: Label class 3 exceeds dataset class count 3. Possible class labels are 0-2\n",
      "\u001b[34m\u001b[1mtrain: \u001b[0mC:\\Users\\jonni\\OneDrive\\Dokumente\\GitHub\\Chairlift_Gefahrenerkennung\\01_Data_Jon\\Augmented\\Images_split\\Images\\train\\images\\frame_44_aug_rotate0_brightness0.jpg: ignoring corrupt image/label: Label class 3 exceeds dataset class count 3. Possible class labels are 0-2\n",
      "\u001b[34m\u001b[1mtrain: \u001b[0mC:\\Users\\jonni\\OneDrive\\Dokumente\\GitHub\\Chairlift_Gefahrenerkennung\\01_Data_Jon\\Augmented\\Images_split\\Images\\train\\images\\frame_44_aug_rotate22_brightness-0.15.jpg: ignoring corrupt image/label: Label class 3 exceeds dataset class count 3. Possible class labels are 0-2\n",
      "\u001b[34m\u001b[1mtrain: \u001b[0mC:\\Users\\jonni\\OneDrive\\Dokumente\\GitHub\\Chairlift_Gefahrenerkennung\\01_Data_Jon\\Augmented\\Images_split\\Images\\train\\images\\frame_44_aug_rotate22_brightness0.15.jpg: ignoring corrupt image/label: Label class 3 exceeds dataset class count 3. Possible class labels are 0-2\n",
      "\u001b[34m\u001b[1mtrain: \u001b[0mC:\\Users\\jonni\\OneDrive\\Dokumente\\GitHub\\Chairlift_Gefahrenerkennung\\01_Data_Jon\\Augmented\\Images_split\\Images\\train\\images\\frame_44_aug_rotate45_brightness0.jpg: ignoring corrupt image/label: Label class 3 exceeds dataset class count 3. Possible class labels are 0-2\n",
      "\u001b[34m\u001b[1mtrain: \u001b[0mC:\\Users\\jonni\\OneDrive\\Dokumente\\GitHub\\Chairlift_Gefahrenerkennung\\01_Data_Jon\\Augmented\\Images_split\\Images\\train\\images\\frame_45_aug_rotate0_brightness-0.15.jpg: ignoring corrupt image/label: Label class 3 exceeds dataset class count 3. Possible class labels are 0-2\n",
      "\u001b[34m\u001b[1mtrain: \u001b[0mC:\\Users\\jonni\\OneDrive\\Dokumente\\GitHub\\Chairlift_Gefahrenerkennung\\01_Data_Jon\\Augmented\\Images_split\\Images\\train\\images\\frame_45_aug_rotate0_brightness0.15.jpg: ignoring corrupt image/label: Label class 3 exceeds dataset class count 3. Possible class labels are 0-2\n",
      "\u001b[34m\u001b[1mtrain: \u001b[0mC:\\Users\\jonni\\OneDrive\\Dokumente\\GitHub\\Chairlift_Gefahrenerkennung\\01_Data_Jon\\Augmented\\Images_split\\Images\\train\\images\\frame_45_aug_rotate0_brightness0.jpg: ignoring corrupt image/label: Label class 3 exceeds dataset class count 3. Possible class labels are 0-2\n",
      "\u001b[34m\u001b[1mtrain: \u001b[0mC:\\Users\\jonni\\OneDrive\\Dokumente\\GitHub\\Chairlift_Gefahrenerkennung\\01_Data_Jon\\Augmented\\Images_split\\Images\\train\\images\\frame_45_aug_rotate22_brightness-0.15.jpg: ignoring corrupt image/label: Label class 3 exceeds dataset class count 3. Possible class labels are 0-2\n",
      "\u001b[34m\u001b[1mtrain: \u001b[0mC:\\Users\\jonni\\OneDrive\\Dokumente\\GitHub\\Chairlift_Gefahrenerkennung\\01_Data_Jon\\Augmented\\Images_split\\Images\\train\\images\\frame_45_aug_rotate22_brightness0.15.jpg: ignoring corrupt image/label: Label class 3 exceeds dataset class count 3. Possible class labels are 0-2\n",
      "\u001b[34m\u001b[1mtrain: \u001b[0mC:\\Users\\jonni\\OneDrive\\Dokumente\\GitHub\\Chairlift_Gefahrenerkennung\\01_Data_Jon\\Augmented\\Images_split\\Images\\train\\images\\frame_45_aug_rotate45_brightness-0.15.jpg: ignoring corrupt image/label: Label class 3 exceeds dataset class count 3. Possible class labels are 0-2\n",
      "\u001b[34m\u001b[1mtrain: \u001b[0mC:\\Users\\jonni\\OneDrive\\Dokumente\\GitHub\\Chairlift_Gefahrenerkennung\\01_Data_Jon\\Augmented\\Images_split\\Images\\train\\images\\frame_45_aug_rotate45_brightness0.15.jpg: ignoring corrupt image/label: Label class 3 exceeds dataset class count 3. Possible class labels are 0-2\n",
      "\u001b[34m\u001b[1mtrain: \u001b[0mC:\\Users\\jonni\\OneDrive\\Dokumente\\GitHub\\Chairlift_Gefahrenerkennung\\01_Data_Jon\\Augmented\\Images_split\\Images\\train\\images\\frame_45_aug_rotate45_brightness0.jpg: ignoring corrupt image/label: Label class 3 exceeds dataset class count 3. Possible class labels are 0-2\n",
      "\u001b[34m\u001b[1mtrain: \u001b[0mC:\\Users\\jonni\\OneDrive\\Dokumente\\GitHub\\Chairlift_Gefahrenerkennung\\01_Data_Jon\\Augmented\\Images_split\\Images\\train\\images\\frame_46_aug_rotate0_brightness0.15.jpg: ignoring corrupt image/label: Label class 3 exceeds dataset class count 3. Possible class labels are 0-2\n",
      "\u001b[34m\u001b[1mtrain: \u001b[0mC:\\Users\\jonni\\OneDrive\\Dokumente\\GitHub\\Chairlift_Gefahrenerkennung\\01_Data_Jon\\Augmented\\Images_split\\Images\\train\\images\\frame_46_aug_rotate0_brightness0.jpg: ignoring corrupt image/label: Label class 3 exceeds dataset class count 3. Possible class labels are 0-2\n",
      "\u001b[34m\u001b[1mtrain: \u001b[0mC:\\Users\\jonni\\OneDrive\\Dokumente\\GitHub\\Chairlift_Gefahrenerkennung\\01_Data_Jon\\Augmented\\Images_split\\Images\\train\\images\\frame_46_aug_rotate22_brightness-0.15.jpg: ignoring corrupt image/label: Label class 3 exceeds dataset class count 3. Possible class labels are 0-2\n",
      "\u001b[34m\u001b[1mtrain: \u001b[0mC:\\Users\\jonni\\OneDrive\\Dokumente\\GitHub\\Chairlift_Gefahrenerkennung\\01_Data_Jon\\Augmented\\Images_split\\Images\\train\\images\\frame_46_aug_rotate22_brightness0.15.jpg: ignoring corrupt image/label: Label class 3 exceeds dataset class count 3. Possible class labels are 0-2\n",
      "\u001b[34m\u001b[1mtrain: \u001b[0mC:\\Users\\jonni\\OneDrive\\Dokumente\\GitHub\\Chairlift_Gefahrenerkennung\\01_Data_Jon\\Augmented\\Images_split\\Images\\train\\images\\frame_46_aug_rotate45_brightness0.15.jpg: ignoring corrupt image/label: Label class 3 exceeds dataset class count 3. Possible class labels are 0-2\n",
      "\u001b[34m\u001b[1mtrain: \u001b[0mC:\\Users\\jonni\\OneDrive\\Dokumente\\GitHub\\Chairlift_Gefahrenerkennung\\01_Data_Jon\\Augmented\\Images_split\\Images\\train\\images\\frame_46_aug_rotate45_brightness0.jpg: ignoring corrupt image/label: Label class 3 exceeds dataset class count 3. Possible class labels are 0-2\n",
      "\u001b[34m\u001b[1mtrain: \u001b[0mC:\\Users\\jonni\\OneDrive\\Dokumente\\GitHub\\Chairlift_Gefahrenerkennung\\01_Data_Jon\\Augmented\\Images_split\\Images\\train\\images\\frame_47_aug_rotate0_brightness0.15.jpg: ignoring corrupt image/label: Label class 3 exceeds dataset class count 3. Possible class labels are 0-2\n",
      "\u001b[34m\u001b[1mtrain: \u001b[0mC:\\Users\\jonni\\OneDrive\\Dokumente\\GitHub\\Chairlift_Gefahrenerkennung\\01_Data_Jon\\Augmented\\Images_split\\Images\\train\\images\\frame_47_aug_rotate22_brightness0.15.jpg: ignoring corrupt image/label: Label class 3 exceeds dataset class count 3. Possible class labels are 0-2\n",
      "\u001b[34m\u001b[1mtrain: \u001b[0mC:\\Users\\jonni\\OneDrive\\Dokumente\\GitHub\\Chairlift_Gefahrenerkennung\\01_Data_Jon\\Augmented\\Images_split\\Images\\train\\images\\frame_47_aug_rotate22_brightness0.jpg: ignoring corrupt image/label: Label class 3 exceeds dataset class count 3. Possible class labels are 0-2\n",
      "\u001b[34m\u001b[1mtrain: \u001b[0mC:\\Users\\jonni\\OneDrive\\Dokumente\\GitHub\\Chairlift_Gefahrenerkennung\\01_Data_Jon\\Augmented\\Images_split\\Images\\train\\images\\frame_47_aug_rotate45_brightness-0.15.jpg: ignoring corrupt image/label: Label class 3 exceeds dataset class count 3. Possible class labels are 0-2\n",
      "\u001b[34m\u001b[1mtrain: \u001b[0mC:\\Users\\jonni\\OneDrive\\Dokumente\\GitHub\\Chairlift_Gefahrenerkennung\\01_Data_Jon\\Augmented\\Images_split\\Images\\train\\images\\frame_47_aug_rotate45_brightness0.15.jpg: ignoring corrupt image/label: Label class 3 exceeds dataset class count 3. Possible class labels are 0-2\n",
      "\u001b[34m\u001b[1mtrain: \u001b[0mNew cache created: C:\\Users\\jonni\\OneDrive\\Dokumente\\GitHub\\Chairlift_Gefahrenerkennung\\01_Data_Jon\\Augmented\\Images_split\\Images\\train\\labels.cache\n"
     ]
    },
    {
     "name": "stderr",
     "output_type": "stream",
     "text": [
      "\n",
      "c:\\Users\\jonni\\AppData\\Local\\Programs\\Python\\Python312\\Lib\\site-packages\\tqdm\\auto.py:21: TqdmWarning: IProgress not found. Please update jupyter and ipywidgets. See https://ipywidgets.readthedocs.io/en/stable/user_install.html\n",
      "  from .autonotebook import tqdm as notebook_tqdm\n"
     ]
    },
    {
     "name": "stdout",
     "output_type": "stream",
     "text": [
      "\u001b[34m\u001b[1malbumentations: \u001b[0mBlur(p=0.01, blur_limit=(3, 7)), MedianBlur(p=0.01, blur_limit=(3, 7)), ToGray(p=0.01, method='weighted_average', num_output_channels=3), CLAHE(p=0.01, clip_limit=(1.0, 4.0), tile_grid_size=(8, 8))\n",
      "\u001b[34m\u001b[1mval: \u001b[0mFast image access  (ping: 2.34.2 ms, read: 1.10.4 MB/s, size: 35.7 KB)\n"
     ]
    },
    {
     "name": "stderr",
     "output_type": "stream",
     "text": [
      "\u001b[34m\u001b[1mval: \u001b[0mScanning C:\\Users\\jonni\\OneDrive\\Dokumente\\GitHub\\Chairlift_Gefahrenerkennung\\01_Data_Jon\\Augmented\\Images_split\\Images\\val\\labels... 90 images, 0 backgrounds, 33 corrupt: 100%|██████████| 90/90 [00:00<00:00, 168.17it/s]"
     ]
    },
    {
     "name": "stdout",
     "output_type": "stream",
     "text": [
      "\u001b[34m\u001b[1mval: \u001b[0mC:\\Users\\jonni\\OneDrive\\Dokumente\\GitHub\\Chairlift_Gefahrenerkennung\\01_Data_Jon\\Augmented\\Images_split\\Images\\val\\images\\frame_31_aug_rotate0_brightness-0.15.jpg: ignoring corrupt image/label: Label class 3 exceeds dataset class count 3. Possible class labels are 0-2\n",
      "\u001b[34m\u001b[1mval: \u001b[0mC:\\Users\\jonni\\OneDrive\\Dokumente\\GitHub\\Chairlift_Gefahrenerkennung\\01_Data_Jon\\Augmented\\Images_split\\Images\\val\\images\\frame_31_aug_rotate22_brightness0.15.jpg: ignoring corrupt image/label: Label class 3 exceeds dataset class count 3. Possible class labels are 0-2\n",
      "\u001b[34m\u001b[1mval: \u001b[0mC:\\Users\\jonni\\OneDrive\\Dokumente\\GitHub\\Chairlift_Gefahrenerkennung\\01_Data_Jon\\Augmented\\Images_split\\Images\\val\\images\\frame_32_aug_rotate0_brightness0.jpg: ignoring corrupt image/label: Label class 3 exceeds dataset class count 3. Possible class labels are 0-2\n",
      "\u001b[34m\u001b[1mval: \u001b[0mC:\\Users\\jonni\\OneDrive\\Dokumente\\GitHub\\Chairlift_Gefahrenerkennung\\01_Data_Jon\\Augmented\\Images_split\\Images\\val\\images\\frame_32_aug_rotate22_brightness0.15.jpg: ignoring corrupt image/label: Label class 3 exceeds dataset class count 3. Possible class labels are 0-2\n",
      "\u001b[34m\u001b[1mval: \u001b[0mC:\\Users\\jonni\\OneDrive\\Dokumente\\GitHub\\Chairlift_Gefahrenerkennung\\01_Data_Jon\\Augmented\\Images_split\\Images\\val\\images\\frame_32_aug_rotate22_brightness0.jpg: ignoring corrupt image/label: Label class 3 exceeds dataset class count 3. Possible class labels are 0-2\n",
      "\u001b[34m\u001b[1mval: \u001b[0mC:\\Users\\jonni\\OneDrive\\Dokumente\\GitHub\\Chairlift_Gefahrenerkennung\\01_Data_Jon\\Augmented\\Images_split\\Images\\val\\images\\frame_33_aug_rotate45_brightness-0.15.jpg: ignoring corrupt image/label: Label class 3 exceeds dataset class count 3. Possible class labels are 0-2\n",
      "\u001b[34m\u001b[1mval: \u001b[0mC:\\Users\\jonni\\OneDrive\\Dokumente\\GitHub\\Chairlift_Gefahrenerkennung\\01_Data_Jon\\Augmented\\Images_split\\Images\\val\\images\\frame_33_aug_rotate45_brightness0.15.jpg: ignoring corrupt image/label: Label class 3 exceeds dataset class count 3. Possible class labels are 0-2\n",
      "\u001b[34m\u001b[1mval: \u001b[0mC:\\Users\\jonni\\OneDrive\\Dokumente\\GitHub\\Chairlift_Gefahrenerkennung\\01_Data_Jon\\Augmented\\Images_split\\Images\\val\\images\\frame_34_aug_rotate22_brightness0.jpg: ignoring corrupt image/label: Label class 3 exceeds dataset class count 3. Possible class labels are 0-2\n",
      "\u001b[34m\u001b[1mval: \u001b[0mC:\\Users\\jonni\\OneDrive\\Dokumente\\GitHub\\Chairlift_Gefahrenerkennung\\01_Data_Jon\\Augmented\\Images_split\\Images\\val\\images\\frame_34_aug_rotate45_brightness-0.15.jpg: ignoring corrupt image/label: Label class 3 exceeds dataset class count 3. Possible class labels are 0-2\n",
      "\u001b[34m\u001b[1mval: \u001b[0mC:\\Users\\jonni\\OneDrive\\Dokumente\\GitHub\\Chairlift_Gefahrenerkennung\\01_Data_Jon\\Augmented\\Images_split\\Images\\val\\images\\frame_35_aug_rotate0_brightness0.15.jpg: ignoring corrupt image/label: Label class 3 exceeds dataset class count 3. Possible class labels are 0-2\n",
      "\u001b[34m\u001b[1mval: \u001b[0mC:\\Users\\jonni\\OneDrive\\Dokumente\\GitHub\\Chairlift_Gefahrenerkennung\\01_Data_Jon\\Augmented\\Images_split\\Images\\val\\images\\frame_35_aug_rotate0_brightness0.jpg: ignoring corrupt image/label: Label class 3 exceeds dataset class count 3. Possible class labels are 0-2\n",
      "\u001b[34m\u001b[1mval: \u001b[0mC:\\Users\\jonni\\OneDrive\\Dokumente\\GitHub\\Chairlift_Gefahrenerkennung\\01_Data_Jon\\Augmented\\Images_split\\Images\\val\\images\\frame_36_aug_rotate0_brightness0.jpg: ignoring corrupt image/label: Label class 3 exceeds dataset class count 3. Possible class labels are 0-2\n",
      "\u001b[34m\u001b[1mval: \u001b[0mC:\\Users\\jonni\\OneDrive\\Dokumente\\GitHub\\Chairlift_Gefahrenerkennung\\01_Data_Jon\\Augmented\\Images_split\\Images\\val\\images\\frame_36_aug_rotate22_brightness-0.15.jpg: ignoring corrupt image/label: Label class 3 exceeds dataset class count 3. Possible class labels are 0-2\n",
      "\u001b[34m\u001b[1mval: \u001b[0mC:\\Users\\jonni\\OneDrive\\Dokumente\\GitHub\\Chairlift_Gefahrenerkennung\\01_Data_Jon\\Augmented\\Images_split\\Images\\val\\images\\frame_36_aug_rotate22_brightness0.15.jpg: ignoring corrupt image/label: Label class 3 exceeds dataset class count 3. Possible class labels are 0-2\n",
      "\u001b[34m\u001b[1mval: \u001b[0mC:\\Users\\jonni\\OneDrive\\Dokumente\\GitHub\\Chairlift_Gefahrenerkennung\\01_Data_Jon\\Augmented\\Images_split\\Images\\val\\images\\frame_36_aug_rotate45_brightness-0.15.jpg: ignoring corrupt image/label: Label class 3 exceeds dataset class count 3. Possible class labels are 0-2\n",
      "\u001b[34m\u001b[1mval: \u001b[0mC:\\Users\\jonni\\OneDrive\\Dokumente\\GitHub\\Chairlift_Gefahrenerkennung\\01_Data_Jon\\Augmented\\Images_split\\Images\\val\\images\\frame_37_aug_rotate0_brightness0.jpg: ignoring corrupt image/label: Label class 3 exceeds dataset class count 3. Possible class labels are 0-2\n",
      "\u001b[34m\u001b[1mval: \u001b[0mC:\\Users\\jonni\\OneDrive\\Dokumente\\GitHub\\Chairlift_Gefahrenerkennung\\01_Data_Jon\\Augmented\\Images_split\\Images\\val\\images\\frame_38_aug_rotate45_brightness0.jpg: ignoring corrupt image/label: Label class 3 exceeds dataset class count 3. Possible class labels are 0-2\n",
      "\u001b[34m\u001b[1mval: \u001b[0mC:\\Users\\jonni\\OneDrive\\Dokumente\\GitHub\\Chairlift_Gefahrenerkennung\\01_Data_Jon\\Augmented\\Images_split\\Images\\val\\images\\frame_39_aug_rotate0_brightness0.jpg: ignoring corrupt image/label: Label class 3 exceeds dataset class count 3. Possible class labels are 0-2\n",
      "\u001b[34m\u001b[1mval: \u001b[0mC:\\Users\\jonni\\OneDrive\\Dokumente\\GitHub\\Chairlift_Gefahrenerkennung\\01_Data_Jon\\Augmented\\Images_split\\Images\\val\\images\\frame_39_aug_rotate45_brightness-0.15.jpg: ignoring corrupt image/label: Label class 3 exceeds dataset class count 3. Possible class labels are 0-2\n",
      "\u001b[34m\u001b[1mval: \u001b[0mC:\\Users\\jonni\\OneDrive\\Dokumente\\GitHub\\Chairlift_Gefahrenerkennung\\01_Data_Jon\\Augmented\\Images_split\\Images\\val\\images\\frame_39_aug_rotate45_brightness0.15.jpg: ignoring corrupt image/label: Label class 3 exceeds dataset class count 3. Possible class labels are 0-2\n",
      "\u001b[34m\u001b[1mval: \u001b[0mC:\\Users\\jonni\\OneDrive\\Dokumente\\GitHub\\Chairlift_Gefahrenerkennung\\01_Data_Jon\\Augmented\\Images_split\\Images\\val\\images\\frame_40_aug_rotate0_brightness0.15.jpg: ignoring corrupt image/label: Label class 3 exceeds dataset class count 3. Possible class labels are 0-2\n",
      "\u001b[34m\u001b[1mval: \u001b[0mC:\\Users\\jonni\\OneDrive\\Dokumente\\GitHub\\Chairlift_Gefahrenerkennung\\01_Data_Jon\\Augmented\\Images_split\\Images\\val\\images\\frame_41_aug_rotate0_brightness0.jpg: ignoring corrupt image/label: Label class 3 exceeds dataset class count 3. Possible class labels are 0-2\n",
      "\u001b[34m\u001b[1mval: \u001b[0mC:\\Users\\jonni\\OneDrive\\Dokumente\\GitHub\\Chairlift_Gefahrenerkennung\\01_Data_Jon\\Augmented\\Images_split\\Images\\val\\images\\frame_41_aug_rotate45_brightness0.jpg: ignoring corrupt image/label: Label class 3 exceeds dataset class count 3. Possible class labels are 0-2\n",
      "\u001b[34m\u001b[1mval: \u001b[0mC:\\Users\\jonni\\OneDrive\\Dokumente\\GitHub\\Chairlift_Gefahrenerkennung\\01_Data_Jon\\Augmented\\Images_split\\Images\\val\\images\\frame_42_aug_rotate0_brightness-0.15.jpg: ignoring corrupt image/label: Label class 3 exceeds dataset class count 3. Possible class labels are 0-2\n",
      "\u001b[34m\u001b[1mval: \u001b[0mC:\\Users\\jonni\\OneDrive\\Dokumente\\GitHub\\Chairlift_Gefahrenerkennung\\01_Data_Jon\\Augmented\\Images_split\\Images\\val\\images\\frame_42_aug_rotate0_brightness0.15.jpg: ignoring corrupt image/label: Label class 3 exceeds dataset class count 3. Possible class labels are 0-2\n",
      "\u001b[34m\u001b[1mval: \u001b[0mC:\\Users\\jonni\\OneDrive\\Dokumente\\GitHub\\Chairlift_Gefahrenerkennung\\01_Data_Jon\\Augmented\\Images_split\\Images\\val\\images\\frame_44_aug_rotate0_brightness0.15.jpg: ignoring corrupt image/label: Label class 3 exceeds dataset class count 3. Possible class labels are 0-2\n",
      "\u001b[34m\u001b[1mval: \u001b[0mC:\\Users\\jonni\\OneDrive\\Dokumente\\GitHub\\Chairlift_Gefahrenerkennung\\01_Data_Jon\\Augmented\\Images_split\\Images\\val\\images\\frame_44_aug_rotate22_brightness0.jpg: ignoring corrupt image/label: Label class 3 exceeds dataset class count 3. Possible class labels are 0-2\n",
      "\u001b[34m\u001b[1mval: \u001b[0mC:\\Users\\jonni\\OneDrive\\Dokumente\\GitHub\\Chairlift_Gefahrenerkennung\\01_Data_Jon\\Augmented\\Images_split\\Images\\val\\images\\frame_46_aug_rotate0_brightness-0.15.jpg: ignoring corrupt image/label: Label class 3 exceeds dataset class count 3. Possible class labels are 0-2\n",
      "\u001b[34m\u001b[1mval: \u001b[0mC:\\Users\\jonni\\OneDrive\\Dokumente\\GitHub\\Chairlift_Gefahrenerkennung\\01_Data_Jon\\Augmented\\Images_split\\Images\\val\\images\\frame_46_aug_rotate22_brightness0.jpg: ignoring corrupt image/label: Label class 3 exceeds dataset class count 3. Possible class labels are 0-2\n",
      "\u001b[34m\u001b[1mval: \u001b[0mC:\\Users\\jonni\\OneDrive\\Dokumente\\GitHub\\Chairlift_Gefahrenerkennung\\01_Data_Jon\\Augmented\\Images_split\\Images\\val\\images\\frame_46_aug_rotate45_brightness-0.15.jpg: ignoring corrupt image/label: Label class 3 exceeds dataset class count 3. Possible class labels are 0-2\n",
      "\u001b[34m\u001b[1mval: \u001b[0mC:\\Users\\jonni\\OneDrive\\Dokumente\\GitHub\\Chairlift_Gefahrenerkennung\\01_Data_Jon\\Augmented\\Images_split\\Images\\val\\images\\frame_47_aug_rotate0_brightness0.jpg: ignoring corrupt image/label: Label class 3 exceeds dataset class count 3. Possible class labels are 0-2\n",
      "\u001b[34m\u001b[1mval: \u001b[0mC:\\Users\\jonni\\OneDrive\\Dokumente\\GitHub\\Chairlift_Gefahrenerkennung\\01_Data_Jon\\Augmented\\Images_split\\Images\\val\\images\\frame_47_aug_rotate22_brightness-0.15.jpg: ignoring corrupt image/label: Label class 3 exceeds dataset class count 3. Possible class labels are 0-2\n",
      "\u001b[34m\u001b[1mval: \u001b[0mC:\\Users\\jonni\\OneDrive\\Dokumente\\GitHub\\Chairlift_Gefahrenerkennung\\01_Data_Jon\\Augmented\\Images_split\\Images\\val\\images\\frame_47_aug_rotate45_brightness0.jpg: ignoring corrupt image/label: Label class 3 exceeds dataset class count 3. Possible class labels are 0-2\n",
      "\u001b[34m\u001b[1mval: \u001b[0mNew cache created: C:\\Users\\jonni\\OneDrive\\Dokumente\\GitHub\\Chairlift_Gefahrenerkennung\\01_Data_Jon\\Augmented\\Images_split\\Images\\val\\labels.cache\n"
     ]
    },
    {
     "name": "stderr",
     "output_type": "stream",
     "text": [
      "\n"
     ]
    },
    {
     "name": "stdout",
     "output_type": "stream",
     "text": [
      "Plotting labels to runs\\train\\yolo11n_custom\\labels.jpg... \n",
      "\u001b[34m\u001b[1moptimizer:\u001b[0m 'optimizer=auto' found, ignoring 'lr0=0.01' and 'momentum=0.937' and determining best 'optimizer', 'lr0' and 'momentum' automatically... \n",
      "\u001b[34m\u001b[1moptimizer:\u001b[0m AdamW(lr=0.001429, momentum=0.9) with parameter groups 81 weight(decay=0.0), 88 weight(decay=0.0005), 87 bias(decay=0.0)\n",
      "Image sizes 640 train, 640 val\n",
      "Using 12 dataloader workers\n",
      "Logging results to \u001b[1mruns\\train\\yolo11n_custom\u001b[0m\n",
      "Starting training for 100 epochs...\n",
      "\n",
      "      Epoch    GPU_mem   box_loss   cls_loss   dfl_loss  Instances       Size\n"
     ]
    },
    {
     "name": "stderr",
     "output_type": "stream",
     "text": [
      "      1/100      4.15G      2.996      5.296      2.259         80        640: 100%|██████████| 7/7 [00:08<00:00,  1.18s/it]\n",
      "                 Class     Images  Instances      Box(P          R      mAP50  mAP50-95): 100%|██████████| 1/1 [00:00<00:00,  1.49it/s]"
     ]
    },
    {
     "name": "stdout",
     "output_type": "stream",
     "text": [
      "                   all         57         94    0.00103      0.253   0.000981   0.000432\n"
     ]
    },
    {
     "name": "stderr",
     "output_type": "stream",
     "text": [
      "\n"
     ]
    },
    {
     "name": "stdout",
     "output_type": "stream",
     "text": [
      "\n",
      "      Epoch    GPU_mem   box_loss   cls_loss   dfl_loss  Instances       Size\n"
     ]
    },
    {
     "name": "stderr",
     "output_type": "stream",
     "text": [
      "      2/100      4.23G      2.562      4.911      1.895         81        640: 100%|██████████| 7/7 [00:05<00:00,  1.17it/s]\n",
      "                 Class     Images  Instances      Box(P          R      mAP50  mAP50-95): 100%|██████████| 1/1 [00:00<00:00,  1.27it/s]"
     ]
    },
    {
     "name": "stdout",
     "output_type": "stream",
     "text": [
      "                   all         57         94    0.00134      0.214     0.0204    0.00762\n"
     ]
    },
    {
     "name": "stderr",
     "output_type": "stream",
     "text": [
      "\n"
     ]
    },
    {
     "name": "stdout",
     "output_type": "stream",
     "text": [
      "\n",
      "      Epoch    GPU_mem   box_loss   cls_loss   dfl_loss  Instances       Size\n"
     ]
    },
    {
     "name": "stderr",
     "output_type": "stream",
     "text": [
      "      3/100      4.21G      2.003      4.042      1.509         91        640: 100%|██████████| 7/7 [00:05<00:00,  1.18it/s]\n",
      "                 Class     Images  Instances      Box(P          R      mAP50  mAP50-95): 100%|██████████| 1/1 [00:00<00:00,  1.36it/s]"
     ]
    },
    {
     "name": "stdout",
     "output_type": "stream",
     "text": [
      "                   all         57         94    0.00244       0.36     0.0876     0.0402\n"
     ]
    },
    {
     "name": "stderr",
     "output_type": "stream",
     "text": [
      "\n"
     ]
    },
    {
     "name": "stdout",
     "output_type": "stream",
     "text": [
      "\n",
      "      Epoch    GPU_mem   box_loss   cls_loss   dfl_loss  Instances       Size\n"
     ]
    },
    {
     "name": "stderr",
     "output_type": "stream",
     "text": [
      "      4/100      4.25G      1.951      3.387      1.488         73        640: 100%|██████████| 7/7 [00:06<00:00,  1.04it/s]\n",
      "                 Class     Images  Instances      Box(P          R      mAP50  mAP50-95): 100%|██████████| 1/1 [00:00<00:00,  1.21it/s]"
     ]
    },
    {
     "name": "stdout",
     "output_type": "stream",
     "text": [
      "                   all         57         94    0.00226       0.33      0.147      0.065\n"
     ]
    },
    {
     "name": "stderr",
     "output_type": "stream",
     "text": [
      "\n"
     ]
    },
    {
     "name": "stdout",
     "output_type": "stream",
     "text": [
      "\n",
      "      Epoch    GPU_mem   box_loss   cls_loss   dfl_loss  Instances       Size\n"
     ]
    },
    {
     "name": "stderr",
     "output_type": "stream",
     "text": [
      "      5/100      4.21G      1.842      2.683      1.368         67        640: 100%|██████████| 7/7 [00:05<00:00,  1.24it/s]\n",
      "                 Class     Images  Instances      Box(P          R      mAP50  mAP50-95): 100%|██████████| 1/1 [00:00<00:00,  1.47it/s]"
     ]
    },
    {
     "name": "stdout",
     "output_type": "stream",
     "text": [
      "                   all         57         94    0.00178      0.262      0.135     0.0484\n"
     ]
    },
    {
     "name": "stderr",
     "output_type": "stream",
     "text": [
      "\n"
     ]
    },
    {
     "name": "stdout",
     "output_type": "stream",
     "text": [
      "\n",
      "      Epoch    GPU_mem   box_loss   cls_loss   dfl_loss  Instances       Size\n"
     ]
    },
    {
     "name": "stderr",
     "output_type": "stream",
     "text": [
      "      6/100      4.21G      1.737      2.374      1.322         71        640: 100%|██████████| 7/7 [00:05<00:00,  1.26it/s]\n",
      "                 Class     Images  Instances      Box(P          R      mAP50  mAP50-95): 100%|██████████| 1/1 [00:00<00:00,  1.42it/s]"
     ]
    },
    {
     "name": "stdout",
     "output_type": "stream",
     "text": [
      "                   all         57         94    0.00191      0.218      0.132     0.0749\n"
     ]
    },
    {
     "name": "stderr",
     "output_type": "stream",
     "text": [
      "\n"
     ]
    },
    {
     "name": "stdout",
     "output_type": "stream",
     "text": [
      "\n",
      "      Epoch    GPU_mem   box_loss   cls_loss   dfl_loss  Instances       Size\n"
     ]
    },
    {
     "name": "stderr",
     "output_type": "stream",
     "text": [
      "      7/100      4.25G      1.643      2.101       1.26         69        640: 100%|██████████| 7/7 [00:05<00:00,  1.17it/s]\n",
      "                 Class     Images  Instances      Box(P          R      mAP50  mAP50-95): 100%|██████████| 1/1 [00:00<00:00,  1.35it/s]"
     ]
    },
    {
     "name": "stdout",
     "output_type": "stream",
     "text": [
      "                   all         57         94    0.00253      0.312      0.232       0.14\n"
     ]
    },
    {
     "name": "stderr",
     "output_type": "stream",
     "text": [
      "\n"
     ]
    },
    {
     "name": "stdout",
     "output_type": "stream",
     "text": [
      "\n",
      "      Epoch    GPU_mem   box_loss   cls_loss   dfl_loss  Instances       Size\n"
     ]
    },
    {
     "name": "stderr",
     "output_type": "stream",
     "text": [
      "      8/100      4.21G      1.606      1.988      1.271         58        640: 100%|██████████| 7/7 [00:05<00:00,  1.28it/s]\n",
      "                 Class     Images  Instances      Box(P          R      mAP50  mAP50-95): 100%|██████████| 1/1 [00:00<00:00,  1.51it/s]"
     ]
    },
    {
     "name": "stdout",
     "output_type": "stream",
     "text": [
      "                   all         57         94    0.00317      0.408      0.276      0.148\n"
     ]
    },
    {
     "name": "stderr",
     "output_type": "stream",
     "text": [
      "\n"
     ]
    },
    {
     "name": "stdout",
     "output_type": "stream",
     "text": [
      "\n",
      "      Epoch    GPU_mem   box_loss   cls_loss   dfl_loss  Instances       Size\n"
     ]
    },
    {
     "name": "stderr",
     "output_type": "stream",
     "text": [
      "      9/100      4.23G      1.572      1.907      1.232         68        640: 100%|██████████| 7/7 [00:05<00:00,  1.24it/s]\n",
      "                 Class     Images  Instances      Box(P          R      mAP50  mAP50-95): 100%|██████████| 1/1 [00:00<00:00,  1.45it/s]"
     ]
    },
    {
     "name": "stdout",
     "output_type": "stream",
     "text": [
      "                   all         57         94    0.00373      0.497      0.486       0.27\n"
     ]
    },
    {
     "name": "stderr",
     "output_type": "stream",
     "text": [
      "\n"
     ]
    },
    {
     "name": "stdout",
     "output_type": "stream",
     "text": [
      "\n",
      "      Epoch    GPU_mem   box_loss   cls_loss   dfl_loss  Instances       Size\n"
     ]
    },
    {
     "name": "stderr",
     "output_type": "stream",
     "text": [
      "     10/100      4.24G      1.552      1.708      1.191         73        640: 100%|██████████| 7/7 [00:05<00:00,  1.32it/s]\n",
      "                 Class     Images  Instances      Box(P          R      mAP50  mAP50-95): 100%|██████████| 1/1 [00:00<00:00,  1.46it/s]"
     ]
    },
    {
     "name": "stdout",
     "output_type": "stream",
     "text": [
      "                   all         57         94      0.965      0.469      0.473      0.267\n"
     ]
    },
    {
     "name": "stderr",
     "output_type": "stream",
     "text": [
      "\n"
     ]
    },
    {
     "name": "stdout",
     "output_type": "stream",
     "text": [
      "\n",
      "      Epoch    GPU_mem   box_loss   cls_loss   dfl_loss  Instances       Size\n"
     ]
    },
    {
     "name": "stderr",
     "output_type": "stream",
     "text": [
      "     11/100      4.21G      1.515       1.64      1.186         62        640: 100%|██████████| 7/7 [00:05<00:00,  1.28it/s]\n",
      "                 Class     Images  Instances      Box(P          R      mAP50  mAP50-95): 100%|██████████| 1/1 [00:00<00:00,  1.48it/s]"
     ]
    },
    {
     "name": "stdout",
     "output_type": "stream",
     "text": [
      "                   all         57         94          1     0.0467       0.53      0.301\n"
     ]
    },
    {
     "name": "stderr",
     "output_type": "stream",
     "text": [
      "\n"
     ]
    },
    {
     "name": "stdout",
     "output_type": "stream",
     "text": [
      "\n",
      "      Epoch    GPU_mem   box_loss   cls_loss   dfl_loss  Instances       Size\n"
     ]
    },
    {
     "name": "stderr",
     "output_type": "stream",
     "text": [
      "     12/100      4.21G      1.539       1.61       1.21         62        640: 100%|██████████| 7/7 [00:05<00:00,  1.31it/s]\n",
      "                 Class     Images  Instances      Box(P          R      mAP50  mAP50-95): 100%|██████████| 1/1 [00:00<00:00,  1.52it/s]"
     ]
    },
    {
     "name": "stdout",
     "output_type": "stream",
     "text": [
      "                   all         57         94          1      0.141      0.681      0.362\n"
     ]
    },
    {
     "name": "stderr",
     "output_type": "stream",
     "text": [
      "\n"
     ]
    },
    {
     "name": "stdout",
     "output_type": "stream",
     "text": [
      "\n",
      "      Epoch    GPU_mem   box_loss   cls_loss   dfl_loss  Instances       Size\n"
     ]
    },
    {
     "name": "stderr",
     "output_type": "stream",
     "text": [
      "     13/100      4.21G      1.497      1.516      1.188         83        640: 100%|██████████| 7/7 [00:05<00:00,  1.25it/s]\n",
      "                 Class     Images  Instances      Box(P          R      mAP50  mAP50-95): 100%|██████████| 1/1 [00:00<00:00,  1.43it/s]"
     ]
    },
    {
     "name": "stdout",
     "output_type": "stream",
     "text": [
      "                   all         57         94          1      0.255      0.652      0.349\n"
     ]
    },
    {
     "name": "stderr",
     "output_type": "stream",
     "text": [
      "\n"
     ]
    },
    {
     "name": "stdout",
     "output_type": "stream",
     "text": [
      "\n",
      "      Epoch    GPU_mem   box_loss   cls_loss   dfl_loss  Instances       Size\n"
     ]
    },
    {
     "name": "stderr",
     "output_type": "stream",
     "text": [
      "     14/100      4.24G      1.385      1.507      1.153         80        640: 100%|██████████| 7/7 [00:05<00:00,  1.29it/s]\n",
      "                 Class     Images  Instances      Box(P          R      mAP50  mAP50-95): 100%|██████████| 1/1 [00:00<00:00,  1.57it/s]"
     ]
    },
    {
     "name": "stdout",
     "output_type": "stream",
     "text": [
      "                   all         57         94      0.957      0.394      0.802      0.431\n"
     ]
    },
    {
     "name": "stderr",
     "output_type": "stream",
     "text": [
      "\n"
     ]
    },
    {
     "name": "stdout",
     "output_type": "stream",
     "text": [
      "\n",
      "      Epoch    GPU_mem   box_loss   cls_loss   dfl_loss  Instances       Size\n"
     ]
    },
    {
     "name": "stderr",
     "output_type": "stream",
     "text": [
      "     15/100      4.23G      1.366      1.359       1.11         86        640: 100%|██████████| 7/7 [00:05<00:00,  1.32it/s]\n",
      "                 Class     Images  Instances      Box(P          R      mAP50  mAP50-95): 100%|██████████| 1/1 [00:00<00:00,  1.50it/s]"
     ]
    },
    {
     "name": "stdout",
     "output_type": "stream",
     "text": [
      "                   all         57         94      0.957      0.488      0.862      0.486\n"
     ]
    },
    {
     "name": "stderr",
     "output_type": "stream",
     "text": [
      "\n"
     ]
    },
    {
     "name": "stdout",
     "output_type": "stream",
     "text": [
      "\n",
      "      Epoch    GPU_mem   box_loss   cls_loss   dfl_loss  Instances       Size\n"
     ]
    },
    {
     "name": "stderr",
     "output_type": "stream",
     "text": [
      "     16/100      4.24G      1.355      1.342      1.123         85        640: 100%|██████████| 7/7 [00:05<00:00,  1.32it/s]\n",
      "                 Class     Images  Instances      Box(P          R      mAP50  mAP50-95): 100%|██████████| 1/1 [00:00<00:00,  1.53it/s]"
     ]
    },
    {
     "name": "stdout",
     "output_type": "stream",
     "text": [
      "                   all         57         94      0.956      0.434      0.892      0.474\n"
     ]
    },
    {
     "name": "stderr",
     "output_type": "stream",
     "text": [
      "\n"
     ]
    },
    {
     "name": "stdout",
     "output_type": "stream",
     "text": [
      "\n",
      "      Epoch    GPU_mem   box_loss   cls_loss   dfl_loss  Instances       Size\n"
     ]
    },
    {
     "name": "stderr",
     "output_type": "stream",
     "text": [
      "     17/100      4.21G       1.39      1.372      1.138         66        640: 100%|██████████| 7/7 [00:05<00:00,  1.26it/s]\n",
      "                 Class     Images  Instances      Box(P          R      mAP50  mAP50-95): 100%|██████████| 1/1 [00:00<00:00,  1.59it/s]"
     ]
    },
    {
     "name": "stdout",
     "output_type": "stream",
     "text": [
      "                   all         57         94      0.956      0.523      0.899      0.534\n"
     ]
    },
    {
     "name": "stderr",
     "output_type": "stream",
     "text": [
      "\n"
     ]
    },
    {
     "name": "stdout",
     "output_type": "stream",
     "text": [
      "\n",
      "      Epoch    GPU_mem   box_loss   cls_loss   dfl_loss  Instances       Size\n"
     ]
    },
    {
     "name": "stderr",
     "output_type": "stream",
     "text": [
      "     18/100      4.24G      1.298      1.262      1.092         74        640: 100%|██████████| 7/7 [00:04<00:00,  1.43it/s]\n",
      "                 Class     Images  Instances      Box(P          R      mAP50  mAP50-95): 100%|██████████| 1/1 [00:00<00:00,  1.38it/s]"
     ]
    },
    {
     "name": "stdout",
     "output_type": "stream",
     "text": [
      "                   all         57         94      0.937      0.622      0.854      0.461\n"
     ]
    },
    {
     "name": "stderr",
     "output_type": "stream",
     "text": [
      "\n"
     ]
    },
    {
     "name": "stdout",
     "output_type": "stream",
     "text": [
      "\n",
      "      Epoch    GPU_mem   box_loss   cls_loss   dfl_loss  Instances       Size\n"
     ]
    },
    {
     "name": "stderr",
     "output_type": "stream",
     "text": [
      "     19/100      4.24G      1.275      1.207      1.093         66        640: 100%|██████████| 7/7 [00:05<00:00,  1.29it/s]\n",
      "                 Class     Images  Instances      Box(P          R      mAP50  mAP50-95): 100%|██████████| 1/1 [00:00<00:00,  1.46it/s]"
     ]
    },
    {
     "name": "stdout",
     "output_type": "stream",
     "text": [
      "                   all         57         94      0.919      0.714      0.897      0.527\n"
     ]
    },
    {
     "name": "stderr",
     "output_type": "stream",
     "text": [
      "\n"
     ]
    },
    {
     "name": "stdout",
     "output_type": "stream",
     "text": [
      "\n",
      "      Epoch    GPU_mem   box_loss   cls_loss   dfl_loss  Instances       Size\n"
     ]
    },
    {
     "name": "stderr",
     "output_type": "stream",
     "text": [
      "     20/100      4.24G      1.273      1.224      1.105         80        640: 100%|██████████| 7/7 [00:04<00:00,  1.48it/s]\n",
      "                 Class     Images  Instances      Box(P          R      mAP50  mAP50-95): 100%|██████████| 1/1 [00:00<00:00,  1.49it/s]"
     ]
    },
    {
     "name": "stdout",
     "output_type": "stream",
     "text": [
      "                   all         57         94      0.884      0.723      0.903      0.535\n"
     ]
    },
    {
     "name": "stderr",
     "output_type": "stream",
     "text": [
      "\n"
     ]
    },
    {
     "name": "stdout",
     "output_type": "stream",
     "text": [
      "\n",
      "      Epoch    GPU_mem   box_loss   cls_loss   dfl_loss  Instances       Size\n"
     ]
    },
    {
     "name": "stderr",
     "output_type": "stream",
     "text": [
      "     21/100      4.21G      1.233      1.123      1.069         55        640: 100%|██████████| 7/7 [00:05<00:00,  1.33it/s]\n",
      "                 Class     Images  Instances      Box(P          R      mAP50  mAP50-95): 100%|██████████| 1/1 [00:00<00:00,  1.53it/s]"
     ]
    },
    {
     "name": "stdout",
     "output_type": "stream",
     "text": [
      "                   all         57         94      0.972      0.818        0.9      0.508\n"
     ]
    },
    {
     "name": "stderr",
     "output_type": "stream",
     "text": [
      "\n"
     ]
    },
    {
     "name": "stdout",
     "output_type": "stream",
     "text": [
      "\n",
      "      Epoch    GPU_mem   box_loss   cls_loss   dfl_loss  Instances       Size\n"
     ]
    },
    {
     "name": "stderr",
     "output_type": "stream",
     "text": [
      "     22/100      4.21G      1.286      1.179      1.104         68        640: 100%|██████████| 7/7 [00:05<00:00,  1.26it/s]\n",
      "                 Class     Images  Instances      Box(P          R      mAP50  mAP50-95): 100%|██████████| 1/1 [00:00<00:00,  1.67it/s]"
     ]
    },
    {
     "name": "stdout",
     "output_type": "stream",
     "text": [
      "                   all         57         94      0.968      0.867      0.932      0.542\n"
     ]
    },
    {
     "name": "stderr",
     "output_type": "stream",
     "text": [
      "\n"
     ]
    },
    {
     "name": "stdout",
     "output_type": "stream",
     "text": [
      "\n",
      "      Epoch    GPU_mem   box_loss   cls_loss   dfl_loss  Instances       Size\n"
     ]
    },
    {
     "name": "stderr",
     "output_type": "stream",
     "text": [
      "     23/100      4.21G       1.24        1.1       1.06         74        640: 100%|██████████| 7/7 [00:05<00:00,  1.24it/s]\n",
      "                 Class     Images  Instances      Box(P          R      mAP50  mAP50-95): 100%|██████████| 1/1 [00:00<00:00,  1.46it/s]"
     ]
    },
    {
     "name": "stdout",
     "output_type": "stream",
     "text": [
      "                   all         57         94      0.867      0.893      0.865      0.511\n"
     ]
    },
    {
     "name": "stderr",
     "output_type": "stream",
     "text": [
      "\n"
     ]
    },
    {
     "name": "stdout",
     "output_type": "stream",
     "text": [
      "\n",
      "      Epoch    GPU_mem   box_loss   cls_loss   dfl_loss  Instances       Size\n"
     ]
    },
    {
     "name": "stderr",
     "output_type": "stream",
     "text": [
      "     24/100      4.21G      1.173      1.052       1.05         63        640: 100%|██████████| 7/7 [00:05<00:00,  1.22it/s]\n",
      "                 Class     Images  Instances      Box(P          R      mAP50  mAP50-95): 100%|██████████| 1/1 [00:00<00:00,  1.53it/s]"
     ]
    },
    {
     "name": "stdout",
     "output_type": "stream",
     "text": [
      "                   all         57         94       0.82      0.862      0.864      0.457\n"
     ]
    },
    {
     "name": "stderr",
     "output_type": "stream",
     "text": [
      "\n"
     ]
    },
    {
     "name": "stdout",
     "output_type": "stream",
     "text": [
      "\n",
      "      Epoch    GPU_mem   box_loss   cls_loss   dfl_loss  Instances       Size\n"
     ]
    },
    {
     "name": "stderr",
     "output_type": "stream",
     "text": [
      "     25/100      4.23G      1.252      1.052      1.077         69        640: 100%|██████████| 7/7 [00:05<00:00,  1.32it/s]\n",
      "                 Class     Images  Instances      Box(P          R      mAP50  mAP50-95): 100%|██████████| 1/1 [00:00<00:00,  1.51it/s]"
     ]
    },
    {
     "name": "stdout",
     "output_type": "stream",
     "text": [
      "                   all         57         94      0.945       0.79      0.892       0.49\n"
     ]
    },
    {
     "name": "stderr",
     "output_type": "stream",
     "text": [
      "\n"
     ]
    },
    {
     "name": "stdout",
     "output_type": "stream",
     "text": [
      "\n",
      "      Epoch    GPU_mem   box_loss   cls_loss   dfl_loss  Instances       Size\n"
     ]
    },
    {
     "name": "stderr",
     "output_type": "stream",
     "text": [
      "     26/100      4.21G      1.213     0.9985      1.048         81        640: 100%|██████████| 7/7 [00:05<00:00,  1.23it/s]\n",
      "                 Class     Images  Instances      Box(P          R      mAP50  mAP50-95): 100%|██████████| 1/1 [00:00<00:00,  1.65it/s]"
     ]
    },
    {
     "name": "stdout",
     "output_type": "stream",
     "text": [
      "                   all         57         94      0.915      0.882      0.907      0.577\n"
     ]
    },
    {
     "name": "stderr",
     "output_type": "stream",
     "text": [
      "\n"
     ]
    },
    {
     "name": "stdout",
     "output_type": "stream",
     "text": [
      "\n",
      "      Epoch    GPU_mem   box_loss   cls_loss   dfl_loss  Instances       Size\n"
     ]
    },
    {
     "name": "stderr",
     "output_type": "stream",
     "text": [
      "     27/100      4.21G      1.196     0.9738       1.04         76        640: 100%|██████████| 7/7 [00:05<00:00,  1.23it/s]\n",
      "                 Class     Images  Instances      Box(P          R      mAP50  mAP50-95): 100%|██████████| 1/1 [00:00<00:00,  1.44it/s]"
     ]
    },
    {
     "name": "stdout",
     "output_type": "stream",
     "text": [
      "                   all         57         94      0.891      0.866      0.896      0.503\n"
     ]
    },
    {
     "name": "stderr",
     "output_type": "stream",
     "text": [
      "\n"
     ]
    },
    {
     "name": "stdout",
     "output_type": "stream",
     "text": [
      "\n",
      "      Epoch    GPU_mem   box_loss   cls_loss   dfl_loss  Instances       Size\n"
     ]
    },
    {
     "name": "stderr",
     "output_type": "stream",
     "text": [
      "     28/100      4.23G      1.157     0.9572      1.048         83        640: 100%|██████████| 7/7 [00:05<00:00,  1.28it/s]\n",
      "                 Class     Images  Instances      Box(P          R      mAP50  mAP50-95): 100%|██████████| 1/1 [00:00<00:00,  1.56it/s]"
     ]
    },
    {
     "name": "stdout",
     "output_type": "stream",
     "text": [
      "                   all         57         94      0.926      0.866      0.916      0.586\n"
     ]
    },
    {
     "name": "stderr",
     "output_type": "stream",
     "text": [
      "\n"
     ]
    },
    {
     "name": "stdout",
     "output_type": "stream",
     "text": [
      "\n",
      "      Epoch    GPU_mem   box_loss   cls_loss   dfl_loss  Instances       Size\n"
     ]
    },
    {
     "name": "stderr",
     "output_type": "stream",
     "text": [
      "     29/100      4.21G      1.185     0.9817      1.043         78        640: 100%|██████████| 7/7 [00:05<00:00,  1.25it/s]\n",
      "                 Class     Images  Instances      Box(P          R      mAP50  mAP50-95): 100%|██████████| 1/1 [00:00<00:00,  1.46it/s]"
     ]
    },
    {
     "name": "stdout",
     "output_type": "stream",
     "text": [
      "                   all         57         94      0.945      0.838      0.935      0.599\n"
     ]
    },
    {
     "name": "stderr",
     "output_type": "stream",
     "text": [
      "\n"
     ]
    },
    {
     "name": "stdout",
     "output_type": "stream",
     "text": [
      "\n",
      "      Epoch    GPU_mem   box_loss   cls_loss   dfl_loss  Instances       Size\n"
     ]
    },
    {
     "name": "stderr",
     "output_type": "stream",
     "text": [
      "     30/100      4.21G      1.201     0.9492      1.057         71        640: 100%|██████████| 7/7 [00:05<00:00,  1.31it/s]\n",
      "                 Class     Images  Instances      Box(P          R      mAP50  mAP50-95): 100%|██████████| 1/1 [00:00<00:00,  1.69it/s]"
     ]
    },
    {
     "name": "stdout",
     "output_type": "stream",
     "text": [
      "                   all         57         94      0.866      0.786       0.87      0.565\n"
     ]
    },
    {
     "name": "stderr",
     "output_type": "stream",
     "text": [
      "\n"
     ]
    },
    {
     "name": "stdout",
     "output_type": "stream",
     "text": [
      "\n",
      "      Epoch    GPU_mem   box_loss   cls_loss   dfl_loss  Instances       Size\n"
     ]
    },
    {
     "name": "stderr",
     "output_type": "stream",
     "text": [
      "     31/100      4.23G      1.154     0.9363      1.021         76        640: 100%|██████████| 7/7 [00:05<00:00,  1.27it/s]\n",
      "                 Class     Images  Instances      Box(P          R      mAP50  mAP50-95): 100%|██████████| 1/1 [00:00<00:00,  1.53it/s]"
     ]
    },
    {
     "name": "stdout",
     "output_type": "stream",
     "text": [
      "                   all         57         94      0.982       0.81      0.931      0.574\n"
     ]
    },
    {
     "name": "stderr",
     "output_type": "stream",
     "text": [
      "\n"
     ]
    },
    {
     "name": "stdout",
     "output_type": "stream",
     "text": [
      "\n",
      "      Epoch    GPU_mem   box_loss   cls_loss   dfl_loss  Instances       Size\n"
     ]
    },
    {
     "name": "stderr",
     "output_type": "stream",
     "text": [
      "     32/100      4.23G      1.111     0.9016      1.022         81        640: 100%|██████████| 7/7 [00:05<00:00,  1.32it/s]\n",
      "                 Class     Images  Instances      Box(P          R      mAP50  mAP50-95): 100%|██████████| 1/1 [00:00<00:00,  1.59it/s]"
     ]
    },
    {
     "name": "stdout",
     "output_type": "stream",
     "text": [
      "                   all         57         94       0.91      0.908      0.941      0.587\n"
     ]
    },
    {
     "name": "stderr",
     "output_type": "stream",
     "text": [
      "\n"
     ]
    },
    {
     "name": "stdout",
     "output_type": "stream",
     "text": [
      "\n",
      "      Epoch    GPU_mem   box_loss   cls_loss   dfl_loss  Instances       Size\n"
     ]
    },
    {
     "name": "stderr",
     "output_type": "stream",
     "text": [
      "     33/100      4.23G      1.112     0.8677      1.012         87        640: 100%|██████████| 7/7 [00:05<00:00,  1.22it/s]\n",
      "                 Class     Images  Instances      Box(P          R      mAP50  mAP50-95): 100%|██████████| 1/1 [00:00<00:00,  1.57it/s]"
     ]
    },
    {
     "name": "stdout",
     "output_type": "stream",
     "text": [
      "                   all         57         94      0.929       0.92      0.947      0.613\n"
     ]
    },
    {
     "name": "stderr",
     "output_type": "stream",
     "text": [
      "\n"
     ]
    },
    {
     "name": "stdout",
     "output_type": "stream",
     "text": [
      "\n",
      "      Epoch    GPU_mem   box_loss   cls_loss   dfl_loss  Instances       Size\n"
     ]
    },
    {
     "name": "stderr",
     "output_type": "stream",
     "text": [
      "     34/100      4.23G      1.087     0.8472      1.017         78        640: 100%|██████████| 7/7 [00:05<00:00,  1.29it/s]\n",
      "                 Class     Images  Instances      Box(P          R      mAP50  mAP50-95): 100%|██████████| 1/1 [00:00<00:00,  1.59it/s]"
     ]
    },
    {
     "name": "stdout",
     "output_type": "stream",
     "text": [
      "                   all         57         94      0.946      0.913      0.943      0.607\n"
     ]
    },
    {
     "name": "stderr",
     "output_type": "stream",
     "text": [
      "\n"
     ]
    },
    {
     "name": "stdout",
     "output_type": "stream",
     "text": [
      "\n",
      "      Epoch    GPU_mem   box_loss   cls_loss   dfl_loss  Instances       Size\n"
     ]
    },
    {
     "name": "stderr",
     "output_type": "stream",
     "text": [
      "     35/100      4.21G       1.05     0.8285     0.9879         71        640: 100%|██████████| 7/7 [00:05<00:00,  1.25it/s]\n",
      "                 Class     Images  Instances      Box(P          R      mAP50  mAP50-95): 100%|██████████| 1/1 [00:00<00:00,  1.62it/s]"
     ]
    },
    {
     "name": "stdout",
     "output_type": "stream",
     "text": [
      "                   all         57         94      0.976      0.912      0.948      0.637\n"
     ]
    },
    {
     "name": "stderr",
     "output_type": "stream",
     "text": [
      "\n"
     ]
    },
    {
     "name": "stdout",
     "output_type": "stream",
     "text": [
      "\n",
      "      Epoch    GPU_mem   box_loss   cls_loss   dfl_loss  Instances       Size\n"
     ]
    },
    {
     "name": "stderr",
     "output_type": "stream",
     "text": [
      "     36/100      4.21G      1.075     0.8325      1.006         75        640: 100%|██████████| 7/7 [00:05<00:00,  1.23it/s]\n",
      "                 Class     Images  Instances      Box(P          R      mAP50  mAP50-95): 100%|██████████| 1/1 [00:00<00:00,  1.56it/s]"
     ]
    },
    {
     "name": "stdout",
     "output_type": "stream",
     "text": [
      "                   all         57         94      0.963      0.902      0.951      0.657\n"
     ]
    },
    {
     "name": "stderr",
     "output_type": "stream",
     "text": [
      "\n"
     ]
    },
    {
     "name": "stdout",
     "output_type": "stream",
     "text": [
      "\n",
      "      Epoch    GPU_mem   box_loss   cls_loss   dfl_loss  Instances       Size\n"
     ]
    },
    {
     "name": "stderr",
     "output_type": "stream",
     "text": [
      "     37/100      4.21G      1.063     0.8333      1.001         62        640: 100%|██████████| 7/7 [00:05<00:00,  1.25it/s]\n",
      "                 Class     Images  Instances      Box(P          R      mAP50  mAP50-95): 100%|██████████| 1/1 [00:00<00:00,  1.62it/s]"
     ]
    },
    {
     "name": "stdout",
     "output_type": "stream",
     "text": [
      "                   all         57         94       0.95       0.93      0.956      0.599\n"
     ]
    },
    {
     "name": "stderr",
     "output_type": "stream",
     "text": [
      "\n"
     ]
    },
    {
     "name": "stdout",
     "output_type": "stream",
     "text": [
      "\n",
      "      Epoch    GPU_mem   box_loss   cls_loss   dfl_loss  Instances       Size\n"
     ]
    },
    {
     "name": "stderr",
     "output_type": "stream",
     "text": [
      "     38/100      4.21G      1.094     0.8315      1.006         64        640: 100%|██████████| 7/7 [00:05<00:00,  1.30it/s]\n",
      "                 Class     Images  Instances      Box(P          R      mAP50  mAP50-95): 100%|██████████| 1/1 [00:00<00:00,  1.70it/s]"
     ]
    },
    {
     "name": "stdout",
     "output_type": "stream",
     "text": [
      "                   all         57         94      0.928      0.946      0.953      0.612\n"
     ]
    },
    {
     "name": "stderr",
     "output_type": "stream",
     "text": [
      "\n"
     ]
    },
    {
     "name": "stdout",
     "output_type": "stream",
     "text": [
      "\n",
      "      Epoch    GPU_mem   box_loss   cls_loss   dfl_loss  Instances       Size\n"
     ]
    },
    {
     "name": "stderr",
     "output_type": "stream",
     "text": [
      "     39/100      4.21G      1.075     0.8005      1.009         80        640: 100%|██████████| 7/7 [00:05<00:00,  1.31it/s]\n",
      "                 Class     Images  Instances      Box(P          R      mAP50  mAP50-95): 100%|██████████| 1/1 [00:00<00:00,  1.57it/s]"
     ]
    },
    {
     "name": "stdout",
     "output_type": "stream",
     "text": [
      "                   all         57         94      0.978       0.92      0.958      0.638\n"
     ]
    },
    {
     "name": "stderr",
     "output_type": "stream",
     "text": [
      "\n"
     ]
    },
    {
     "name": "stdout",
     "output_type": "stream",
     "text": [
      "\n",
      "      Epoch    GPU_mem   box_loss   cls_loss   dfl_loss  Instances       Size\n"
     ]
    },
    {
     "name": "stderr",
     "output_type": "stream",
     "text": [
      "     40/100      4.21G      1.087     0.8166      1.004         77        640: 100%|██████████| 7/7 [00:05<00:00,  1.31it/s]\n",
      "                 Class     Images  Instances      Box(P          R      mAP50  mAP50-95): 100%|██████████| 1/1 [00:00<00:00,  1.53it/s]"
     ]
    },
    {
     "name": "stdout",
     "output_type": "stream",
     "text": [
      "                   all         57         94      0.965      0.815      0.954       0.62\n"
     ]
    },
    {
     "name": "stderr",
     "output_type": "stream",
     "text": [
      "\n"
     ]
    },
    {
     "name": "stdout",
     "output_type": "stream",
     "text": [
      "\n",
      "      Epoch    GPU_mem   box_loss   cls_loss   dfl_loss  Instances       Size\n"
     ]
    },
    {
     "name": "stderr",
     "output_type": "stream",
     "text": [
      "     41/100      4.21G      1.033      0.798     0.9859         68        640: 100%|██████████| 7/7 [00:05<00:00,  1.27it/s]\n",
      "                 Class     Images  Instances      Box(P          R      mAP50  mAP50-95): 100%|██████████| 1/1 [00:00<00:00,  1.57it/s]"
     ]
    },
    {
     "name": "stdout",
     "output_type": "stream",
     "text": [
      "                   all         57         94       0.99      0.932      0.967      0.679\n"
     ]
    },
    {
     "name": "stderr",
     "output_type": "stream",
     "text": [
      "\n"
     ]
    },
    {
     "name": "stdout",
     "output_type": "stream",
     "text": [
      "\n",
      "      Epoch    GPU_mem   box_loss   cls_loss   dfl_loss  Instances       Size\n"
     ]
    },
    {
     "name": "stderr",
     "output_type": "stream",
     "text": [
      "     42/100      4.21G      1.055     0.7889     0.9846         90        640: 100%|██████████| 7/7 [00:05<00:00,  1.22it/s]\n",
      "                 Class     Images  Instances      Box(P          R      mAP50  mAP50-95): 100%|██████████| 1/1 [00:00<00:00,  1.70it/s]"
     ]
    },
    {
     "name": "stdout",
     "output_type": "stream",
     "text": [
      "                   all         57         94      0.979      0.864      0.925      0.647\n"
     ]
    },
    {
     "name": "stderr",
     "output_type": "stream",
     "text": [
      "\n"
     ]
    },
    {
     "name": "stdout",
     "output_type": "stream",
     "text": [
      "\n",
      "      Epoch    GPU_mem   box_loss   cls_loss   dfl_loss  Instances       Size\n"
     ]
    },
    {
     "name": "stderr",
     "output_type": "stream",
     "text": [
      "     43/100      4.21G     0.9919     0.7875     0.9723         67        640: 100%|██████████| 7/7 [00:05<00:00,  1.26it/s]\n",
      "                 Class     Images  Instances      Box(P          R      mAP50  mAP50-95): 100%|██████████| 1/1 [00:00<00:00,  1.55it/s]"
     ]
    },
    {
     "name": "stdout",
     "output_type": "stream",
     "text": [
      "                   all         57         94      0.974      0.897      0.967      0.615\n"
     ]
    },
    {
     "name": "stderr",
     "output_type": "stream",
     "text": [
      "\n"
     ]
    },
    {
     "name": "stdout",
     "output_type": "stream",
     "text": [
      "\n",
      "      Epoch    GPU_mem   box_loss   cls_loss   dfl_loss  Instances       Size\n"
     ]
    },
    {
     "name": "stderr",
     "output_type": "stream",
     "text": [
      "     44/100      4.24G      1.043     0.7719     0.9903         64        640: 100%|██████████| 7/7 [00:05<00:00,  1.21it/s]\n",
      "                 Class     Images  Instances      Box(P          R      mAP50  mAP50-95): 100%|██████████| 1/1 [00:00<00:00,  1.49it/s]"
     ]
    },
    {
     "name": "stdout",
     "output_type": "stream",
     "text": [
      "                   all         57         94      0.963      0.934      0.971      0.623\n"
     ]
    },
    {
     "name": "stderr",
     "output_type": "stream",
     "text": [
      "\n"
     ]
    },
    {
     "name": "stdout",
     "output_type": "stream",
     "text": [
      "\n",
      "      Epoch    GPU_mem   box_loss   cls_loss   dfl_loss  Instances       Size\n"
     ]
    },
    {
     "name": "stderr",
     "output_type": "stream",
     "text": [
      "     45/100      4.24G      1.036     0.7806     0.9711         73        640: 100%|██████████| 7/7 [00:05<00:00,  1.23it/s]\n",
      "                 Class     Images  Instances      Box(P          R      mAP50  mAP50-95): 100%|██████████| 1/1 [00:00<00:00,  1.46it/s]"
     ]
    },
    {
     "name": "stdout",
     "output_type": "stream",
     "text": [
      "                   all         57         94      0.992      0.856      0.941      0.571\n"
     ]
    },
    {
     "name": "stderr",
     "output_type": "stream",
     "text": [
      "\n"
     ]
    },
    {
     "name": "stdout",
     "output_type": "stream",
     "text": [
      "\n",
      "      Epoch    GPU_mem   box_loss   cls_loss   dfl_loss  Instances       Size\n"
     ]
    },
    {
     "name": "stderr",
     "output_type": "stream",
     "text": [
      "     46/100      4.24G      1.054     0.7562      1.002         84        640: 100%|██████████| 7/7 [00:05<00:00,  1.36it/s]\n",
      "                 Class     Images  Instances      Box(P          R      mAP50  mAP50-95): 100%|██████████| 1/1 [00:00<00:00,  1.54it/s]"
     ]
    },
    {
     "name": "stdout",
     "output_type": "stream",
     "text": [
      "                   all         57         94      0.975       0.89      0.936      0.639\n"
     ]
    },
    {
     "name": "stderr",
     "output_type": "stream",
     "text": [
      "\n"
     ]
    },
    {
     "name": "stdout",
     "output_type": "stream",
     "text": [
      "\n",
      "      Epoch    GPU_mem   box_loss   cls_loss   dfl_loss  Instances       Size\n"
     ]
    },
    {
     "name": "stderr",
     "output_type": "stream",
     "text": [
      "     47/100      4.23G     0.9961     0.7324     0.9784         81        640: 100%|██████████| 7/7 [00:05<00:00,  1.34it/s]\n",
      "                 Class     Images  Instances      Box(P          R      mAP50  mAP50-95): 100%|██████████| 1/1 [00:00<00:00,  1.52it/s]"
     ]
    },
    {
     "name": "stdout",
     "output_type": "stream",
     "text": [
      "                   all         57         94      0.972      0.892      0.957      0.657\n"
     ]
    },
    {
     "name": "stderr",
     "output_type": "stream",
     "text": [
      "\n"
     ]
    },
    {
     "name": "stdout",
     "output_type": "stream",
     "text": [
      "\n",
      "      Epoch    GPU_mem   box_loss   cls_loss   dfl_loss  Instances       Size\n"
     ]
    },
    {
     "name": "stderr",
     "output_type": "stream",
     "text": [
      "     48/100      4.21G     0.9802      0.706     0.9727         72        640: 100%|██████████| 7/7 [00:05<00:00,  1.24it/s]\n",
      "                 Class     Images  Instances      Box(P          R      mAP50  mAP50-95): 100%|██████████| 1/1 [00:00<00:00,  1.71it/s]"
     ]
    },
    {
     "name": "stdout",
     "output_type": "stream",
     "text": [
      "                   all         57         94      0.976      0.941       0.97       0.64\n"
     ]
    },
    {
     "name": "stderr",
     "output_type": "stream",
     "text": [
      "\n"
     ]
    },
    {
     "name": "stdout",
     "output_type": "stream",
     "text": [
      "\n",
      "      Epoch    GPU_mem   box_loss   cls_loss   dfl_loss  Instances       Size\n"
     ]
    },
    {
     "name": "stderr",
     "output_type": "stream",
     "text": [
      "     49/100      4.21G      1.007     0.7415     0.9733         68        640: 100%|██████████| 7/7 [00:05<00:00,  1.28it/s]\n",
      "                 Class     Images  Instances      Box(P          R      mAP50  mAP50-95): 100%|██████████| 1/1 [00:00<00:00,  1.57it/s]"
     ]
    },
    {
     "name": "stdout",
     "output_type": "stream",
     "text": [
      "                   all         57         94       0.96      0.938       0.97      0.672\n"
     ]
    },
    {
     "name": "stderr",
     "output_type": "stream",
     "text": [
      "\n"
     ]
    },
    {
     "name": "stdout",
     "output_type": "stream",
     "text": [
      "\n",
      "      Epoch    GPU_mem   box_loss   cls_loss   dfl_loss  Instances       Size\n"
     ]
    },
    {
     "name": "stderr",
     "output_type": "stream",
     "text": [
      "     50/100      4.23G     0.9861     0.7216     0.9782         72        640: 100%|██████████| 7/7 [00:05<00:00,  1.34it/s]\n",
      "                 Class     Images  Instances      Box(P          R      mAP50  mAP50-95): 100%|██████████| 1/1 [00:00<00:00,  1.47it/s]"
     ]
    },
    {
     "name": "stdout",
     "output_type": "stream",
     "text": [
      "                   all         57         94      0.975      0.947      0.976      0.704\n"
     ]
    },
    {
     "name": "stderr",
     "output_type": "stream",
     "text": [
      "\n"
     ]
    },
    {
     "name": "stdout",
     "output_type": "stream",
     "text": [
      "\n",
      "      Epoch    GPU_mem   box_loss   cls_loss   dfl_loss  Instances       Size\n"
     ]
    },
    {
     "name": "stderr",
     "output_type": "stream",
     "text": [
      "     51/100      4.21G     0.9743     0.7145     0.9789         80        640: 100%|██████████| 7/7 [00:05<00:00,  1.24it/s]\n",
      "                 Class     Images  Instances      Box(P          R      mAP50  mAP50-95): 100%|██████████| 1/1 [00:00<00:00,  1.53it/s]"
     ]
    },
    {
     "name": "stdout",
     "output_type": "stream",
     "text": [
      "                   all         57         94      0.958      0.936      0.975      0.669\n"
     ]
    },
    {
     "name": "stderr",
     "output_type": "stream",
     "text": [
      "\n"
     ]
    },
    {
     "name": "stdout",
     "output_type": "stream",
     "text": [
      "\n",
      "      Epoch    GPU_mem   box_loss   cls_loss   dfl_loss  Instances       Size\n"
     ]
    },
    {
     "name": "stderr",
     "output_type": "stream",
     "text": [
      "     52/100      4.21G     0.9614     0.6972     0.9727         73        640: 100%|██████████| 7/7 [00:05<00:00,  1.30it/s]\n",
      "                 Class     Images  Instances      Box(P          R      mAP50  mAP50-95): 100%|██████████| 1/1 [00:00<00:00,  1.64it/s]"
     ]
    },
    {
     "name": "stdout",
     "output_type": "stream",
     "text": [
      "                   all         57         94      0.969      0.911      0.973      0.666\n"
     ]
    },
    {
     "name": "stderr",
     "output_type": "stream",
     "text": [
      "\n"
     ]
    },
    {
     "name": "stdout",
     "output_type": "stream",
     "text": [
      "\n",
      "      Epoch    GPU_mem   box_loss   cls_loss   dfl_loss  Instances       Size\n"
     ]
    },
    {
     "name": "stderr",
     "output_type": "stream",
     "text": [
      "     53/100      4.21G     0.9643     0.7004     0.9757         78        640: 100%|██████████| 7/7 [00:05<00:00,  1.30it/s]\n",
      "                 Class     Images  Instances      Box(P          R      mAP50  mAP50-95): 100%|██████████| 1/1 [00:00<00:00,  1.59it/s]"
     ]
    },
    {
     "name": "stdout",
     "output_type": "stream",
     "text": [
      "                   all         57         94      0.972      0.915      0.974      0.674\n"
     ]
    },
    {
     "name": "stderr",
     "output_type": "stream",
     "text": [
      "\n"
     ]
    },
    {
     "name": "stdout",
     "output_type": "stream",
     "text": [
      "\n",
      "      Epoch    GPU_mem   box_loss   cls_loss   dfl_loss  Instances       Size\n"
     ]
    },
    {
     "name": "stderr",
     "output_type": "stream",
     "text": [
      "     54/100      4.21G     0.9578     0.6876      0.958         78        640: 100%|██████████| 7/7 [00:05<00:00,  1.30it/s]\n",
      "                 Class     Images  Instances      Box(P          R      mAP50  mAP50-95): 100%|██████████| 1/1 [00:00<00:00,  1.57it/s]"
     ]
    },
    {
     "name": "stdout",
     "output_type": "stream",
     "text": [
      "                   all         57         94      0.967      0.933       0.97      0.642\n"
     ]
    },
    {
     "name": "stderr",
     "output_type": "stream",
     "text": [
      "\n"
     ]
    },
    {
     "name": "stdout",
     "output_type": "stream",
     "text": [
      "\n",
      "      Epoch    GPU_mem   box_loss   cls_loss   dfl_loss  Instances       Size\n"
     ]
    },
    {
     "name": "stderr",
     "output_type": "stream",
     "text": [
      "     55/100      4.21G      0.945     0.6863     0.9498         72        640: 100%|██████████| 7/7 [00:05<00:00,  1.24it/s]\n",
      "                 Class     Images  Instances      Box(P          R      mAP50  mAP50-95): 100%|██████████| 1/1 [00:00<00:00,  1.59it/s]"
     ]
    },
    {
     "name": "stdout",
     "output_type": "stream",
     "text": [
      "                   all         57         94      0.985      0.941      0.968      0.632\n"
     ]
    },
    {
     "name": "stderr",
     "output_type": "stream",
     "text": [
      "\n"
     ]
    },
    {
     "name": "stdout",
     "output_type": "stream",
     "text": [
      "\n",
      "      Epoch    GPU_mem   box_loss   cls_loss   dfl_loss  Instances       Size\n"
     ]
    },
    {
     "name": "stderr",
     "output_type": "stream",
     "text": [
      "     56/100      4.21G     0.9292     0.6848     0.9386         89        640: 100%|██████████| 7/7 [00:05<00:00,  1.24it/s]\n",
      "                 Class     Images  Instances      Box(P          R      mAP50  mAP50-95): 100%|██████████| 1/1 [00:00<00:00,  1.64it/s]"
     ]
    },
    {
     "name": "stdout",
     "output_type": "stream",
     "text": [
      "                   all         57         94      0.974      0.942      0.972      0.665\n"
     ]
    },
    {
     "name": "stderr",
     "output_type": "stream",
     "text": [
      "\n"
     ]
    },
    {
     "name": "stdout",
     "output_type": "stream",
     "text": [
      "\n",
      "      Epoch    GPU_mem   box_loss   cls_loss   dfl_loss  Instances       Size\n"
     ]
    },
    {
     "name": "stderr",
     "output_type": "stream",
     "text": [
      "     57/100      4.21G     0.9325     0.6711     0.9413         80        640: 100%|██████████| 7/7 [00:05<00:00,  1.24it/s]\n",
      "                 Class     Images  Instances      Box(P          R      mAP50  mAP50-95): 100%|██████████| 1/1 [00:00<00:00,  1.42it/s]"
     ]
    },
    {
     "name": "stdout",
     "output_type": "stream",
     "text": [
      "                   all         57         94      0.978      0.941      0.979      0.709\n"
     ]
    },
    {
     "name": "stderr",
     "output_type": "stream",
     "text": [
      "\n"
     ]
    },
    {
     "name": "stdout",
     "output_type": "stream",
     "text": [
      "\n",
      "      Epoch    GPU_mem   box_loss   cls_loss   dfl_loss  Instances       Size\n"
     ]
    },
    {
     "name": "stderr",
     "output_type": "stream",
     "text": [
      "     58/100      4.21G     0.9202     0.6862     0.9474         69        640: 100%|██████████| 7/7 [00:05<00:00,  1.23it/s]\n",
      "                 Class     Images  Instances      Box(P          R      mAP50  mAP50-95): 100%|██████████| 1/1 [00:00<00:00,  1.52it/s]"
     ]
    },
    {
     "name": "stdout",
     "output_type": "stream",
     "text": [
      "                   all         57         94      0.994      0.906      0.985      0.713\n"
     ]
    },
    {
     "name": "stderr",
     "output_type": "stream",
     "text": [
      "\n"
     ]
    },
    {
     "name": "stdout",
     "output_type": "stream",
     "text": [
      "\n",
      "      Epoch    GPU_mem   box_loss   cls_loss   dfl_loss  Instances       Size\n"
     ]
    },
    {
     "name": "stderr",
     "output_type": "stream",
     "text": [
      "     59/100      4.21G     0.9169     0.6576     0.9392         72        640: 100%|██████████| 7/7 [00:05<00:00,  1.29it/s]\n",
      "                 Class     Images  Instances      Box(P          R      mAP50  mAP50-95): 100%|██████████| 1/1 [00:00<00:00,  1.41it/s]"
     ]
    },
    {
     "name": "stdout",
     "output_type": "stream",
     "text": [
      "                   all         57         94      0.984      0.921      0.987       0.73\n"
     ]
    },
    {
     "name": "stderr",
     "output_type": "stream",
     "text": [
      "\n"
     ]
    },
    {
     "name": "stdout",
     "output_type": "stream",
     "text": [
      "\n",
      "      Epoch    GPU_mem   box_loss   cls_loss   dfl_loss  Instances       Size\n"
     ]
    },
    {
     "name": "stderr",
     "output_type": "stream",
     "text": [
      "     60/100      4.21G     0.9383      0.654     0.9455         62        640: 100%|██████████| 7/7 [00:05<00:00,  1.30it/s]\n",
      "                 Class     Images  Instances      Box(P          R      mAP50  mAP50-95): 100%|██████████| 1/1 [00:00<00:00,  1.25it/s]"
     ]
    },
    {
     "name": "stdout",
     "output_type": "stream",
     "text": [
      "                   all         57         94      0.972      0.957      0.988      0.742\n"
     ]
    },
    {
     "name": "stderr",
     "output_type": "stream",
     "text": [
      "\n"
     ]
    },
    {
     "name": "stdout",
     "output_type": "stream",
     "text": [
      "\n",
      "      Epoch    GPU_mem   box_loss   cls_loss   dfl_loss  Instances       Size\n"
     ]
    },
    {
     "name": "stderr",
     "output_type": "stream",
     "text": [
      "     61/100      4.24G     0.8844     0.6299     0.9217         68        640: 100%|██████████| 7/7 [00:05<00:00,  1.22it/s]\n",
      "                 Class     Images  Instances      Box(P          R      mAP50  mAP50-95): 100%|██████████| 1/1 [00:00<00:00,  1.44it/s]"
     ]
    },
    {
     "name": "stdout",
     "output_type": "stream",
     "text": [
      "                   all         57         94      0.986      0.946       0.99      0.739\n"
     ]
    },
    {
     "name": "stderr",
     "output_type": "stream",
     "text": [
      "\n"
     ]
    },
    {
     "name": "stdout",
     "output_type": "stream",
     "text": [
      "\n",
      "      Epoch    GPU_mem   box_loss   cls_loss   dfl_loss  Instances       Size\n"
     ]
    },
    {
     "name": "stderr",
     "output_type": "stream",
     "text": [
      "     62/100      4.21G     0.8899     0.6364     0.9293         70        640: 100%|██████████| 7/7 [00:05<00:00,  1.26it/s]\n",
      "                 Class     Images  Instances      Box(P          R      mAP50  mAP50-95): 100%|██████████| 1/1 [00:00<00:00,  1.63it/s]"
     ]
    },
    {
     "name": "stdout",
     "output_type": "stream",
     "text": [
      "                   all         57         94      0.986       0.96      0.991      0.744\n"
     ]
    },
    {
     "name": "stderr",
     "output_type": "stream",
     "text": [
      "\n"
     ]
    },
    {
     "name": "stdout",
     "output_type": "stream",
     "text": [
      "\n",
      "      Epoch    GPU_mem   box_loss   cls_loss   dfl_loss  Instances       Size\n"
     ]
    },
    {
     "name": "stderr",
     "output_type": "stream",
     "text": [
      "     63/100      4.21G     0.9403     0.6451     0.9499         94        640: 100%|██████████| 7/7 [00:05<00:00,  1.30it/s]\n",
      "                 Class     Images  Instances      Box(P          R      mAP50  mAP50-95): 100%|██████████| 1/1 [00:00<00:00,  1.47it/s]"
     ]
    },
    {
     "name": "stdout",
     "output_type": "stream",
     "text": [
      "                   all         57         94      0.991      0.951       0.99      0.751\n"
     ]
    },
    {
     "name": "stderr",
     "output_type": "stream",
     "text": [
      "\n"
     ]
    },
    {
     "name": "stdout",
     "output_type": "stream",
     "text": [
      "\n",
      "      Epoch    GPU_mem   box_loss   cls_loss   dfl_loss  Instances       Size\n"
     ]
    },
    {
     "name": "stderr",
     "output_type": "stream",
     "text": [
      "     64/100      4.21G     0.9191     0.6248     0.9219         78        640: 100%|██████████| 7/7 [00:05<00:00,  1.20it/s]\n",
      "                 Class     Images  Instances      Box(P          R      mAP50  mAP50-95): 100%|██████████| 1/1 [00:00<00:00,  1.51it/s]"
     ]
    },
    {
     "name": "stdout",
     "output_type": "stream",
     "text": [
      "                   all         57         94      0.981      0.952      0.988       0.71\n"
     ]
    },
    {
     "name": "stderr",
     "output_type": "stream",
     "text": [
      "\n"
     ]
    },
    {
     "name": "stdout",
     "output_type": "stream",
     "text": [
      "\n",
      "      Epoch    GPU_mem   box_loss   cls_loss   dfl_loss  Instances       Size\n"
     ]
    },
    {
     "name": "stderr",
     "output_type": "stream",
     "text": [
      "     65/100      4.23G     0.9028     0.6263     0.9421         75        640: 100%|██████████| 7/7 [00:05<00:00,  1.31it/s]\n",
      "                 Class     Images  Instances      Box(P          R      mAP50  mAP50-95): 100%|██████████| 1/1 [00:00<00:00,  1.38it/s]"
     ]
    },
    {
     "name": "stdout",
     "output_type": "stream",
     "text": [
      "                   all         57         94      0.986      0.953      0.987      0.714\n"
     ]
    },
    {
     "name": "stderr",
     "output_type": "stream",
     "text": [
      "\n"
     ]
    },
    {
     "name": "stdout",
     "output_type": "stream",
     "text": [
      "\n",
      "      Epoch    GPU_mem   box_loss   cls_loss   dfl_loss  Instances       Size\n"
     ]
    },
    {
     "name": "stderr",
     "output_type": "stream",
     "text": [
      "     66/100      4.21G     0.8722     0.6117      0.924         71        640: 100%|██████████| 7/7 [00:05<00:00,  1.19it/s]\n",
      "                 Class     Images  Instances      Box(P          R      mAP50  mAP50-95): 100%|██████████| 1/1 [00:00<00:00,  1.53it/s]"
     ]
    },
    {
     "name": "stdout",
     "output_type": "stream",
     "text": [
      "                   all         57         94      0.989      0.948      0.988       0.75\n"
     ]
    },
    {
     "name": "stderr",
     "output_type": "stream",
     "text": [
      "\n"
     ]
    },
    {
     "name": "stdout",
     "output_type": "stream",
     "text": [
      "\n",
      "      Epoch    GPU_mem   box_loss   cls_loss   dfl_loss  Instances       Size\n"
     ]
    },
    {
     "name": "stderr",
     "output_type": "stream",
     "text": [
      "     67/100      4.21G     0.8887      0.634     0.9332         60        640: 100%|██████████| 7/7 [00:05<00:00,  1.31it/s]\n",
      "                 Class     Images  Instances      Box(P          R      mAP50  mAP50-95): 100%|██████████| 1/1 [00:00<00:00,  1.37it/s]"
     ]
    },
    {
     "name": "stdout",
     "output_type": "stream",
     "text": [
      "                   all         57         94      0.984      0.963      0.989      0.729\n"
     ]
    },
    {
     "name": "stderr",
     "output_type": "stream",
     "text": [
      "\n"
     ]
    },
    {
     "name": "stdout",
     "output_type": "stream",
     "text": [
      "\n",
      "      Epoch    GPU_mem   box_loss   cls_loss   dfl_loss  Instances       Size\n"
     ]
    },
    {
     "name": "stderr",
     "output_type": "stream",
     "text": [
      "     68/100       4.2G     0.8712     0.5979     0.9145         77        640: 100%|██████████| 7/7 [00:05<00:00,  1.34it/s]\n",
      "                 Class     Images  Instances      Box(P          R      mAP50  mAP50-95): 100%|██████████| 1/1 [00:00<00:00,  1.49it/s]"
     ]
    },
    {
     "name": "stdout",
     "output_type": "stream",
     "text": [
      "                   all         57         94       0.99      0.969       0.99      0.736\n"
     ]
    },
    {
     "name": "stderr",
     "output_type": "stream",
     "text": [
      "\n"
     ]
    },
    {
     "name": "stdout",
     "output_type": "stream",
     "text": [
      "\n",
      "      Epoch    GPU_mem   box_loss   cls_loss   dfl_loss  Instances       Size\n"
     ]
    },
    {
     "name": "stderr",
     "output_type": "stream",
     "text": [
      "     69/100       4.2G     0.8308     0.6185     0.9153         81        640: 100%|██████████| 7/7 [00:05<00:00,  1.34it/s]\n",
      "                 Class     Images  Instances      Box(P          R      mAP50  mAP50-95): 100%|██████████| 1/1 [00:00<00:00,  1.21it/s]"
     ]
    },
    {
     "name": "stdout",
     "output_type": "stream",
     "text": [
      "                   all         57         94      0.991      0.971      0.991      0.725\n"
     ]
    },
    {
     "name": "stderr",
     "output_type": "stream",
     "text": [
      "\n"
     ]
    },
    {
     "name": "stdout",
     "output_type": "stream",
     "text": [
      "\n",
      "      Epoch    GPU_mem   box_loss   cls_loss   dfl_loss  Instances       Size\n"
     ]
    },
    {
     "name": "stderr",
     "output_type": "stream",
     "text": [
      "     70/100      4.21G     0.8614     0.6057     0.9196         82        640: 100%|██████████| 7/7 [00:06<00:00,  1.17it/s]\n",
      "                 Class     Images  Instances      Box(P          R      mAP50  mAP50-95): 100%|██████████| 1/1 [00:00<00:00,  1.69it/s]"
     ]
    },
    {
     "name": "stdout",
     "output_type": "stream",
     "text": [
      "                   all         57         94      0.988      0.936      0.985      0.701\n"
     ]
    },
    {
     "name": "stderr",
     "output_type": "stream",
     "text": [
      "\n"
     ]
    },
    {
     "name": "stdout",
     "output_type": "stream",
     "text": [
      "\n",
      "      Epoch    GPU_mem   box_loss   cls_loss   dfl_loss  Instances       Size\n"
     ]
    },
    {
     "name": "stderr",
     "output_type": "stream",
     "text": [
      "     71/100      4.21G     0.8479     0.5781     0.9217         78        640: 100%|██████████| 7/7 [00:05<00:00,  1.31it/s]\n",
      "                 Class     Images  Instances      Box(P          R      mAP50  mAP50-95): 100%|██████████| 1/1 [00:00<00:00,  1.55it/s]"
     ]
    },
    {
     "name": "stdout",
     "output_type": "stream",
     "text": [
      "                   all         57         94      0.983      0.943      0.965      0.669\n"
     ]
    },
    {
     "name": "stderr",
     "output_type": "stream",
     "text": [
      "\n"
     ]
    },
    {
     "name": "stdout",
     "output_type": "stream",
     "text": [
      "\n",
      "      Epoch    GPU_mem   box_loss   cls_loss   dfl_loss  Instances       Size\n"
     ]
    },
    {
     "name": "stderr",
     "output_type": "stream",
     "text": [
      "     72/100      4.21G     0.8195     0.5852     0.9001         69        640: 100%|██████████| 7/7 [00:06<00:00,  1.16it/s]\n",
      "                 Class     Images  Instances      Box(P          R      mAP50  mAP50-95): 100%|██████████| 1/1 [00:00<00:00,  1.47it/s]"
     ]
    },
    {
     "name": "stdout",
     "output_type": "stream",
     "text": [
      "                   all         57         94      0.989      0.957      0.988      0.697\n"
     ]
    },
    {
     "name": "stderr",
     "output_type": "stream",
     "text": [
      "\n"
     ]
    },
    {
     "name": "stdout",
     "output_type": "stream",
     "text": [
      "\n",
      "      Epoch    GPU_mem   box_loss   cls_loss   dfl_loss  Instances       Size\n"
     ]
    },
    {
     "name": "stderr",
     "output_type": "stream",
     "text": [
      "     73/100      4.21G     0.8625     0.5941     0.9201         78        640: 100%|██████████| 7/7 [00:05<00:00,  1.22it/s]\n",
      "                 Class     Images  Instances      Box(P          R      mAP50  mAP50-95): 100%|██████████| 1/1 [00:00<00:00,  1.52it/s]"
     ]
    },
    {
     "name": "stdout",
     "output_type": "stream",
     "text": [
      "                   all         57         94      0.982      0.964      0.989      0.733\n"
     ]
    },
    {
     "name": "stderr",
     "output_type": "stream",
     "text": [
      "\n"
     ]
    },
    {
     "name": "stdout",
     "output_type": "stream",
     "text": [
      "\n",
      "      Epoch    GPU_mem   box_loss   cls_loss   dfl_loss  Instances       Size\n"
     ]
    },
    {
     "name": "stderr",
     "output_type": "stream",
     "text": [
      "     74/100       4.2G     0.8096     0.5734      0.903         66        640: 100%|██████████| 7/7 [00:05<00:00,  1.33it/s]\n",
      "                 Class     Images  Instances      Box(P          R      mAP50  mAP50-95): 100%|██████████| 1/1 [00:00<00:00,  1.50it/s]"
     ]
    },
    {
     "name": "stdout",
     "output_type": "stream",
     "text": [
      "                   all         57         94      0.982      0.969      0.991      0.796\n"
     ]
    },
    {
     "name": "stderr",
     "output_type": "stream",
     "text": [
      "\n"
     ]
    },
    {
     "name": "stdout",
     "output_type": "stream",
     "text": [
      "\n",
      "      Epoch    GPU_mem   box_loss   cls_loss   dfl_loss  Instances       Size\n"
     ]
    },
    {
     "name": "stderr",
     "output_type": "stream",
     "text": [
      "     75/100      4.21G     0.8051     0.5701     0.9158         55        640: 100%|██████████| 7/7 [00:05<00:00,  1.22it/s]\n",
      "                 Class     Images  Instances      Box(P          R      mAP50  mAP50-95): 100%|██████████| 1/1 [00:00<00:00,  1.44it/s]"
     ]
    },
    {
     "name": "stdout",
     "output_type": "stream",
     "text": [
      "                   all         57         94      0.978      0.974      0.989      0.764\n"
     ]
    },
    {
     "name": "stderr",
     "output_type": "stream",
     "text": [
      "\n"
     ]
    },
    {
     "name": "stdout",
     "output_type": "stream",
     "text": [
      "\n",
      "      Epoch    GPU_mem   box_loss   cls_loss   dfl_loss  Instances       Size\n"
     ]
    },
    {
     "name": "stderr",
     "output_type": "stream",
     "text": [
      "     76/100      4.23G     0.8538     0.5753     0.9223         61        640: 100%|██████████| 7/7 [00:05<00:00,  1.28it/s]\n",
      "                 Class     Images  Instances      Box(P          R      mAP50  mAP50-95): 100%|██████████| 1/1 [00:00<00:00,  1.52it/s]"
     ]
    },
    {
     "name": "stdout",
     "output_type": "stream",
     "text": [
      "                   all         57         94      0.975       0.97      0.989      0.759\n"
     ]
    },
    {
     "name": "stderr",
     "output_type": "stream",
     "text": [
      "\n"
     ]
    },
    {
     "name": "stdout",
     "output_type": "stream",
     "text": [
      "\n",
      "      Epoch    GPU_mem   box_loss   cls_loss   dfl_loss  Instances       Size\n"
     ]
    },
    {
     "name": "stderr",
     "output_type": "stream",
     "text": [
      "     77/100      4.21G     0.8582     0.5938     0.9234         76        640: 100%|██████████| 7/7 [00:05<00:00,  1.30it/s]\n",
      "                 Class     Images  Instances      Box(P          R      mAP50  mAP50-95): 100%|██████████| 1/1 [00:00<00:00,  1.54it/s]"
     ]
    },
    {
     "name": "stdout",
     "output_type": "stream",
     "text": [
      "                   all         57         94      0.978      0.971      0.988      0.745\n"
     ]
    },
    {
     "name": "stderr",
     "output_type": "stream",
     "text": [
      "\n"
     ]
    },
    {
     "name": "stdout",
     "output_type": "stream",
     "text": [
      "\n",
      "      Epoch    GPU_mem   box_loss   cls_loss   dfl_loss  Instances       Size\n"
     ]
    },
    {
     "name": "stderr",
     "output_type": "stream",
     "text": [
      "     78/100      4.25G      0.855     0.5941     0.9214         75        640: 100%|██████████| 7/7 [00:05<00:00,  1.24it/s]\n",
      "                 Class     Images  Instances      Box(P          R      mAP50  mAP50-95): 100%|██████████| 1/1 [00:00<00:00,  1.63it/s]"
     ]
    },
    {
     "name": "stdout",
     "output_type": "stream",
     "text": [
      "                   all         57         94      0.961      0.961      0.987      0.704\n"
     ]
    },
    {
     "name": "stderr",
     "output_type": "stream",
     "text": [
      "\n"
     ]
    },
    {
     "name": "stdout",
     "output_type": "stream",
     "text": [
      "\n",
      "      Epoch    GPU_mem   box_loss   cls_loss   dfl_loss  Instances       Size\n"
     ]
    },
    {
     "name": "stderr",
     "output_type": "stream",
     "text": [
      "     79/100      4.23G     0.8289      0.589     0.9085         84        640: 100%|██████████| 7/7 [00:05<00:00,  1.34it/s]\n",
      "                 Class     Images  Instances      Box(P          R      mAP50  mAP50-95): 100%|██████████| 1/1 [00:00<00:00,  1.45it/s]"
     ]
    },
    {
     "name": "stdout",
     "output_type": "stream",
     "text": [
      "                   all         57         94      0.985      0.977      0.989      0.759\n"
     ]
    },
    {
     "name": "stderr",
     "output_type": "stream",
     "text": [
      "\n"
     ]
    },
    {
     "name": "stdout",
     "output_type": "stream",
     "text": [
      "\n",
      "      Epoch    GPU_mem   box_loss   cls_loss   dfl_loss  Instances       Size\n"
     ]
    },
    {
     "name": "stderr",
     "output_type": "stream",
     "text": [
      "     80/100       4.2G     0.8214      0.557     0.9077         66        640: 100%|██████████| 7/7 [00:05<00:00,  1.33it/s]\n",
      "                 Class     Images  Instances      Box(P          R      mAP50  mAP50-95): 100%|██████████| 1/1 [00:00<00:00,  1.49it/s]"
     ]
    },
    {
     "name": "stdout",
     "output_type": "stream",
     "text": [
      "                   all         57         94      0.995      0.968      0.991       0.75\n"
     ]
    },
    {
     "name": "stderr",
     "output_type": "stream",
     "text": [
      "\n"
     ]
    },
    {
     "name": "stdout",
     "output_type": "stream",
     "text": [
      "\n",
      "      Epoch    GPU_mem   box_loss   cls_loss   dfl_loss  Instances       Size\n"
     ]
    },
    {
     "name": "stderr",
     "output_type": "stream",
     "text": [
      "     81/100      4.21G     0.7643     0.5428     0.8958         60        640: 100%|██████████| 7/7 [00:05<00:00,  1.26it/s]\n",
      "                 Class     Images  Instances      Box(P          R      mAP50  mAP50-95): 100%|██████████| 1/1 [00:00<00:00,  1.52it/s]"
     ]
    },
    {
     "name": "stdout",
     "output_type": "stream",
     "text": [
      "                   all         57         94       0.99      0.962       0.99      0.755\n"
     ]
    },
    {
     "name": "stderr",
     "output_type": "stream",
     "text": [
      "\n"
     ]
    },
    {
     "name": "stdout",
     "output_type": "stream",
     "text": [
      "\n",
      "      Epoch    GPU_mem   box_loss   cls_loss   dfl_loss  Instances       Size\n"
     ]
    },
    {
     "name": "stderr",
     "output_type": "stream",
     "text": [
      "     82/100      4.21G     0.7551     0.5234     0.8922         63        640: 100%|██████████| 7/7 [00:05<00:00,  1.24it/s]\n",
      "                 Class     Images  Instances      Box(P          R      mAP50  mAP50-95): 100%|██████████| 1/1 [00:00<00:00,  1.56it/s]"
     ]
    },
    {
     "name": "stdout",
     "output_type": "stream",
     "text": [
      "                   all         57         94      0.996      0.951       0.99      0.756\n"
     ]
    },
    {
     "name": "stderr",
     "output_type": "stream",
     "text": [
      "\n"
     ]
    },
    {
     "name": "stdout",
     "output_type": "stream",
     "text": [
      "\n",
      "      Epoch    GPU_mem   box_loss   cls_loss   dfl_loss  Instances       Size\n"
     ]
    },
    {
     "name": "stderr",
     "output_type": "stream",
     "text": [
      "     83/100      4.23G     0.7471     0.5379     0.8831         70        640: 100%|██████████| 7/7 [00:05<00:00,  1.26it/s]\n",
      "                 Class     Images  Instances      Box(P          R      mAP50  mAP50-95): 100%|██████████| 1/1 [00:00<00:00,  1.54it/s]"
     ]
    },
    {
     "name": "stdout",
     "output_type": "stream",
     "text": [
      "                   all         57         94      0.968      0.977       0.99      0.784\n"
     ]
    },
    {
     "name": "stderr",
     "output_type": "stream",
     "text": [
      "\n"
     ]
    },
    {
     "name": "stdout",
     "output_type": "stream",
     "text": [
      "\n",
      "      Epoch    GPU_mem   box_loss   cls_loss   dfl_loss  Instances       Size\n"
     ]
    },
    {
     "name": "stderr",
     "output_type": "stream",
     "text": [
      "     84/100      4.21G      0.759     0.5252     0.8949         73        640: 100%|██████████| 7/7 [00:05<00:00,  1.20it/s]\n",
      "                 Class     Images  Instances      Box(P          R      mAP50  mAP50-95): 100%|██████████| 1/1 [00:00<00:00,  1.61it/s]"
     ]
    },
    {
     "name": "stdout",
     "output_type": "stream",
     "text": [
      "                   all         57         94      0.982      0.963      0.993      0.778\n"
     ]
    },
    {
     "name": "stderr",
     "output_type": "stream",
     "text": [
      "\n"
     ]
    },
    {
     "name": "stdout",
     "output_type": "stream",
     "text": [
      "\n",
      "      Epoch    GPU_mem   box_loss   cls_loss   dfl_loss  Instances       Size\n"
     ]
    },
    {
     "name": "stderr",
     "output_type": "stream",
     "text": [
      "     85/100      4.21G      0.734     0.5253     0.8888         73        640: 100%|██████████| 7/7 [00:05<00:00,  1.25it/s]\n",
      "                 Class     Images  Instances      Box(P          R      mAP50  mAP50-95): 100%|██████████| 1/1 [00:00<00:00,  1.52it/s]"
     ]
    },
    {
     "name": "stdout",
     "output_type": "stream",
     "text": [
      "                   all         57         94      0.987      0.962      0.991      0.761\n"
     ]
    },
    {
     "name": "stderr",
     "output_type": "stream",
     "text": [
      "\n"
     ]
    },
    {
     "name": "stdout",
     "output_type": "stream",
     "text": [
      "\n",
      "      Epoch    GPU_mem   box_loss   cls_loss   dfl_loss  Instances       Size\n"
     ]
    },
    {
     "name": "stderr",
     "output_type": "stream",
     "text": [
      "     86/100       4.2G     0.7688     0.5324     0.8958         77        640: 100%|██████████| 7/7 [00:05<00:00,  1.36it/s]\n",
      "                 Class     Images  Instances      Box(P          R      mAP50  mAP50-95): 100%|██████████| 1/1 [00:00<00:00,  1.57it/s]"
     ]
    },
    {
     "name": "stdout",
     "output_type": "stream",
     "text": [
      "                   all         57         94       0.98      0.976      0.993      0.757\n"
     ]
    },
    {
     "name": "stderr",
     "output_type": "stream",
     "text": [
      "\n"
     ]
    },
    {
     "name": "stdout",
     "output_type": "stream",
     "text": [
      "\n",
      "      Epoch    GPU_mem   box_loss   cls_loss   dfl_loss  Instances       Size\n"
     ]
    },
    {
     "name": "stderr",
     "output_type": "stream",
     "text": [
      "     87/100      4.23G     0.7399     0.5259     0.8826         71        640: 100%|██████████| 7/7 [00:05<00:00,  1.32it/s]\n",
      "                 Class     Images  Instances      Box(P          R      mAP50  mAP50-95): 100%|██████████| 1/1 [00:00<00:00,  1.43it/s]"
     ]
    },
    {
     "name": "stdout",
     "output_type": "stream",
     "text": [
      "                   all         57         94      0.981       0.97      0.993      0.761\n"
     ]
    },
    {
     "name": "stderr",
     "output_type": "stream",
     "text": [
      "\n"
     ]
    },
    {
     "name": "stdout",
     "output_type": "stream",
     "text": [
      "\n",
      "      Epoch    GPU_mem   box_loss   cls_loss   dfl_loss  Instances       Size\n"
     ]
    },
    {
     "name": "stderr",
     "output_type": "stream",
     "text": [
      "     88/100      4.21G     0.8159     0.5709     0.9034         55        640: 100%|██████████| 7/7 [00:05<00:00,  1.23it/s]\n",
      "                 Class     Images  Instances      Box(P          R      mAP50  mAP50-95): 100%|██████████| 1/1 [00:00<00:00,  1.52it/s]"
     ]
    },
    {
     "name": "stdout",
     "output_type": "stream",
     "text": [
      "                   all         57         94      0.982      0.977       0.99      0.754\n"
     ]
    },
    {
     "name": "stderr",
     "output_type": "stream",
     "text": [
      "\n"
     ]
    },
    {
     "name": "stdout",
     "output_type": "stream",
     "text": [
      "\n",
      "      Epoch    GPU_mem   box_loss   cls_loss   dfl_loss  Instances       Size\n"
     ]
    },
    {
     "name": "stderr",
     "output_type": "stream",
     "text": [
      "     89/100      4.21G     0.7307     0.5116     0.8835         82        640: 100%|██████████| 7/7 [00:05<00:00,  1.22it/s]\n",
      "                 Class     Images  Instances      Box(P          R      mAP50  mAP50-95): 100%|██████████| 1/1 [00:00<00:00,  1.49it/s]"
     ]
    },
    {
     "name": "stdout",
     "output_type": "stream",
     "text": [
      "                   all         57         94       0.98      0.978       0.99      0.776\n"
     ]
    },
    {
     "name": "stderr",
     "output_type": "stream",
     "text": [
      "\n"
     ]
    },
    {
     "name": "stdout",
     "output_type": "stream",
     "text": [
      "\n",
      "      Epoch    GPU_mem   box_loss   cls_loss   dfl_loss  Instances       Size\n"
     ]
    },
    {
     "name": "stderr",
     "output_type": "stream",
     "text": [
      "     90/100      4.21G     0.7579     0.5147     0.8909         65        640: 100%|██████████| 7/7 [00:06<00:00,  1.16it/s]\n",
      "                 Class     Images  Instances      Box(P          R      mAP50  mAP50-95): 100%|██████████| 1/1 [00:00<00:00,  1.28it/s]"
     ]
    },
    {
     "name": "stdout",
     "output_type": "stream",
     "text": [
      "                   all         57         94      0.981      0.974      0.993      0.769\n"
     ]
    },
    {
     "name": "stderr",
     "output_type": "stream",
     "text": [
      "\n"
     ]
    },
    {
     "name": "stdout",
     "output_type": "stream",
     "text": [
      "Closing dataloader mosaic\n",
      "\u001b[34m\u001b[1malbumentations: \u001b[0mBlur(p=0.01, blur_limit=(3, 7)), MedianBlur(p=0.01, blur_limit=(3, 7)), ToGray(p=0.01, method='weighted_average', num_output_channels=3), CLAHE(p=0.01, clip_limit=(1.0, 4.0), tile_grid_size=(8, 8))\n",
      "\n",
      "      Epoch    GPU_mem   box_loss   cls_loss   dfl_loss  Instances       Size\n"
     ]
    },
    {
     "name": "stderr",
     "output_type": "stream",
     "text": [
      "     91/100      4.18G     0.7343     0.5604     0.8819         39        640: 100%|██████████| 7/7 [00:06<00:00,  1.06it/s]\n",
      "                 Class     Images  Instances      Box(P          R      mAP50  mAP50-95): 100%|██████████| 1/1 [00:00<00:00,  1.27it/s]"
     ]
    },
    {
     "name": "stdout",
     "output_type": "stream",
     "text": [
      "                   all         57         94      0.985      0.978      0.991      0.786\n"
     ]
    },
    {
     "name": "stderr",
     "output_type": "stream",
     "text": [
      "\n"
     ]
    },
    {
     "name": "stdout",
     "output_type": "stream",
     "text": [
      "\n",
      "      Epoch    GPU_mem   box_loss   cls_loss   dfl_loss  Instances       Size\n"
     ]
    },
    {
     "name": "stderr",
     "output_type": "stream",
     "text": [
      "     92/100      4.18G     0.7304     0.5295     0.8754         34        640: 100%|██████████| 7/7 [00:05<00:00,  1.33it/s]\n",
      "                 Class     Images  Instances      Box(P          R      mAP50  mAP50-95): 100%|██████████| 1/1 [00:00<00:00,  1.24it/s]"
     ]
    },
    {
     "name": "stdout",
     "output_type": "stream",
     "text": [
      "                   all         57         94      0.992      0.968      0.991        0.8\n"
     ]
    },
    {
     "name": "stderr",
     "output_type": "stream",
     "text": [
      "\n"
     ]
    },
    {
     "name": "stdout",
     "output_type": "stream",
     "text": [
      "\n",
      "      Epoch    GPU_mem   box_loss   cls_loss   dfl_loss  Instances       Size\n"
     ]
    },
    {
     "name": "stderr",
     "output_type": "stream",
     "text": [
      "     93/100      4.18G     0.6926     0.5209     0.8578         39        640: 100%|██████████| 7/7 [00:05<00:00,  1.38it/s]\n",
      "                 Class     Images  Instances      Box(P          R      mAP50  mAP50-95): 100%|██████████| 1/1 [00:00<00:00,  1.43it/s]"
     ]
    },
    {
     "name": "stdout",
     "output_type": "stream",
     "text": [
      "                   all         57         94       0.99      0.968      0.991      0.772\n"
     ]
    },
    {
     "name": "stderr",
     "output_type": "stream",
     "text": [
      "\n"
     ]
    },
    {
     "name": "stdout",
     "output_type": "stream",
     "text": [
      "\n",
      "      Epoch    GPU_mem   box_loss   cls_loss   dfl_loss  Instances       Size\n"
     ]
    },
    {
     "name": "stderr",
     "output_type": "stream",
     "text": [
      "     94/100      4.18G     0.6888     0.4968     0.8734         41        640: 100%|██████████| 7/7 [00:05<00:00,  1.36it/s]\n",
      "                 Class     Images  Instances      Box(P          R      mAP50  mAP50-95): 100%|██████████| 1/1 [00:00<00:00,  1.51it/s]"
     ]
    },
    {
     "name": "stdout",
     "output_type": "stream",
     "text": [
      "                   all         57         94      0.987      0.968      0.991       0.76\n"
     ]
    },
    {
     "name": "stderr",
     "output_type": "stream",
     "text": [
      "\n"
     ]
    },
    {
     "name": "stdout",
     "output_type": "stream",
     "text": [
      "\n",
      "      Epoch    GPU_mem   box_loss   cls_loss   dfl_loss  Instances       Size\n"
     ]
    },
    {
     "name": "stderr",
     "output_type": "stream",
     "text": [
      "     95/100      4.18G     0.6702     0.4958     0.8693         38        640: 100%|██████████| 7/7 [00:04<00:00,  1.40it/s]\n",
      "                 Class     Images  Instances      Box(P          R      mAP50  mAP50-95): 100%|██████████| 1/1 [00:00<00:00,  1.52it/s]"
     ]
    },
    {
     "name": "stdout",
     "output_type": "stream",
     "text": [
      "                   all         57         94      0.986      0.968      0.989      0.763\n"
     ]
    },
    {
     "name": "stderr",
     "output_type": "stream",
     "text": [
      "\n"
     ]
    },
    {
     "name": "stdout",
     "output_type": "stream",
     "text": [
      "\n",
      "      Epoch    GPU_mem   box_loss   cls_loss   dfl_loss  Instances       Size\n"
     ]
    },
    {
     "name": "stderr",
     "output_type": "stream",
     "text": [
      "     96/100      4.18G      0.686     0.5046     0.8642         40        640: 100%|██████████| 7/7 [00:05<00:00,  1.38it/s]\n",
      "                 Class     Images  Instances      Box(P          R      mAP50  mAP50-95): 100%|██████████| 1/1 [00:00<00:00,  1.41it/s]"
     ]
    },
    {
     "name": "stdout",
     "output_type": "stream",
     "text": [
      "                   all         57         94      0.988      0.969      0.989      0.762\n"
     ]
    },
    {
     "name": "stderr",
     "output_type": "stream",
     "text": [
      "\n"
     ]
    },
    {
     "name": "stdout",
     "output_type": "stream",
     "text": [
      "\n",
      "      Epoch    GPU_mem   box_loss   cls_loss   dfl_loss  Instances       Size\n"
     ]
    },
    {
     "name": "stderr",
     "output_type": "stream",
     "text": [
      "     97/100      4.18G     0.6709     0.4984     0.8677         37        640: 100%|██████████| 7/7 [00:05<00:00,  1.36it/s]\n",
      "                 Class     Images  Instances      Box(P          R      mAP50  mAP50-95): 100%|██████████| 1/1 [00:00<00:00,  1.33it/s]"
     ]
    },
    {
     "name": "stdout",
     "output_type": "stream",
     "text": [
      "                   all         57         94      0.989       0.97      0.989      0.762\n"
     ]
    },
    {
     "name": "stderr",
     "output_type": "stream",
     "text": [
      "\n"
     ]
    },
    {
     "name": "stdout",
     "output_type": "stream",
     "text": [
      "\n",
      "      Epoch    GPU_mem   box_loss   cls_loss   dfl_loss  Instances       Size\n"
     ]
    },
    {
     "name": "stderr",
     "output_type": "stream",
     "text": [
      "     98/100      4.18G     0.6708     0.5079     0.8822         38        640: 100%|██████████| 7/7 [00:05<00:00,  1.31it/s]\n",
      "                 Class     Images  Instances      Box(P          R      mAP50  mAP50-95): 100%|██████████| 1/1 [00:00<00:00,  1.42it/s]"
     ]
    },
    {
     "name": "stdout",
     "output_type": "stream",
     "text": [
      "                   all         57         94      0.991      0.969      0.989      0.773\n"
     ]
    },
    {
     "name": "stderr",
     "output_type": "stream",
     "text": [
      "\n"
     ]
    },
    {
     "name": "stdout",
     "output_type": "stream",
     "text": [
      "\n",
      "      Epoch    GPU_mem   box_loss   cls_loss   dfl_loss  Instances       Size\n"
     ]
    },
    {
     "name": "stderr",
     "output_type": "stream",
     "text": [
      "     99/100      4.18G     0.6451      0.498     0.8533         41        640: 100%|██████████| 7/7 [00:04<00:00,  1.42it/s]\n",
      "                 Class     Images  Instances      Box(P          R      mAP50  mAP50-95): 100%|██████████| 1/1 [00:00<00:00,  1.37it/s]"
     ]
    },
    {
     "name": "stdout",
     "output_type": "stream",
     "text": [
      "                   all         57         94      0.991       0.97      0.989      0.775\n"
     ]
    },
    {
     "name": "stderr",
     "output_type": "stream",
     "text": [
      "\n"
     ]
    },
    {
     "name": "stdout",
     "output_type": "stream",
     "text": [
      "\n",
      "      Epoch    GPU_mem   box_loss   cls_loss   dfl_loss  Instances       Size\n"
     ]
    },
    {
     "name": "stderr",
     "output_type": "stream",
     "text": [
      "    100/100      4.18G     0.6541     0.4926     0.8705         36        640: 100%|██████████| 7/7 [00:05<00:00,  1.38it/s]\n",
      "                 Class     Images  Instances      Box(P          R      mAP50  mAP50-95): 100%|██████████| 1/1 [00:00<00:00,  1.45it/s]"
     ]
    },
    {
     "name": "stdout",
     "output_type": "stream",
     "text": [
      "                   all         57         94      0.992      0.969      0.989      0.775\n"
     ]
    },
    {
     "name": "stderr",
     "output_type": "stream",
     "text": [
      "\n"
     ]
    },
    {
     "name": "stdout",
     "output_type": "stream",
     "text": [
      "\n",
      "100 epochs completed in 0.211 hours.\n",
      "Optimizer stripped from runs\\train\\yolo11n_custom\\weights\\last.pt, 5.5MB\n",
      "Optimizer stripped from runs\\train\\yolo11n_custom\\weights\\best.pt, 5.5MB\n",
      "\n",
      "Validating runs\\train\\yolo11n_custom\\weights\\best.pt...\n",
      "Ultralytics 8.3.148  Python-3.12.10 torch-2.5.1+cu121 CUDA:0 (NVIDIA GeForce RTX 3050 Laptop GPU, 4096MiB)\n",
      "YOLO11n summary (fused): 100 layers, 2,582,737 parameters, 0 gradients, 6.3 GFLOPs\n"
     ]
    },
    {
     "name": "stderr",
     "output_type": "stream",
     "text": [
      "                 Class     Images  Instances      Box(P          R      mAP50  mAP50-95): 100%|██████████| 1/1 [00:00<00:00,  1.66it/s]\n"
     ]
    },
    {
     "name": "stdout",
     "output_type": "stream",
     "text": [
      "                   all         57         94      0.992      0.968      0.991      0.802\n",
      "                KLEBER         50         70      0.996      0.914      0.982      0.803\n",
      "                EDDING         10         11       0.98          1      0.995      0.795\n",
      "                TACKER         13         13          1      0.989      0.995      0.807\n",
      "Speed: 0.3ms preprocess, 4.9ms inference, 0.0ms loss, 1.4ms postprocess per image\n",
      "Results saved to \u001b[1mruns\\train\\yolo11n_custom\u001b[0m\n"
     ]
    }
   ],
   "source": [
    "# ---- Schritt 1: Modell laden ----\n",
    "model = YOLO(MODEL_PATH)\n",
    "\n",
    "# ---- Schritt 2: Training starten ----\n",
    "results = model.train(\n",
    "    data=DATASET_YAML,\n",
    "    epochs=TRAIN_ARGS['epochs'],\n",
    "    imgsz=TRAIN_ARGS['imgsz'],\n",
    "    batch=TRAIN_ARGS['batch'],\n",
    "    device=TRAIN_ARGS['device'],\n",
    "    optimizer=TRAIN_ARGS['optimizer'],\n",
    "    lr0=TRAIN_ARGS['lr0'],\n",
    "    lrf=TRAIN_ARGS['lrf'],\n",
    "    momentum=TRAIN_ARGS['momentum'],\n",
    "    weight_decay=TRAIN_ARGS['weight_decay'],\n",
    "    patience=TRAIN_ARGS['patience'],\n",
    "    cos_lr=TRAIN_ARGS['cos_lr'],\n",
    "    project=TRAIN_ARGS['project'],\n",
    "    name=TRAIN_ARGS['name'],\n",
    "    pretrained=TRAIN_ARGS['pretrained'],\n",
    "    resume=TRAIN_ARGS['resume'],\n",
    "    val=TRAIN_ARGS['val'],\n",
    "    workers=TRAIN_ARGS['workers'],\n",
    "    hsv_h=TRAIN_ARGS['hsv_h'],\n",
    "    hsv_s=TRAIN_ARGS['hsv_s'],\n",
    "    hsv_v=TRAIN_ARGS['hsv_v'],\n",
    "    degrees=TRAIN_ARGS['degrees'],\n",
    "    translate=TRAIN_ARGS['translate'],\n",
    "    scale=TRAIN_ARGS['scale'],\n",
    "    shear=TRAIN_ARGS['shear'],\n",
    "    perspective=TRAIN_ARGS['perspective'],\n",
    "    flipud=TRAIN_ARGS['flipud'],\n",
    "    fliplr=TRAIN_ARGS['fliplr'],\n",
    "    mosaic=TRAIN_ARGS['mosaic'],\n",
    "    mixup=TRAIN_ARGS['mixup'],\n",
    "    box=TRAIN_ARGS['box'],\n",
    "    cls=TRAIN_ARGS['cls'],\n",
    "    dfl=TRAIN_ARGS['dfl'],\n",
    "    save_period=TRAIN_ARGS['save_period'],\n",
    "    exist_ok=TRAIN_ARGS['exist_ok'],\n",
    "    verbose=TRAIN_ARGS['verbose'],\n",
    "    # classes=TRAIN_ARGS['classes'],  # Nur wenn nötig\n",
    "    seed=TRAIN_ARGS['seed']\n",
    ")\n",
    "\n",
    "# Das Training wird jetzt gestartet. Je nach Hardware kann das einige Zeit dauern.\n",
    "# Die Ergebnisse werden im angegebenen Projekt-Ordner gespeichert."
   ]
  }
 ],
 "metadata": {
  "kernelspec": {
   "display_name": "Python 3",
   "language": "python",
   "name": "python3"
  },
  "language_info": {
   "codemirror_mode": {
    "name": "ipython",
    "version": 3
   },
   "file_extension": ".py",
   "mimetype": "text/x-python",
   "name": "python",
   "nbconvert_exporter": "python",
   "pygments_lexer": "ipython3",
   "version": "3.12.10"
  }
 },
 "nbformat": 4,
 "nbformat_minor": 5
}
