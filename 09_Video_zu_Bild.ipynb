{
 "cells": [
  {
   "cell_type": "code",
   "execution_count": 9,
   "id": "79f9fdd6",
   "metadata": {},
   "outputs": [],
   "source": [
    "import cv2\n",
    "import numpy as np\n",
    "import os\n",
    "from PIL import Image\n",
    "import zipfile\n",
    "\n",
    "# Parameter\n",
    "video_path = r'C:\\Users\\jonni\\OneDrive\\Dokumente\\GitHub\\Chairlift_Gefahrenerkennung\\5_Video\\WhatsApp Video 2025-05-12 at 11.45.15.mp4'\n",
    "output_dir = r'C:\\Users\\jonni\\OneDrive\\Dokumente\\GitHub\\Chairlift_Gefahrenerkennung\\01_Data_Jon\\Original'\n",
    "os.makedirs(output_dir, exist_ok=True)\n",
    "\n",
    "num_images = 50      # Gesamtanzahl gewünschter Bilder\n",
    "num_regular = 20     # Davon regelmäßig verteilt\n",
    "num_sturz = num_images - num_regular\n",
    "\n",
    "# Video laden\n",
    "cap = cv2.VideoCapture(video_path)\n",
    "frame_count = int(cap.get(cv2.CAP_PROP_FRAME_COUNT))\n",
    "\n",
    "frames = []\n",
    "frame_diffs = []\n",
    "\n",
    "# Alle Frames und Differenzen berechnen\n",
    "ret, prev_frame = cap.read()\n",
    "if not ret:\n",
    "    raise ValueError(\"Video konnte nicht geladen werden.\")\n",
    "prev_gray = cv2.cvtColor(prev_frame, cv2.COLOR_BGR2GRAY)\n",
    "frames.append(prev_frame)\n",
    "\n",
    "for _ in range(1, frame_count):\n",
    "    ret, curr_frame = cap.read()\n",
    "    if not ret:\n",
    "        break\n",
    "    curr_gray = cv2.cvtColor(curr_frame, cv2.COLOR_BGR2GRAY)\n",
    "    diff = cv2.absdiff(curr_gray, prev_gray)\n",
    "    diff_score = np.sum(diff)\n",
    "    frame_diffs.append(diff_score)\n",
    "    frames.append(curr_frame)\n",
    "    prev_gray = curr_gray\n",
    "\n",
    "cap.release()\n",
    "\n",
    "# Regelmäßige Frames extrahieren\n",
    "regular_indices = np.linspace(0, len(frames) - 1, num_regular, dtype=int)\n",
    "\n",
    "# Bewegungsstärkste Frames extrahieren\n",
    "if len(frame_diffs) < num_sturz:\n",
    "    num_sturz = len(frame_diffs)\n",
    "sturz_indices = np.argsort(frame_diffs)[-num_sturz:] + 1  # +1 weil Differenz ab Frame 1\n",
    "\n",
    "# Kombinieren und sortieren, Duplikate entfernen\n",
    "all_indices = np.unique(np.concatenate([regular_indices, sturz_indices]))\n",
    "all_indices.sort()\n",
    "\n",
    "extracted_files = []\n",
    "for i, idx in enumerate(all_indices):\n",
    "    frame = frames[idx]\n",
    "    img = cv2.cvtColor(frame, cv2.COLOR_BGR2RGB)\n",
    "    img_pil = Image.fromarray(img)\n",
    "    img_path = os.path.join(output_dir, f'frame_{i+1:02d}.jpg')\n",
    "    img_pil.save(img_path)\n",
    "    extracted_files.append(img_path)\n",
    "\n",
    "\n"
   ]
  },
  {
   "cell_type": "code",
   "execution_count": null,
   "id": "6398c05d",
   "metadata": {},
   "outputs": [
    {
     "data": {
      "text/plain": [
       "'C:\\\\Users\\\\jonni\\\\OneDrive\\\\Dokumente\\\\GitHub\\\\Chairlift_Gefahrenerkennung\\\\01_Data_Jon\\\\Original\\\\sturz_frames.zip'"
      ]
     },
     "execution_count": 6,
     "metadata": {},
     "output_type": "execute_result"
    }
   ],
   "source": []
  }
 ],
 "metadata": {
  "kernelspec": {
   "display_name": "Python 3",
   "language": "python",
   "name": "python3"
  },
  "language_info": {
   "codemirror_mode": {
    "name": "ipython",
    "version": 3
   },
   "file_extension": ".py",
   "mimetype": "text/x-python",
   "name": "python",
   "nbconvert_exporter": "python",
   "pygments_lexer": "ipython3",
   "version": "3.12.10"
  }
 },
 "nbformat": 4,
 "nbformat_minor": 5
}
